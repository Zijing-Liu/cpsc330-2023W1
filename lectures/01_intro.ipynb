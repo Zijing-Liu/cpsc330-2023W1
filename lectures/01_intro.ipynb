{
 "cells": [
  {
   "cell_type": "markdown",
   "id": "f66498aa-0b96-4bb2-9744-e9e1232dd21b",
   "metadata": {},
   "source": [
    "![](img/330-banner.png)"
   ]
  },
  {
   "cell_type": "markdown",
   "id": "11e19500-5b1a-47d4-929f-a4e4db5fe3b6",
   "metadata": {},
   "source": [
    "# Lecture 1: Course Introduction \n",
    "\n",
    "UBC 2023-24\n",
    "\n",
    "Instructors: Varada Kolhatkar and Andrew Roth"
   ]
  },
  {
   "cell_type": "code",
   "execution_count": null,
   "id": "a1767a02",
   "metadata": {},
   "outputs": [],
   "source": []
  },
  {
   "cell_type": "markdown",
   "id": "f371b587-97b2-4fa1-8260-90458a91ee10",
   "metadata": {
    "slideshow": {
     "slide_type": "skip"
    }
   },
   "source": [
    "## Imports"
   ]
  },
  {
   "cell_type": "code",
   "execution_count": 1,
   "id": "05be1ee9-5aa2-4b6c-9b20-ccb6d482a60a",
   "metadata": {
    "slideshow": {
     "slide_type": "skip"
    }
   },
   "outputs": [],
   "source": [
    "import numpy as np\n",
    "import pandas as pd\n",
    "import matplotlib.pyplot as plt\n",
    "import os\n",
    "import sys\n",
    "sys.path.append(os.path.join(os.path.abspath(\"\"), \"code\"))\n",
    "from IPython.display import HTML, display\n",
    "from sklearn.feature_extraction.text import CountVectorizer\n",
    "from sklearn.linear_model import LogisticRegression\n",
    "from sklearn.model_selection import train_test_split\n",
    "from sklearn.pipeline import make_pipeline\n",
    "\n",
    "plt.rcParams[\"font.size\"] = 16\n",
    "pd.set_option(\"display.max_colwidth\", 200)"
   ]
  },
  {
   "cell_type": "markdown",
   "id": "21fab386-d11d-4f52-8316-0fe7498dec04",
   "metadata": {
    "slideshow": {
     "slide_type": "skip"
    }
   },
   "source": [
    "## Learning outcomes \n",
    "From this lecture, you will be able to \n",
    "\n",
    "- explain the motivation to study machine learning;\n",
    "- explain supervised machine learning; \n",
    "- navigate through the course material;\n",
    "- be familiar with the policies and how the class is going to run; "
   ]
  },
  {
   "cell_type": "markdown",
   "id": "eff2184c-6a3e-45d6-9316-b9c4567052da",
   "metadata": {},
   "source": [
    "<br><br>"
   ]
  },
  {
   "cell_type": "markdown",
   "id": "6f9ca4dc-ab55-4b0f-b726-18ed20af547b",
   "metadata": {
    "slideshow": {
     "slide_type": "slide"
    }
   },
   "source": [
    "## Characters in this course? \n",
    "\n",
    "- CPSC 330 teaching team (instructors, our course coordinator, and the TAs)\n",
    "- Eva (a fictitious enthusiastic student)\n",
    "- And you all, of course 🙂! "
   ]
  },
  {
   "cell_type": "markdown",
   "id": "69ba0b97-a00e-4785-a19f-e8ed8d033687",
   "metadata": {
    "slideshow": {
     "slide_type": "slide"
    }
   },
   "source": [
    "### Meet your CPSC 330 instructors\n",
    "\n",
    "<img src=\"img/varada.png\" height=\"150\" width=\"150\">\n",
    "    \n",
    "- My name is Varada Kolhatkar [[ʋəɾəda kɔːlɦəʈkər](https://en.wikipedia.org/wiki/International_Phonetic_Alphabet)]\n",
    "- You can call me Varada. If Varada is hard for you, you can call me **V** or **Ada**.\n",
    "- I am an Assistant Professor of Teaching in Computer Science.\n",
    "- I did my Ph.D. in Computational Linguistics at the University of Toronto. \n",
    "- I primarily teach machine learning courses in the [Master of Data Science (MDS) program](https://masterdatascience.ubc.ca/). \n",
    "- Mike Gelbart has designed this course, this is my third time teaching it. \n",
    "- Contact information\n",
    "    - Email: kvarada@cs.ubc.ca\n",
    "    - Office: ICCS 237\n",
    " \n",
    "<img src=\"img/andy.jpg\" height=\"150\" width=\"150\">\n",
    "    \n",
    "- My name is Andrew Roth\n",
    "- You can call me Andy.\n",
    "- I am an Assistant Professor in Computer Science and Pathlogy & Laboratory Medicine.\n",
    "- I am also a Scientist at BC Cancer\n",
    "- I did my Ph.D. in Bioinformatics at UBC. \n",
    "- I primarily teach computational biology courses and now ML! \n",
    "- This is my first time teaching this course. \n",
    "- Contact information\n",
    "    - Email: aroth@cs.ubc.ca\n",
    "    - Office: ICCS 339\n",
    "- My research uses ML and statistics to study cancer."
   ]
  },
  {
   "cell_type": "markdown",
   "id": "5b10b8b7-dd4f-4b10-9dad-32024a67eb65",
   "metadata": {},
   "source": [
    "### Course co-ordinator\n",
    "\n",
    "<img src=\"img/TAs/michelle.jpeg\" height=\"150\" width=\"150\">\n",
    "\n",
    "- Michelle Pang joined the CPSC Course Coordinator team a year ago and it's her second time coordinating 330! Prior to CPSC, she worked in various roles at UBC and has over 5 years of program management and student advising experience. In her spare time, you can find her trying new restaurants around Vancouver, going for long walks, and hitting the gym.\n",
    "- Email: cpsc330-admin@cs.ubc.ca"
   ]
  },
  {
   "cell_type": "markdown",
   "id": "8552d088-c570-41c8-b9e7-dace8a69162b",
   "metadata": {
    "slideshow": {
     "slide_type": "slide"
    }
   },
   "source": [
    "## Meet CPSC 330 TAs\n",
    "|               |                               |\n",
    "| :--------------------------------------- | :-----------------   | \n",
    "| <img src=\"img/TAs/Vedant.jpg\" alt=\"TA1\" class=\"bg-primary\" width=\"400px\"/>| Vedant (Vee) Bahel is a 2nd year MSc in CS student. He works in the Human-AI Interaction lab at UBC. His current area of research aims at personalisation of Intelligent Tutoring System for learners of different cognitive abilities. He has been a TEDx speaker. | \n",
    "| <img src=\"img/TAs/Miranda.png\" alt=\"TA2\" class=\"bg-primary\" width=\"400px\"/>| Miranda Chan is a final year student in the Bachelor of Computer Science program. Prior to CS, she was a Psychology major, where computational linguistics brought her into the coding world. When she’s not working on her assignments, you can find her exploring yet another new restaurant or cafe in town. | \n",
    "| <img src=\"img/TAs/yeojun.jpg\" alt=\"TA3\" class=\"bg-primary\" width=\"400px\"/>| Yeojun is a 4th year BSc student in computer science with interests in natural language processing and deep learning. She has experience working with ML in her internship and programming competitions. Outside of classes, she likes to gym, boulder and organize events with WiCS and nwPlus. | \n",
    "| <img src=\"img/TAs/Chen.JPEG\" alt=\"TA3\" class=\"bg-primary\" width=\"400px\"/>| Chen Liu is a second-year MEng student in ECE. He’s currently working for DaoAI Robotics Inc. as a camera vision engineer. He is also focusing on the research of biomedical image segmentation. | \n",
    "| <img src=\"img/TAs/Justice.jpg\" alt=\"TA4\" class=\"bg-primary\" width=\"400px\"/>| Justice Sefas is a third year PhD-track Master's student in CS. His research is in rare event simulation and estimation of the probability of failure of control systems. He's always happy to discuss math, Emacs, and running. | \n",
    "| <img src=\"img/TAs/Wilson.jpg\" alt=\"TA5\" class=\"bg-primary\" width=\"400px\"/>| Wilson Tu is a 1st year MSc CS student with co-supervision from the Faculty of Medicine. His current research interests revolves around using Variational Autoencoders to extract useful information from Prostate Cancer tumor samples using different sequencing technologies. | \n",
    "| <img src=\"img/TAs/Mahsa.jpg\" alt=\"TA6\" class=\"bg-primary\" width=\"400px\"/>| Mahsa Zarei is a 3rd year Ph.D.-direct chemistry student holding a BSc in Applied Chemistry and Statistics. Collaborating with Miraterra Technologies Corporation to develop a novel sensor for precise Carbon Measurement, Reporting, and Verification (MRV). Her research focused on using optics, vibrational spectroscopy, signal processing, and deep learning.  She will be joining the Bio-Optics Lab at Harvard Medical School to work on Laser Particles (LPs) data analysis. | \n",
    "\n"
   ]
  },
  {
   "cell_type": "markdown",
   "id": "eb3c8da9-d09e-4830-8a3e-296067ec24c4",
   "metadata": {
    "jp-MarkdownHeadingCollapsed": true,
    "slideshow": {
     "slide_type": "slide"
    },
    "tags": []
   },
   "source": [
    "### Meet Eva (a fictitious persona)!\n",
    "\n",
    "![](img/eva-hi.png)\n",
    "\n",
    "Eva is among one of you. She has some experience in Python programming. She knows machine learning as a buzz word. During her recent internship, she has developed some interest and curiosity in the field. She wants to learn what is it and how to use it. She is a curious person and usually has a lot of questions!  "
   ]
  },
  {
   "cell_type": "markdown",
   "id": "b6b249a4-ba67-4a48-b86f-68eedf51296a",
   "metadata": {
    "slideshow": {
     "slide_type": "slide"
    }
   },
   "source": [
    "### You all\n",
    "\n",
    "- Since we're going to spend the semester with each other, I would like to know you a bit better. \n",
    "- Please fill out [Getting to know you survey](https://canvas.ubc.ca/courses/101888/quizzes) when you get a chance. "
   ]
  },
  {
   "cell_type": "markdown",
   "id": "94284d57-498d-4b7d-802a-0510f508766c",
   "metadata": {
    "slideshow": {
     "slide_type": "slide"
    }
   },
   "source": [
    "- Go to our course webpage: \n",
    "\n",
    "> https://github.com/UBC-CS/cpsc330-2023W1\n",
    "\n",
    "- Follow the link to Course Jupyter book\n",
    "\n",
    "> https://ubc-cs.github.io/cpsc330-2023W1/README.html\n",
    "\n",
    "You'll see the lecture notes rendered as an html there. "
   ]
  },
  {
   "cell_type": "markdown",
   "id": "7d2bc95e-1b7d-4dcd-b0f6-1bb6238763e3",
   "metadata": {
    "slideshow": {
     "slide_type": "skip"
    }
   },
   "source": [
    "```{admonition} Attention!!\n",
    ":class: important\n",
    "You are welcome to ask questions by raising your hand.\n",
    "There is also [a reflection Google Document](https://docs.google.com/document/d/1LWiR7dzzNNwOJR72LWgC25priLXGdyxEq9FWBia3wmw/edit?usp=sharing) for this course for your questions/comments/reflections. It will be great if you can write about your takeaways, struggle points, and general comments in this document so that I'll try to address those points in the next lecture. \n",
    "```"
   ]
  },
  {
   "cell_type": "markdown",
   "id": "e2188207-a544-4d29-acee-534686767b18",
   "metadata": {
    "slideshow": {
     "slide_type": "slide"
    }
   },
   "source": [
    "## Why machine learning (ML)? [[video](https://www.youtube.com/watch?v=-1hTcS5ZE4w&t=1s)]"
   ]
  },
  {
   "cell_type": "markdown",
   "id": "cbe5180a-05be-4f3a-af63-8b642c8655d2",
   "metadata": {},
   "source": [
    "```{seealso}\n",
    "Check out [the accompanying video](https://www.youtube.com/watch?v=-1hTcS5ZE4w&t=1s) on this material. \n",
    "```"
   ]
  },
  {
   "cell_type": "markdown",
   "id": "e3fd30e2-09cf-42a8-9fb9-c2162492ac10",
   "metadata": {
    "slideshow": {
     "slide_type": "slide"
    }
   },
   "source": [
    "### Prevalence of ML\n",
    "\n",
    "Let's look at some examples. \n",
    "\n",
    "<!-- <img src=\"../img/ml-examples.png\" height=\"1000\" width=\"1000\">  -->\n",
    "![](img/ml-examples.png)\n"
   ]
  },
  {
   "cell_type": "markdown",
   "id": "3173c908-063f-42d1-9d5b-b8276b95dff0",
   "metadata": {
    "slideshow": {
     "slide_type": "slide"
    }
   },
   "source": [
    "- Image sources \n",
    "    - [Voice assistants](https://geeksfl.com/blog/best-voice-assistant/)\n",
    "    - [Google News](https://news.google.com)    \n",
    "    - [Recommendation systems](https://en.wikipedia.org/wiki/Recommender_system)\n",
    "    - [Face Recognition source](https://startupleague.online/blog/3dss-tech-facial-recognition-technology/)\n",
    "    - [Auto-completion](https://9to5google.com/2020/08/10/android-11-autofill-keyboard/)\n",
    "    - [Stock market prediction](https://hbr.org/2019/12/what-machine-learning-will-mean-for-asset-managers)    \n",
    "    - [Character recognition](https://en.wikipedia.org/wiki/Handwriting_recognition)    \n",
    "    - [AlphaGo](https://deepmind.com/alphago-china)\n",
    "    - [Self-driving cars](https://mc.ai/artificial-intelligence-in-self-driving-cars%E2%80%8A-%E2%80%8Ahow-far-have-we-gotten/)\n",
    "    - [Drug discovery](https://www.nature.com/articles/d41586-018-05267-x)\n",
    "    - [Cancer detection](https://venturebeat.com/2018/10/12/google-ai-claims-99-accuracy-in-metastatic-breast-cancer-detection/)"
   ]
  },
  {
   "cell_type": "markdown",
   "id": "0dc9c455-d58e-4168-bd21-3f2f160050f2",
   "metadata": {
    "slideshow": {
     "slide_type": "slide"
    }
   },
   "source": [
    "### Saving time and scaling products \n",
    "\n",
    "- Imagine writing a program for spam identification, i.e., whether an email is spam or non-spam. \n",
    "- Traditional programming \n",
    "    - Come up with rules using human understanding of spam messages. \n",
    "    - Time consuming and hard to come up with robust set of rules. \n",
    "- Machine learning\n",
    "    - Collect large amount of data of spam and non-spam emails and let the machine learning algorithm figure out rules. \n",
    "- With machine learning, you're likely to \n",
    "    - Save time \n",
    "    - Customize and scale products "
   ]
  },
  {
   "cell_type": "markdown",
   "id": "d6785fa9-4817-44ff-adc1-c3b78b811a54",
   "metadata": {
    "slideshow": {
     "slide_type": "skip"
    }
   },
   "source": [
    "<br><br>"
   ]
  },
  {
   "cell_type": "markdown",
   "id": "c9c7aae1-e956-4616-86d9-d5acec66de50",
   "metadata": {
    "slideshow": {
     "slide_type": "slide"
    }
   },
   "source": [
    "## Supervised machine learning "
   ]
  },
  {
   "cell_type": "markdown",
   "id": "813b1ccb-5a6b-428a-9fc3-d237d7786f4c",
   "metadata": {
    "slideshow": {
     "slide_type": "slide"
    }
   },
   "source": [
    "### Types of machine learning\n",
    "\n",
    "Here are some typical learning problems. \n",
    "\n",
    "- **Supervised learning** ([Gmail spam filtering](https://support.google.com/a/answer/2368132?hl=en))\n",
    "    - Training a model from input data and its corresponding targets to predict targets for new examples.     \n",
    "- Unsupervised learning ([Google News](https://news.google.com/))\n",
    "    - Training a model to find patterns in a dataset, typically an unlabeled dataset.\n",
    "- Reinforcement learning ([AlphaGo](https://deepmind.com/research/case-studies/alphago-the-story-so-far))\n",
    "    - A family of algorithms for finding suitable actions to take in a given situation in order to maximize a reward. \n",
    "- Recommendation systems ([Amazon item recommendation system](https://www.cs.umd.edu/~samir/498/Amazon-Recommendations.pdf))\n",
    "    - Predict the \"rating\" or \"preference\" a user would give to an item.    "
   ]
  },
  {
   "cell_type": "markdown",
   "id": "325190f1-78b3-46d5-9c08-27f534424811",
   "metadata": {
    "slideshow": {
     "slide_type": "slide"
    }
   },
   "source": [
    "### What is supervised machine learning (ML)? \n",
    "\n",
    "- Training data comprises a set of observations ($X$) and their corresponding targets ($y$). \n",
    "- We wish to find a model function $f$ that relates $X$ to $y$.\n",
    "- We use the model function to predict targets of new examples. \n",
    "\n",
    "![](img/sup-learning.png)\n",
    "<!-- <img src=\"img/sup-learning.png\" height=\"600\" width=\"600\">  -->\n"
   ]
  },
  {
   "cell_type": "markdown",
   "id": "654ed546-6135-40b8-ac7a-fc8b16980281",
   "metadata": {
    "slideshow": {
     "slide_type": "slide"
    }
   },
   "source": [
    "### Example: Predict whether a message is spam or not "
   ]
  },
  {
   "cell_type": "markdown",
   "id": "b7329c29-118e-4fae-b670-69091120258a",
   "metadata": {},
   "source": [
    "#### Input features $X$ and target $y$"
   ]
  },
  {
   "cell_type": "markdown",
   "id": "9e13ac7b-ebcb-4d39-b869-7b8131f087fb",
   "metadata": {},
   "source": [
    "```{note}\n",
    "Do not worry about the code and syntax for now. \n",
    "```"
   ]
  },
  {
   "cell_type": "markdown",
   "id": "ba48d1a2-425a-409e-adf6-1bde99e2fe8d",
   "metadata": {
    "slideshow": {
     "slide_type": "-"
    }
   },
   "source": [
    "```{note}\n",
    "Download SMS Spam Collection Dataset from [here](https://www.kaggle.com/uciml/sms-spam-collection-dataset). \n",
    "```"
   ]
  },
  {
   "cell_type": "markdown",
   "id": "f8fa2de9-b37a-40f3-9189-b84f940903fd",
   "metadata": {
    "slideshow": {
     "slide_type": "slide"
    }
   },
   "source": [
    "#### Training a supervised machine learning model with $X$ and $y$"
   ]
  },
  {
   "cell_type": "code",
   "execution_count": 2,
   "id": "f4511fed-6251-4301-9217-240723c2075e",
   "metadata": {
    "tags": [
     "hide-input"
    ]
   },
   "outputs": [
    {
     "data": {
      "text/html": [
       "<table border=\"1\" class=\"dataframe\">\n",
       "  <thead>\n",
       "    <tr style=\"text-align: right;\">\n",
       "      <th>target</th>\n",
       "      <th>sms</th>\n",
       "    </tr>\n",
       "  </thead>\n",
       "  <tbody>\n",
       "    <tr>\n",
       "      <td>spam</td>\n",
       "      <td>LookAtMe!: Thanks for your purchase of a video clip from LookAtMe!, you've been charged 35p. Think you can do better? Why not send a video in a MMSto 32323.</td>\n",
       "    </tr>\n",
       "    <tr>\n",
       "      <td>ham</td>\n",
       "      <td>Aight, I'll hit you up when I get some cash</td>\n",
       "    </tr>\n",
       "    <tr>\n",
       "      <td>ham</td>\n",
       "      <td>Don no da:)whats you plan?</td>\n",
       "    </tr>\n",
       "    <tr>\n",
       "      <td>ham</td>\n",
       "      <td>Going to take your babe out ?</td>\n",
       "    </tr>\n",
       "    <tr>\n",
       "      <td>ham</td>\n",
       "      <td>No need lar. Jus testing e phone card. Dunno network not gd i thk. Me waiting 4 my sis 2 finish bathing so i can bathe. Dun disturb u liao u cleaning ur room.</td>\n",
       "    </tr>\n",
       "  </tbody>\n",
       "</table>"
      ],
      "text/plain": [
       "<IPython.core.display.HTML object>"
      ]
     },
     "execution_count": 2,
     "metadata": {},
     "output_type": "execute_result"
    }
   ],
   "source": [
    "sms_df = pd.read_csv(\"data/spam.csv\", encoding=\"latin-1\")\n",
    "sms_df = sms_df.drop(columns = [\"Unnamed: 2\", \"Unnamed: 3\", \"Unnamed: 4\"])\n",
    "sms_df = sms_df.rename(columns={\"v1\": \"target\", \"v2\": \"sms\"})\n",
    "train_df, test_df = train_test_split(sms_df, test_size=0.10, random_state=42)\n",
    "HTML(train_df.head().to_html(index=False))"
   ]
  },
  {
   "cell_type": "code",
   "execution_count": 3,
   "id": "6f38510c-ad87-4d48-b267-cfe7bf44aa83",
   "metadata": {
    "slideshow": {
     "slide_type": "-"
    },
    "tags": []
   },
   "outputs": [],
   "source": [
    "X_train, y_train = train_df[\"sms\"], train_df[\"target\"]\n",
    "X_test, y_test = test_df[\"sms\"], test_df[\"target\"]\n",
    "clf = make_pipeline(CountVectorizer(max_features=5000), LogisticRegression(max_iter=5000))\n",
    "clf.fit(X_train, y_train);"
   ]
  },
  {
   "cell_type": "markdown",
   "id": "77f1152c-5952-47a6-b8dd-30ddb444ac9c",
   "metadata": {
    "slideshow": {
     "slide_type": "slide"
    }
   },
   "source": [
    "#### Predicting on unseen data using the trained model"
   ]
  },
  {
   "cell_type": "code",
   "execution_count": 4,
   "id": "e20d2921-a8d0-4b63-8756-3bb5fb5c869a",
   "metadata": {},
   "outputs": [
    {
     "data": {
      "text/html": [
       "<div>\n",
       "<style scoped>\n",
       "    .dataframe tbody tr th:only-of-type {\n",
       "        vertical-align: middle;\n",
       "    }\n",
       "\n",
       "    .dataframe tbody tr th {\n",
       "        vertical-align: top;\n",
       "    }\n",
       "\n",
       "    .dataframe thead th {\n",
       "        text-align: right;\n",
       "    }\n",
       "</style>\n",
       "<table border=\"1\" class=\"dataframe\">\n",
       "  <thead>\n",
       "    <tr style=\"text-align: right;\">\n",
       "      <th></th>\n",
       "      <th>sms</th>\n",
       "    </tr>\n",
       "  </thead>\n",
       "  <tbody>\n",
       "    <tr>\n",
       "      <th>3245</th>\n",
       "      <td>Funny fact Nobody teaches volcanoes 2 erupt, tsunamis 2 arise, hurricanes 2 sway aroundn no 1 teaches hw 2 choose a wife Natural disasters just happens</td>\n",
       "    </tr>\n",
       "    <tr>\n",
       "      <th>944</th>\n",
       "      <td>I sent my scores to sophas and i had to do secondary application for a few schools. I think if you are thinking of applying, do a research on cost also. Contact joke ogunrinde, her school is one m...</td>\n",
       "    </tr>\n",
       "    <tr>\n",
       "      <th>1044</th>\n",
       "      <td>We know someone who you know that fancies you. Call 09058097218 to find out who. POBox 6, LS15HB 150p</td>\n",
       "    </tr>\n",
       "    <tr>\n",
       "      <th>2484</th>\n",
       "      <td>Only if you promise your getting out as SOON as you can. And you'll text me in the morning to let me know you made it in ok.</td>\n",
       "    </tr>\n",
       "  </tbody>\n",
       "</table>\n",
       "</div>"
      ],
      "text/plain": [
       "                                                                                                                                                                                                          sms\n",
       "3245                                                  Funny fact Nobody teaches volcanoes 2 erupt, tsunamis 2 arise, hurricanes 2 sway aroundn no 1 teaches hw 2 choose a wife Natural disasters just happens\n",
       "944   I sent my scores to sophas and i had to do secondary application for a few schools. I think if you are thinking of applying, do a research on cost also. Contact joke ogunrinde, her school is one m...\n",
       "1044                                                                                                    We know someone who you know that fancies you. Call 09058097218 to find out who. POBox 6, LS15HB 150p\n",
       "2484                                                                             Only if you promise your getting out as SOON as you can. And you'll text me in the morning to let me know you made it in ok."
      ]
     },
     "execution_count": 4,
     "metadata": {},
     "output_type": "execute_result"
    }
   ],
   "source": [
    "pd.DataFrame(X_test[0:4])"
   ]
  },
  {
   "cell_type": "markdown",
   "id": "5d1e8469-e307-4136-a794-02b404de9756",
   "metadata": {},
   "source": [
    "```{note}\n",
    "Do not worry about the code and syntax for now. \n",
    "```"
   ]
  },
  {
   "cell_type": "code",
   "execution_count": 5,
   "id": "ec41e07b-5c3b-4a44-ad64-519c9dc4bda7",
   "metadata": {
    "slideshow": {
     "slide_type": "slide"
    },
    "tags": []
   },
   "outputs": [
    {
     "data": {
      "text/html": [
       "<style type=\"text/css\">\n",
       "#T_ac7f1_row0_col0, #T_ac7f1_row0_col1, #T_ac7f1_row1_col0, #T_ac7f1_row1_col1, #T_ac7f1_row2_col0, #T_ac7f1_row2_col1, #T_ac7f1_row3_col0, #T_ac7f1_row3_col1 {\n",
       "  text-align: left;\n",
       "}\n",
       "</style>\n",
       "<table id=\"T_ac7f1\">\n",
       "  <thead>\n",
       "    <tr>\n",
       "      <th class=\"blank level0\" >&nbsp;</th>\n",
       "      <th id=\"T_ac7f1_level0_col0\" class=\"col_heading level0 col0\" >sms</th>\n",
       "      <th id=\"T_ac7f1_level0_col1\" class=\"col_heading level0 col1\" >spam_predictions</th>\n",
       "    </tr>\n",
       "  </thead>\n",
       "  <tbody>\n",
       "    <tr>\n",
       "      <th id=\"T_ac7f1_level0_row0\" class=\"row_heading level0 row0\" >3245</th>\n",
       "      <td id=\"T_ac7f1_row0_col0\" class=\"data row0 col0\" >Funny fact Nobody teaches volcanoes 2 erupt, tsunamis 2 arise, hurricanes 2 sway aroundn no 1 teaches hw 2 choose a wife Natural disasters just happens</td>\n",
       "      <td id=\"T_ac7f1_row0_col1\" class=\"data row0 col1\" >ham</td>\n",
       "    </tr>\n",
       "    <tr>\n",
       "      <th id=\"T_ac7f1_level0_row1\" class=\"row_heading level0 row1\" >944</th>\n",
       "      <td id=\"T_ac7f1_row1_col0\" class=\"data row1 col0\" >I sent my scores to sophas and i had to do secondary application for a few schools. I think if you are thinking of applying, do a research on cost also. Contact joke ogunrinde, her school is one me the less expensive ones</td>\n",
       "      <td id=\"T_ac7f1_row1_col1\" class=\"data row1 col1\" >ham</td>\n",
       "    </tr>\n",
       "    <tr>\n",
       "      <th id=\"T_ac7f1_level0_row2\" class=\"row_heading level0 row2\" >1044</th>\n",
       "      <td id=\"T_ac7f1_row2_col0\" class=\"data row2 col0\" >We know someone who you know that fancies you. Call 09058097218 to find out who. POBox 6, LS15HB 150p</td>\n",
       "      <td id=\"T_ac7f1_row2_col1\" class=\"data row2 col1\" >spam</td>\n",
       "    </tr>\n",
       "    <tr>\n",
       "      <th id=\"T_ac7f1_level0_row3\" class=\"row_heading level0 row3\" >2484</th>\n",
       "      <td id=\"T_ac7f1_row3_col0\" class=\"data row3 col0\" >Only if you promise your getting out as SOON as you can. And you'll text me in the morning to let me know you made it in ok.</td>\n",
       "      <td id=\"T_ac7f1_row3_col1\" class=\"data row3 col1\" >ham</td>\n",
       "    </tr>\n",
       "  </tbody>\n",
       "</table>\n"
      ],
      "text/plain": [
       "<pandas.io.formats.style.Styler at 0x105d317e0>"
      ]
     },
     "execution_count": 5,
     "metadata": {},
     "output_type": "execute_result"
    }
   ],
   "source": [
    "pred_dict = {\n",
    "    \"sms\": X_test[0:4],\n",
    "    \"spam_predictions\": clf.predict(X_test[0:4]),\n",
    "}\n",
    "pred_df = pd.DataFrame(pred_dict)\n",
    "pred_df.style.set_properties(**{\"text-align\": \"left\"})"
   ]
  },
  {
   "cell_type": "markdown",
   "id": "7a097504-cfaa-4ad1-9911-78a93ab4b3ba",
   "metadata": {},
   "source": [
    "**We have accurately predicted labels for the unseen text messages above!**"
   ]
  },
  {
   "cell_type": "markdown",
   "id": "f732497a-8cf9-40fc-8ee5-7f991bac314c",
   "metadata": {},
   "source": [
    "<br><br>"
   ]
  },
  {
   "cell_type": "markdown",
   "id": "212f3d9a-87d1-482a-87de-ef52974ecbbf",
   "metadata": {
    "slideshow": {
     "slide_type": "slide"
    }
   },
   "source": [
    "### (Supervised) machine learning: popular definition \n",
    "<blockquote>\n",
    "A field of study that gives computers the ability to learn without being explicitly programmed. <br> -- Arthur Samuel (1959)\n",
    "</blockquote>\n",
    "\n",
    "ML is a different way to think about problem solving.\n",
    "\n",
    "![](img/traditional-programming-vs-ML.png)\n",
    "<!-- <img src=\"img/traditional-programming-vs-ML.png\" height=\"700\" width=\"700\">  -->"
   ]
  },
  {
   "cell_type": "markdown",
   "id": "3ecf610e-1da9-4331-8884-7c7c0a70b85e",
   "metadata": {
    "slideshow": {
     "slide_type": "slide"
    }
   },
   "source": [
    "### Examples\n",
    "\n",
    "Let's look at some concrete examples of supervised machine learning. "
   ]
  },
  {
   "cell_type": "markdown",
   "id": "09ef1355-a85b-406a-9fcb-c730da77d28e",
   "metadata": {
    "slideshow": {
     "slide_type": "-"
    }
   },
   "source": [
    "```{note}\n",
    "Do not worry about the code at this point. Just focus on the input and output in each example.\n",
    "```"
   ]
  },
  {
   "cell_type": "markdown",
   "id": "9e6ba6a2-012a-445f-8787-abc1e9d7a800",
   "metadata": {
    "slideshow": {
     "slide_type": "slide"
    }
   },
   "source": [
    "#### Example 1: Predicting whether a patient has a liver disease or not"
   ]
  },
  {
   "cell_type": "markdown",
   "id": "928773b1-d9a0-4197-9933-6bc803e0a123",
   "metadata": {
    "slideshow": {
     "slide_type": "-"
    }
   },
   "source": [
    "##### Input data\n",
    "\n",
    "Suppose we are interested in predicting whether a patient has the disease or not. We are given some tabular data with inputs and outputs of liver patients, as shown below. The data contains a number of input features and a special column called \"Target\" which is the output we are interested in predicting. "
   ]
  },
  {
   "cell_type": "markdown",
   "id": "99bb7174-190b-4fbd-9f58-f66818a608ad",
   "metadata": {
    "slideshow": {
     "slide_type": "-"
    }
   },
   "source": [
    "```{note}\n",
    "Download the data from [here](https://www.kaggle.com/uciml/indian-liver-patient-records). \n",
    "```"
   ]
  },
  {
   "cell_type": "markdown",
   "id": "97d77aa9-7e40-4108-9f6b-3b638fd2a5ea",
   "metadata": {
    "slideshow": {
     "slide_type": "-"
    }
   },
   "source": [
    "```{note}\n",
    "Download the data from [here](https://www.kaggle.com/uciml/indian-liver-patient-records). \n",
    "```"
   ]
  },
  {
   "cell_type": "code",
   "execution_count": 6,
   "id": "86996f4a-2365-40d7-b3d0-cb67f511ee31",
   "metadata": {
    "slideshow": {
     "slide_type": "slide"
    },
    "tags": [
     "hide-input"
    ]
   },
   "outputs": [
    {
     "data": {
      "text/html": [
       "<table border=\"1\" class=\"dataframe\">\n",
       "  <thead>\n",
       "    <tr style=\"text-align: right;\">\n",
       "      <th>Age</th>\n",
       "      <th>Total_Bilirubin</th>\n",
       "      <th>Direct_Bilirubin</th>\n",
       "      <th>Alkaline_Phosphotase</th>\n",
       "      <th>Alamine_Aminotransferase</th>\n",
       "      <th>Aspartate_Aminotransferase</th>\n",
       "      <th>Total_Protiens</th>\n",
       "      <th>Albumin</th>\n",
       "      <th>Albumin_and_Globulin_Ratio</th>\n",
       "      <th>Target</th>\n",
       "    </tr>\n",
       "  </thead>\n",
       "  <tbody>\n",
       "    <tr>\n",
       "      <td>40</td>\n",
       "      <td>14.5</td>\n",
       "      <td>6.4</td>\n",
       "      <td>358</td>\n",
       "      <td>50</td>\n",
       "      <td>75</td>\n",
       "      <td>5.7</td>\n",
       "      <td>2.1</td>\n",
       "      <td>0.50</td>\n",
       "      <td>Disease</td>\n",
       "    </tr>\n",
       "    <tr>\n",
       "      <td>33</td>\n",
       "      <td>0.7</td>\n",
       "      <td>0.2</td>\n",
       "      <td>256</td>\n",
       "      <td>21</td>\n",
       "      <td>30</td>\n",
       "      <td>8.5</td>\n",
       "      <td>3.9</td>\n",
       "      <td>0.80</td>\n",
       "      <td>Disease</td>\n",
       "    </tr>\n",
       "    <tr>\n",
       "      <td>24</td>\n",
       "      <td>0.7</td>\n",
       "      <td>0.2</td>\n",
       "      <td>188</td>\n",
       "      <td>11</td>\n",
       "      <td>10</td>\n",
       "      <td>5.5</td>\n",
       "      <td>2.3</td>\n",
       "      <td>0.71</td>\n",
       "      <td>No Disease</td>\n",
       "    </tr>\n",
       "    <tr>\n",
       "      <td>60</td>\n",
       "      <td>0.7</td>\n",
       "      <td>0.2</td>\n",
       "      <td>171</td>\n",
       "      <td>31</td>\n",
       "      <td>26</td>\n",
       "      <td>7.0</td>\n",
       "      <td>3.5</td>\n",
       "      <td>1.00</td>\n",
       "      <td>No Disease</td>\n",
       "    </tr>\n",
       "    <tr>\n",
       "      <td>18</td>\n",
       "      <td>0.8</td>\n",
       "      <td>0.2</td>\n",
       "      <td>199</td>\n",
       "      <td>34</td>\n",
       "      <td>31</td>\n",
       "      <td>6.5</td>\n",
       "      <td>3.5</td>\n",
       "      <td>1.16</td>\n",
       "      <td>No Disease</td>\n",
       "    </tr>\n",
       "  </tbody>\n",
       "</table>"
      ],
      "text/plain": [
       "<IPython.core.display.HTML object>"
      ]
     },
     "execution_count": 6,
     "metadata": {},
     "output_type": "execute_result"
    }
   ],
   "source": [
    "df = pd.read_csv(\"data/indian_liver_patient.csv\")\n",
    "df = df.drop(columns = [\"Gender\"])\n",
    "df[\"Dataset\"] = df[\"Dataset\"].replace(1, \"Disease\")\n",
    "df[\"Dataset\"] = df[\"Dataset\"].replace(2, \"No Disease\")\n",
    "df.rename(columns={\"Dataset\": \"Target\"}, inplace=True)\n",
    "train_df, test_df = train_test_split(df, test_size=4, random_state=42)\n",
    "HTML(train_df.head().to_html(index=False))"
   ]
  },
  {
   "cell_type": "markdown",
   "id": "f4427867-3135-45ec-b850-526d3a502317",
   "metadata": {
    "slideshow": {
     "slide_type": "slide"
    }
   },
   "source": [
    "##### Building a supervise machine learning model\n",
    "\n",
    "Let's train a supervised machine learning model with the input and output above. "
   ]
  },
  {
   "cell_type": "markdown",
   "id": "527d8d33-9234-4f91-9c58-c4f0b7307b89",
   "metadata": {},
   "source": []
  },
  {
   "cell_type": "code",
   "execution_count": 7,
   "id": "e82be94f-e169-41e7-93a4-124f692c82d3",
   "metadata": {},
   "outputs": [
    {
     "data": {
      "text/html": [
       "<style>#sk-container-id-1 {color: black;}#sk-container-id-1 pre{padding: 0;}#sk-container-id-1 div.sk-toggleable {background-color: white;}#sk-container-id-1 label.sk-toggleable__label {cursor: pointer;display: block;width: 100%;margin-bottom: 0;padding: 0.3em;box-sizing: border-box;text-align: center;}#sk-container-id-1 label.sk-toggleable__label-arrow:before {content: \"▸\";float: left;margin-right: 0.25em;color: #696969;}#sk-container-id-1 label.sk-toggleable__label-arrow:hover:before {color: black;}#sk-container-id-1 div.sk-estimator:hover label.sk-toggleable__label-arrow:before {color: black;}#sk-container-id-1 div.sk-toggleable__content {max-height: 0;max-width: 0;overflow: hidden;text-align: left;background-color: #f0f8ff;}#sk-container-id-1 div.sk-toggleable__content pre {margin: 0.2em;color: black;border-radius: 0.25em;background-color: #f0f8ff;}#sk-container-id-1 input.sk-toggleable__control:checked~div.sk-toggleable__content {max-height: 200px;max-width: 100%;overflow: auto;}#sk-container-id-1 input.sk-toggleable__control:checked~label.sk-toggleable__label-arrow:before {content: \"▾\";}#sk-container-id-1 div.sk-estimator input.sk-toggleable__control:checked~label.sk-toggleable__label {background-color: #d4ebff;}#sk-container-id-1 div.sk-label input.sk-toggleable__control:checked~label.sk-toggleable__label {background-color: #d4ebff;}#sk-container-id-1 input.sk-hidden--visually {border: 0;clip: rect(1px 1px 1px 1px);clip: rect(1px, 1px, 1px, 1px);height: 1px;margin: -1px;overflow: hidden;padding: 0;position: absolute;width: 1px;}#sk-container-id-1 div.sk-estimator {font-family: monospace;background-color: #f0f8ff;border: 1px dotted black;border-radius: 0.25em;box-sizing: border-box;margin-bottom: 0.5em;}#sk-container-id-1 div.sk-estimator:hover {background-color: #d4ebff;}#sk-container-id-1 div.sk-parallel-item::after {content: \"\";width: 100%;border-bottom: 1px solid gray;flex-grow: 1;}#sk-container-id-1 div.sk-label:hover label.sk-toggleable__label {background-color: #d4ebff;}#sk-container-id-1 div.sk-serial::before {content: \"\";position: absolute;border-left: 1px solid gray;box-sizing: border-box;top: 0;bottom: 0;left: 50%;z-index: 0;}#sk-container-id-1 div.sk-serial {display: flex;flex-direction: column;align-items: center;background-color: white;padding-right: 0.2em;padding-left: 0.2em;position: relative;}#sk-container-id-1 div.sk-item {position: relative;z-index: 1;}#sk-container-id-1 div.sk-parallel {display: flex;align-items: stretch;justify-content: center;background-color: white;position: relative;}#sk-container-id-1 div.sk-item::before, #sk-container-id-1 div.sk-parallel-item::before {content: \"\";position: absolute;border-left: 1px solid gray;box-sizing: border-box;top: 0;bottom: 0;left: 50%;z-index: -1;}#sk-container-id-1 div.sk-parallel-item {display: flex;flex-direction: column;z-index: 1;position: relative;background-color: white;}#sk-container-id-1 div.sk-parallel-item:first-child::after {align-self: flex-end;width: 50%;}#sk-container-id-1 div.sk-parallel-item:last-child::after {align-self: flex-start;width: 50%;}#sk-container-id-1 div.sk-parallel-item:only-child::after {width: 0;}#sk-container-id-1 div.sk-dashed-wrapped {border: 1px dashed gray;margin: 0 0.4em 0.5em 0.4em;box-sizing: border-box;padding-bottom: 0.4em;background-color: white;}#sk-container-id-1 div.sk-label label {font-family: monospace;font-weight: bold;display: inline-block;line-height: 1.2em;}#sk-container-id-1 div.sk-label-container {text-align: center;}#sk-container-id-1 div.sk-container {/* jupyter's `normalize.less` sets `[hidden] { display: none; }` but bootstrap.min.css set `[hidden] { display: none !important; }` so we also need the `!important` here to be able to override the default hidden behavior on the sphinx rendered scikit-learn.org. See: https://github.com/scikit-learn/scikit-learn/issues/21755 */display: inline-block !important;position: relative;}#sk-container-id-1 div.sk-text-repr-fallback {display: none;}</style><div id=\"sk-container-id-1\" class=\"sk-top-container\"><div class=\"sk-text-repr-fallback\"><pre>LGBMClassifier(random_state=123, verbose=-1)</pre><b>In a Jupyter environment, please rerun this cell to show the HTML representation or trust the notebook. <br />On GitHub, the HTML representation is unable to render, please try loading this page with nbviewer.org.</b></div><div class=\"sk-container\" hidden><div class=\"sk-item\"><div class=\"sk-estimator sk-toggleable\"><input class=\"sk-toggleable__control sk-hidden--visually\" id=\"sk-estimator-id-1\" type=\"checkbox\" checked><label for=\"sk-estimator-id-1\" class=\"sk-toggleable__label sk-toggleable__label-arrow\">LGBMClassifier</label><div class=\"sk-toggleable__content\"><pre>LGBMClassifier(random_state=123, verbose=-1)</pre></div></div></div></div></div>"
      ],
      "text/plain": [
       "LGBMClassifier(random_state=123, verbose=-1)"
      ]
     },
     "execution_count": 7,
     "metadata": {},
     "output_type": "execute_result"
    }
   ],
   "source": [
    "from lightgbm.sklearn import LGBMClassifier\n",
    "\n",
    "X_train = train_df.drop(columns=[\"Target\"])\n",
    "y_train = train_df[\"Target\"]\n",
    "X_test = test_df.drop(columns=[\"Target\"])\n",
    "y_test = test_df[\"Target\"]\n",
    "model = LGBMClassifier(random_state=123, verbose=-1)\n",
    "model.fit(X_train, y_train)"
   ]
  },
  {
   "cell_type": "markdown",
   "id": "e68d5fa1-2c73-4a99-9fc4-51bec777bf2a",
   "metadata": {
    "slideshow": {
     "slide_type": "slide"
    }
   },
   "source": [
    "##### Model predictions on unseen data\n",
    "\n",
    "- Given features of new patients below we'll use this model to predict whether these patients have the liver disease or not. "
   ]
  },
  {
   "cell_type": "code",
   "execution_count": 8,
   "id": "7b1496c4-4094-491a-8e0c-f76a8b4ce442",
   "metadata": {},
   "outputs": [
    {
     "data": {
      "text/html": [
       "<table border=\"1\" class=\"dataframe\">\n",
       "  <thead>\n",
       "    <tr style=\"text-align: right;\">\n",
       "      <th>Age</th>\n",
       "      <th>Total_Bilirubin</th>\n",
       "      <th>Direct_Bilirubin</th>\n",
       "      <th>Alkaline_Phosphotase</th>\n",
       "      <th>Alamine_Aminotransferase</th>\n",
       "      <th>Aspartate_Aminotransferase</th>\n",
       "      <th>Total_Protiens</th>\n",
       "      <th>Albumin</th>\n",
       "      <th>Albumin_and_Globulin_Ratio</th>\n",
       "    </tr>\n",
       "  </thead>\n",
       "  <tbody>\n",
       "    <tr>\n",
       "      <td>19</td>\n",
       "      <td>1.4</td>\n",
       "      <td>0.8</td>\n",
       "      <td>178</td>\n",
       "      <td>13</td>\n",
       "      <td>26</td>\n",
       "      <td>8.0</td>\n",
       "      <td>4.6</td>\n",
       "      <td>1.30</td>\n",
       "    </tr>\n",
       "    <tr>\n",
       "      <td>12</td>\n",
       "      <td>1.0</td>\n",
       "      <td>0.2</td>\n",
       "      <td>719</td>\n",
       "      <td>157</td>\n",
       "      <td>108</td>\n",
       "      <td>7.2</td>\n",
       "      <td>3.7</td>\n",
       "      <td>1.00</td>\n",
       "    </tr>\n",
       "    <tr>\n",
       "      <td>60</td>\n",
       "      <td>5.7</td>\n",
       "      <td>2.8</td>\n",
       "      <td>214</td>\n",
       "      <td>412</td>\n",
       "      <td>850</td>\n",
       "      <td>7.3</td>\n",
       "      <td>3.2</td>\n",
       "      <td>0.78</td>\n",
       "    </tr>\n",
       "    <tr>\n",
       "      <td>42</td>\n",
       "      <td>0.5</td>\n",
       "      <td>0.1</td>\n",
       "      <td>162</td>\n",
       "      <td>155</td>\n",
       "      <td>108</td>\n",
       "      <td>8.1</td>\n",
       "      <td>4.0</td>\n",
       "      <td>0.90</td>\n",
       "    </tr>\n",
       "  </tbody>\n",
       "</table>"
      ],
      "text/plain": [
       "<IPython.core.display.HTML object>"
      ]
     },
     "execution_count": 8,
     "metadata": {},
     "output_type": "execute_result"
    }
   ],
   "source": [
    "HTML(X_test.reset_index(drop=True).to_html(index=False))"
   ]
  },
  {
   "cell_type": "code",
   "execution_count": 9,
   "id": "df5916f4-c4c1-4a9d-b3ab-db7ca5b01f56",
   "metadata": {
    "slideshow": {
     "slide_type": "slide"
    }
   },
   "outputs": [
    {
     "data": {
      "text/html": [
       "<table border=\"1\" class=\"dataframe\">\n",
       "  <thead>\n",
       "    <tr style=\"text-align: right;\">\n",
       "      <th>Predicted_target</th>\n",
       "      <th>Age</th>\n",
       "      <th>Total_Bilirubin</th>\n",
       "      <th>Direct_Bilirubin</th>\n",
       "      <th>Alkaline_Phosphotase</th>\n",
       "      <th>Alamine_Aminotransferase</th>\n",
       "      <th>Aspartate_Aminotransferase</th>\n",
       "      <th>Total_Protiens</th>\n",
       "      <th>Albumin</th>\n",
       "      <th>Albumin_and_Globulin_Ratio</th>\n",
       "    </tr>\n",
       "  </thead>\n",
       "  <tbody>\n",
       "    <tr>\n",
       "      <td>No Disease</td>\n",
       "      <td>19</td>\n",
       "      <td>1.4</td>\n",
       "      <td>0.8</td>\n",
       "      <td>178</td>\n",
       "      <td>13</td>\n",
       "      <td>26</td>\n",
       "      <td>8.0</td>\n",
       "      <td>4.6</td>\n",
       "      <td>1.30</td>\n",
       "    </tr>\n",
       "    <tr>\n",
       "      <td>Disease</td>\n",
       "      <td>12</td>\n",
       "      <td>1.0</td>\n",
       "      <td>0.2</td>\n",
       "      <td>719</td>\n",
       "      <td>157</td>\n",
       "      <td>108</td>\n",
       "      <td>7.2</td>\n",
       "      <td>3.7</td>\n",
       "      <td>1.00</td>\n",
       "    </tr>\n",
       "    <tr>\n",
       "      <td>Disease</td>\n",
       "      <td>60</td>\n",
       "      <td>5.7</td>\n",
       "      <td>2.8</td>\n",
       "      <td>214</td>\n",
       "      <td>412</td>\n",
       "      <td>850</td>\n",
       "      <td>7.3</td>\n",
       "      <td>3.2</td>\n",
       "      <td>0.78</td>\n",
       "    </tr>\n",
       "    <tr>\n",
       "      <td>Disease</td>\n",
       "      <td>42</td>\n",
       "      <td>0.5</td>\n",
       "      <td>0.1</td>\n",
       "      <td>162</td>\n",
       "      <td>155</td>\n",
       "      <td>108</td>\n",
       "      <td>8.1</td>\n",
       "      <td>4.0</td>\n",
       "      <td>0.90</td>\n",
       "    </tr>\n",
       "  </tbody>\n",
       "</table>"
      ],
      "text/plain": [
       "<IPython.core.display.HTML object>"
      ]
     },
     "execution_count": 9,
     "metadata": {},
     "output_type": "execute_result"
    }
   ],
   "source": [
    "pred_df = pd.DataFrame({\"Predicted_target\": model.predict(X_test).tolist()})\n",
    "\n",
    "df_concat = pd.concat([pred_df, X_test.reset_index(drop=True)], axis=1)\n",
    "HTML(df_concat.to_html(index=False))"
   ]
  },
  {
   "cell_type": "markdown",
   "id": "cc973f4b-00fa-4f35-a0c7-29d21cb97fed",
   "metadata": {},
   "source": [
    "<br><br>"
   ]
  },
  {
   "cell_type": "markdown",
   "id": "243bd5b3-2383-4426-a346-87dd5c61af42",
   "metadata": {
    "slideshow": {
     "slide_type": "slide"
    }
   },
   "source": [
    "#### Example 2: Predicting the label of a given image \n",
    "\n",
    "Suppose you want to predict the label of a given image using supervised machine learning. We are using a pre-trained model here to predict labels of new unseen images. "
   ]
  },
  {
   "cell_type": "markdown",
   "id": "7d436346-6f1e-4f03-bd83-79fc04928111",
   "metadata": {},
   "source": [
    "```{note}\n",
    "Assuming that you have successfully created cpsc330 `conda` environment on your computer, you'll have to install `torchvision` in cpsc330 `conda` environment to run the following code. If you are unable to install `torchvision` on your laptop, please don't worry at this point. It's not crucial at this point. \n",
    "\n",
    "> conda activate cpsc330\n",
    "> conda install -c pytorch torchvision\n",
    "```"
   ]
  },
  {
   "cell_type": "code",
   "execution_count": 10,
   "id": "81be95a9-c867-45fa-86e7-dc359499d0ec",
   "metadata": {},
   "outputs": [
    {
     "name": "stderr",
     "output_type": "stream",
     "text": [
      "Downloading: \"https://download.pytorch.org/models/vgg16-397923af.pth\" to /Users/celine/.cache/torch/hub/checkpoints/vgg16-397923af.pth\n",
      "  5%|▌         | 28.4M/528M [00:02<00:44, 11.8MB/s]"
     ]
    }
   ],
   "source": [
    "import img_classify\n",
    "from PIL import Image\n",
    "import glob\n",
    "import matplotlib.pyplot as plt\n",
    "# Predict topn labels and their associated probabilities for unseen images\n",
    "images = glob.glob(\"data/test_images/*.jpg\")\n",
    "class_labels_file = 'data/imagenet_classes.txt'\n",
    "for img_path in images:\n",
    "    img = Image.open(img_path).convert('RGB')\n",
    "    img.load()\n",
    "    plt.imshow(img)\n",
    "    plt.show();    \n",
    "    df = img_classify.classify_image(img_path, class_labels_file)\n",
    "    print(df.to_string(index=False))\n",
    "    print(\"--------------------------------------------------------------\")"
   ]
  },
  {
   "cell_type": "markdown",
   "id": "0ef72ad4-d842-4cec-a2a9-fbf67fd0e8d5",
   "metadata": {},
   "source": [
    "<br><br>"
   ]
  },
  {
   "cell_type": "markdown",
   "id": "ecf75098-7c3e-45b9-8073-318baf500003",
   "metadata": {
    "slideshow": {
     "slide_type": "slide"
    }
   },
   "source": [
    "#### Example 3: Predicting sentiment expressed in a movie review\n",
    "\n",
    "Suppose you are interested in predicting whether a given movie review is positive or negative. You can do it using supervised machine learning. "
   ]
  },
  {
   "cell_type": "markdown",
   "id": "481fdad0-5006-4384-a0cb-0c5090b8133b",
   "metadata": {},
   "source": [
    "```{note}\n",
    "Download the data from [here](https://www.kaggle.com/utathya/imdb-review-dataset). \n",
    "```"
   ]
  },
  {
   "cell_type": "code",
   "execution_count": null,
   "id": "3bc2a175-d33f-4c36-9cb1-6effc877abad",
   "metadata": {
    "slideshow": {
     "slide_type": "slide"
    },
    "tags": [
     "hide-input"
    ]
   },
   "outputs": [],
   "source": [
    "imdb_df = pd.read_csv(\"data/imdb_master.csv\", encoding=\"ISO-8859-1\")\n",
    "imdb_df = imdb_df[imdb_df[\"label\"].str.startswith((\"pos\", \"neg\"))]\n",
    "imdb_df = imdb_df.drop(columns = [\"Unnamed: 0\", \"type\", \"file\"])\n",
    "imdb_df.rename(columns={\"label\": \"target\"}, inplace=True)\n",
    "train_df, test_df = train_test_split(imdb_df, test_size=0.10, random_state=123)\n",
    "HTML(train_df.head().to_html(index=False))"
   ]
  },
  {
   "cell_type": "code",
   "execution_count": null,
   "id": "fc98c6ce-0fa2-4645-94ae-5dd501a1d994",
   "metadata": {
    "slideshow": {
     "slide_type": "slide"
    }
   },
   "outputs": [],
   "source": [
    "# Build an ML model\n",
    "X_train, y_train = train_df[\"review\"], train_df[\"target\"]\n",
    "X_test, y_test = test_df[\"review\"], test_df[\"target\"]\n",
    "\n",
    "clf = make_pipeline(CountVectorizer(max_features=5000), LogisticRegression(max_iter=5000))\n",
    "clf.fit(X_train, y_train);"
   ]
  },
  {
   "cell_type": "code",
   "execution_count": null,
   "id": "3f345969-880e-4453-a1bf-7ad78fe98755",
   "metadata": {
    "slideshow": {
     "slide_type": "slide"
    }
   },
   "outputs": [],
   "source": [
    "# Predict on unseen data using the built model\n",
    "pred_dict = {\n",
    "    \"reviews\": X_test[0:4],\n",
    "    \"sentiment_predictions\": clf.predict(X_test[0:4]),\n",
    "}\n",
    "pred_df = pd.DataFrame(pred_dict)\n",
    "pred_df.style.set_properties(**{\"text-align\": \"left\"})"
   ]
  },
  {
   "cell_type": "markdown",
   "id": "10dad017-ca73-4833-a4cb-f3daea9ea909",
   "metadata": {},
   "source": [
    "<br><br>"
   ]
  },
  {
   "cell_type": "markdown",
   "id": "6c0991b3-c911-4fb7-96bd-5214a488beac",
   "metadata": {
    "slideshow": {
     "slide_type": "slide"
    }
   },
   "source": [
    "#### Example 4: Predicting housing prices\n",
    "\n",
    "Suppose we want to predict housing prices given a number of attributes associated with houses. "
   ]
  },
  {
   "cell_type": "markdown",
   "id": "54f23833-3765-425a-ae91-b2153bd6ff88",
   "metadata": {},
   "source": [
    "```{note}\n",
    "Download the data from [here](https://www.kaggle.com/harlfoxem/housesalesprediction). \n",
    "```"
   ]
  },
  {
   "cell_type": "code",
   "execution_count": null,
   "id": "6b42804c-09df-4905-bab9-0ed09090cc32",
   "metadata": {
    "slideshow": {
     "slide_type": "slide"
    },
    "tags": [
     "hide-input"
    ]
   },
   "outputs": [],
   "source": [
    "df = pd.read_csv(\"data/kc_house_data.csv\")\n",
    "df = df.drop(columns = [\"id\", \"date\"])\n",
    "df.rename(columns={\"price\": \"target\"}, inplace=True)\n",
    "train_df, test_df = train_test_split(df, test_size=0.2, random_state=4)\n",
    "HTML(train_df.head().to_html(index=False))"
   ]
  },
  {
   "cell_type": "code",
   "execution_count": null,
   "id": "3c7669ee-891e-40d3-9d47-7b4e9d9e25b4",
   "metadata": {
    "slideshow": {
     "slide_type": "slide"
    }
   },
   "outputs": [],
   "source": [
    "# Build a regression model\n",
    "from lightgbm.sklearn import LGBMRegressor\n",
    "\n",
    "X_train, y_train = train_df.drop(columns= [\"target\"]), train_df[\"target\"]\n",
    "X_test, y_test = test_df.drop(columns= [\"target\"]), train_df[\"target\"]\n",
    "\n",
    "model = LGBMRegressor(verbose=-1)\n",
    "model.fit(X_train, y_train);"
   ]
  },
  {
   "cell_type": "code",
   "execution_count": null,
   "id": "86257c76-3e64-4f1d-858b-3f9023f01773",
   "metadata": {
    "slideshow": {
     "slide_type": "slide"
    }
   },
   "outputs": [],
   "source": [
    "# Predict on unseen examples using the built model\n",
    "pred_df = pd.DataFrame(\n",
    "    # {\"Predicted target\": model.predict(X_test[0:4]).tolist(), \"Actual price\": y_test[0:4].tolist()}\n",
    "    {\"Predicted_target\": model.predict(X_test[0:4]).tolist()}\n",
    ")\n",
    "df_concat = pd.concat([pred_df, X_test[0:4].reset_index(drop=True)], axis=1)\n",
    "HTML(df_concat.to_html(index=False))"
   ]
  },
  {
   "cell_type": "markdown",
   "id": "c2105fe0-b32a-4c03-9eb4-e8f826cd2a55",
   "metadata": {},
   "source": [
    "To summarize, supervised machine learning can be used on a variety of problems and different kinds of data. "
   ]
  },
  {
   "cell_type": "markdown",
   "id": "a2c8abb4-ab28-497c-9eb3-e808519147ce",
   "metadata": {},
   "source": [
    "<br><br>"
   ]
  },
  {
   "cell_type": "markdown",
   "id": "e8ce1ea7-4ec6-4c25-ac5b-5f13ca1a3ef5",
   "metadata": {
    "slideshow": {
     "slide_type": "slide"
    }
   },
   "source": [
    "### 🤔 Eva's questions\n",
    "\n",
    "At this point, Eva is wondering about many questions. \n",
    "\n",
    "- How are we exactly \"learning\" whether a message is spam and ham? \n",
    "- What do you mean by \"learn without being explicitly programmed\"? The code has to be somewhere ... \n",
    "- Are we expected to get correct predictions for all possible messages? How does it predict the label for a message it has not seen before?  \n",
    "- What if the model mis-labels an unseen example? For instance, what if the model incorrectly predicts a non-spam as a spam? What would be the consequences? \n",
    "- How do we measure the success or failure of spam identification? \n",
    "- If you want to use this model in the wild, how do you know how reliable it is?  \n",
    "- Would it be useful to know how confident the model is about the predictions rather than just a yes or a no?\n",
    "\n",
    "It's great to think about these questions right now. But Eva has to be patient. By the end of this course you'll know answers to many of these questions!  \n",
    "\n",
    "![](img/eva-qm.png)"
   ]
  },
  {
   "cell_type": "markdown",
   "id": "2ee4d99f-76dc-41c4-967d-32344bab1344",
   "metadata": {
    "slideshow": {
     "slide_type": "skip"
    }
   },
   "source": [
    "### Machine learning workflow \n",
    "\n",
    "Supervised machine learning is quite flexible; it can be used on a variety of problems and different kinds of data. Here is a typical workflow of a supervised machine learning systems.  \n",
    "\n",
    "![](img/ml-workflow.png)\n",
    "\n",
    "<!-- <img src=\"img/ml-workflow.png\" height=\"800\" width=\"800\">  -->\n",
    "\n",
    "We will build machine learning pipelines in this course, focusing on some of the steps above. "
   ]
  },
  {
   "cell_type": "markdown",
   "id": "957ffd1f-f1d7-4258-9000-3439e0ccb20f",
   "metadata": {},
   "source": [
    "<br><br>"
   ]
  },
  {
   "cell_type": "markdown",
   "id": "a83eeacd-fb48-42df-8ef0-a8649a0fd191",
   "metadata": {
    "slideshow": {
     "slide_type": "slide"
    }
   },
   "source": [
    "### ❓❓ Questions for you\n",
    "\n",
    "#### iClicker cloud join link: https://join.iclicker.com/SNBF"
   ]
  },
  {
   "cell_type": "markdown",
   "id": "12a34ca6-a0db-4c50-aa5d-c24580962970",
   "metadata": {},
   "source": [
    "### Select all of the following statements which are **True** (iClicker)\n",
    "\n",
    "- (A) Predicting spam is an example of machine learning. \n",
    "- (B) Predicting housing prices is not an example of machine learning. \n",
    "- (C) For problems such as spelling correction, translation, face recognition, spam identification, if you are a domain expert, it's usually faster and scalable to come up with a robust set of rules manually rather than building a machine learning model. \n",
    "- (D) If you are asked to write a program to find all prime numbers up to  a limit, it is better to implement one of the algorithms for doing so rather than using machine learning. \n",
    "- (E) Google News is likely be using machine learning to organize news. \n",
    "<br><br><br><br>"
   ]
  },
  {
   "cell_type": "markdown",
   "id": "c72b1d04-3709-4dc9-8d6f-daea0b7a4224",
   "metadata": {},
   "source": [
    "<br><br>"
   ]
  },
  {
   "cell_type": "markdown",
   "id": "b87a1677-3645-4f6d-bbd2-2f6ff48817c3",
   "metadata": {
    "slideshow": {
     "slide_type": "slide"
    }
   },
   "source": [
    "## Surveys (~8 min)\n",
    "\n",
    "- Please complete the \"Getting to know you\" survey on [Canvas](https://canvas.ubc.ca/courses/123439/quizzes).\n",
    "- Also, please complete the anonymous restaurant survey on Qualtrics [here](https://ubc.ca1.qualtrics.com/jfe/form/SV_73VuZiuwM1eDVrw).\n",
    "  - We will try to analyze this data set in the coming weeks. "
   ]
  },
  {
   "cell_type": "markdown",
   "id": "b52fec7c-7db1-4952-a510-0335318b477f",
   "metadata": {
    "slideshow": {
     "slide_type": "skip"
    }
   },
   "source": [
    "<br><br>"
   ]
  },
  {
   "cell_type": "markdown",
   "id": "e0804333-230f-4db7-8d4e-6b250c214205",
   "metadata": {
    "slideshow": {
     "slide_type": "slide"
    }
   },
   "source": [
    "## Break (5 min)\n",
    "\n",
    "![](img/eva-coffee.png)\n",
    "\n",
    "- We will try to take a 5-minute break half way through every class."
   ]
  },
  {
   "cell_type": "markdown",
   "id": "e2bb61ff-844a-445c-8aae-1db566218f6f",
   "metadata": {},
   "source": [
    "<br><br><br><br>"
   ]
  },
  {
   "cell_type": "markdown",
   "id": "2d19b3bc-2e6d-4c2a-a1e2-e421b0e8be1b",
   "metadata": {
    "slideshow": {
     "slide_type": "slide"
    }
   },
   "source": [
    "## About this course"
   ]
  },
  {
   "cell_type": "markdown",
   "id": "51e758b6-8e05-42be-b2c4-014fa28f636b",
   "metadata": {
    "slideshow": {
     "slide_type": "slide"
    }
   },
   "source": [
    "### Course website "
   ]
  },
  {
   "cell_type": "markdown",
   "id": "7a600a1a-b340-4d6f-90d9-f23f081472c6",
   "metadata": {
    "slideshow": {
     "slide_type": "-"
    }
   },
   "source": [
    "```{important}\n",
    "[https://github.com/UBC-CS/cpsc330-2023W1/](https://github.com/UBC-CS/cpsc330-2023W1/) is the most important link. Please read everything on this GitHub page!\n",
    "```"
   ]
  },
  {
   "cell_type": "markdown",
   "id": "cfe7c1cd-ad54-4fbb-ac8b-caa7837271b2",
   "metadata": {},
   "source": [
    "```{important}\n",
    "The [Syllabus quiz](https://canvas.ubc.ca/courses/123439/quizzes) available on Canvas, Due: Tuesday, Sept 19th at 11:59pm. \n",
    "```"
   ]
  },
  {
   "cell_type": "markdown",
   "id": "46429e91-5824-46f8-bf24-9ce35456a225",
   "metadata": {
    "slideshow": {
     "slide_type": "slide"
    },
    "tags": []
   },
   "source": [
    "### CPSC 330 vs. 340\n",
    "\n",
    "Read [https://github.com/UBC-CS/cpsc330-2023W1/blob/master/docs/330_vs_340.md](https://github.com/UBC-CS/cpsc330-2023W1/blob/master/docs/330_vs_340.md)\n",
    "which explains the difference between two courses.  \n",
    "\n",
    "**TLDR:**\n",
    "\n",
    "- 340: how do ML models work?\n",
    "- 330: how do I use ML models?\n",
    "- CPSC 340 has many prerequisites. \n",
    "- CPSC 340 goes deeper but has a more narrow scope.\n",
    "- I think CPSC 330 will be more useful if you just plan to apply basic ML."
   ]
  },
  {
   "cell_type": "markdown",
   "id": "90a26e3f-f971-4cf2-a93d-de1bd021f56e",
   "metadata": {},
   "source": [
    "### Registration, waitlist and prerequisites"
   ]
  },
  {
   "cell_type": "markdown",
   "id": "e727e117-0784-410f-a04f-bde73c6dafb2",
   "metadata": {},
   "source": [
    "```{important}\n",
    "Please go through [this document](https://github.com/UBC-CS/cpsc330-2023W1//blob/master/docs/course_info.md#registration) carefully before contacting me about these issues. Even then, I am very unlikely to be able to help with registration, waitlist or prerequisite issues.\n",
    "```"
   ]
  },
  {
   "cell_type": "markdown",
   "id": "36f5e337-1410-43d5-8eaa-43fff9b840c3",
   "metadata": {},
   "source": [
    "- This year, specifically:   \n",
    "  - If you see available restricted seats and wondering whether they are going to be open for registration or not, these seats are reserved for data science minor students. This is a new program and due to its novelty, there are some registration delays. So we all need to be patient. This is not under my control and I'm unlikely to be of help with this. \n",
    "  - One thing I can promise is that we won't just forget about these seats. The capacity of this class is ~160 students. If you are still on the waitlist, you'll get in the class depending upon how many data science minor students register and how many students drop the class.   \n",
    "  - If you are on waitlist and if you'd like to try your chances, you should be able to access [Canvas](https://canvas.ubc.ca/courses/123439) to do the syllabus quiz and homework assignments. \n",
    "  - If you're unable to make it this time, there will be two sections of this course offered next semester. "
   ]
  },
  {
   "cell_type": "markdown",
   "id": "ba9b2c16-c34e-4330-85c5-773ed74c5e11",
   "metadata": {
    "jp-MarkdownHeadingCollapsed": true
   },
   "source": [
    "### Course format\n",
    "\n",
    "- In person lectures T/Th at 11 am (Section 102) and T/Th at 3:30 pm (Section 101).\n",
    "- Sometimes there will be videos to watch before or during the lecture time. You will find the list of pre-watch videos on the course webpage. \n",
    "- First homework assignment is due **this coming Tuesday**, Sep 12th, at 11:59pm. This is a relatively straightforward assignment on Python. If you struggle with this assignment then that could be a sign that you will struggle later on in the course.    \n",
    "- You must do the first two homework assignments on your own.\n",
    "- I'm hoping you'll be able to work with partners on subsequent assignments pending the technology side of things.\n",
    "- Weekly tutorials will be **office hour format** run by the TAs and are **completely optional**.\n",
    "  - You do not need to be registered in a tutorial.\n",
    "  - You can attend whatever tutorials or office hours your want, regardless of in which/whether you're registered.\n",
    "- We'll have one midterm and one final.\n",
    "  - Currently, we are thinking of closed-book Canvas exams. "
   ]
  },
  {
   "cell_type": "markdown",
   "id": "27b3d0e7-c162-486d-916d-9ffb4c23f147",
   "metadata": {},
   "source": [
    "### Course calendar\n",
    "\n",
    "Here is our course Calendar. Make sure you check it on a regular basis: \n",
    "\n",
    "https://htmlpreview.github.io/?https://github.com/UBC-CS/cpsc330-2023W1//blob/master/docs/calendar.html"
   ]
  },
  {
   "cell_type": "markdown",
   "id": "0ddfc521-1c47-4fcb-8878-96fd0f8b8e7f",
   "metadata": {},
   "source": [
    "### Course structure\n",
    "\n",
    "- Introduction\n",
    "  - Week 1 \n",
    "- Part I: ML fundamentals and preprocessing \n",
    "  - Weeks 2, 3, 4, 5, 6, 7, 8, midterm \n",
    "- Part II: Unsupervised learning, transfer learning, common special cases\n",
    "  - Weeks 9, 10, 11, 12\n",
    "- Part III: Communication and ethics\n",
    "  - ML skills are not beneficial if you can't use them responsibly and communicate your results. In this module we'll talk about these aspects. \n",
    "  - Weeks 13, 14"
   ]
  },
  {
   "cell_type": "markdown",
   "id": "d66b85fe-a045-494e-9c71-1e564bf5fb44",
   "metadata": {},
   "source": [
    "### Code of conduct\n",
    "\n",
    "- Our main forum for getting help will be [Piazza](https://piazza.com/ubc.ca/winterterm12023/cpsc3302023w1)."
   ]
  },
  {
   "cell_type": "markdown",
   "id": "cc012b7c-8853-41ab-9ab6-21655d105d4b",
   "metadata": {},
   "source": [
    "```{important}\n",
    "Please read [this entire document about asking for help](https://github.com/UBC-CS/cpsc330-2023W1//blob/master/docs/asking_for_help.md).\n",
    "**TLDR:** Be nice.\n",
    "```"
   ]
  },
  {
   "cell_type": "markdown",
   "id": "b3d5ad3e-0674-40c7-952f-667cda66834c",
   "metadata": {},
   "source": [
    "### Lecture and homework format: Jupyter notebooks\n",
    "\n",
    "- This document is a [Jupyter notebook](https://jupyter.org/), with file extension `.ipynb`.\n",
    "- Confusingly, \"Jupyter notebook\" is also the original application that opens `.ipynb` files - but has since been replaced by **Jupyter lab**.\n",
    "  - I am using Jupyter lab, some things might not work with the Jupyter notebook application.\n",
    "  - The course setup/install instructions include Jupyter lab.\n",
    "- Jupyter notebooks contain a mix of code, code output, markdown-formatted text (including LaTeX equations), and more.\n",
    "  - When you open a Jupyter notebook in one of these apps, the document is \"live\", meaning you can run the code.\n",
    "  - For example:"
   ]
  },
  {
   "cell_type": "code",
   "execution_count": null,
   "id": "453bbce3-884e-42fc-a4c2-6f1649a320fe",
   "metadata": {
    "tags": []
   },
   "outputs": [],
   "source": [
    "1 + 1"
   ]
  },
  {
   "cell_type": "code",
   "execution_count": null,
   "id": "d475a094-3541-4d80-b229-67dd72e101ed",
   "metadata": {
    "tags": []
   },
   "outputs": [],
   "source": [
    "x = [1, 2, 3]\n",
    "x[0] = 9999\n",
    "x"
   ]
  },
  {
   "cell_type": "markdown",
   "id": "bf4f07e1-23f4-4bb7-9f26-9a10dbe5a3fb",
   "metadata": {},
   "source": [
    "- By default, Jupyter prints out the result of the last line of code, so you don't need as many `print` statements.\n",
    "- In addition to the \"live\" notebooks, Jupyter notebooks can be statically rendered in the web browser, e.g. [this](https://github.com/UBC-CS/cpsc330-2023W1/blob/master/lectures/01_intro.ipynb).\n",
    "  - This can be convenient for quick read-only access, without needing to launch the Jupyter notebook/lab application.\n",
    "  - But you need to launch the app properly to interact with the notebooks.\n",
    "\n"
   ]
  },
  {
   "cell_type": "markdown",
   "id": "60877dd9-c8c5-4c90-843b-fe69fca59ccc",
   "metadata": {},
   "source": [
    "### Lecture style\n",
    "\n",
    "- Lots of code snippets in Jupyter.\n",
    "- There will be some [YouTube videos](https://www.youtube.com/channel/UC40oUwJPrUmhsYdURk8OjqA) to watch before the lecture. \n",
    "- We will also try to work on some iClicker and Worksheets during the class. \n",
    "- All materials will be posted on the course website and [this Jupyter book](https://ubc-cs.github.io/cpsc330-2023W1). "
   ]
  },
  {
   "cell_type": "markdown",
   "id": "75d14eaa-d74b-4b4a-a363-5c2a11fac318",
   "metadata": {},
   "source": [
    "#### Lecture notes\n",
    "\n",
    "- All the lectures from last year are already [available on the course website](https://github.com/UBC-CS/cpsc330).\n",
    "- I cannot promise anything will stay the same from last year to this year, so read them in advance at your own risk.\n",
    "- A \"finalized\" version will be pushed to [GitHub](https://github.com/UBC-CS/cpsc330-2023W1/)."
   ]
  },
  {
   "cell_type": "markdown",
   "id": "d8c9d1ba-2390-4e34-b4b4-fb80f7310090",
   "metadata": {},
   "source": [
    "### Grades\n",
    "\n",
    "- The grading breakdown is [here](https://github.com/UBC-CS/cpsc330-2023W1//blob/main/syllabus.md#grading-scheme). \n",
    "- The policy on challenging grades is [here](https://github.com/UBC-CS/cpsc330-2023W1//blob/master/docs/grades.md)."
   ]
  },
  {
   "cell_type": "markdown",
   "id": "67c9ed5b-40b7-4d4e-ba2c-c8bc8ead18f5",
   "metadata": {
    "slideshow": {
     "slide_type": "slide"
    }
   },
   "source": [
    "## Setting up your computer for the course "
   ]
  },
  {
   "cell_type": "markdown",
   "id": "bcc2a64b-455b-4271-a947-e1f96a95fb73",
   "metadata": {},
   "source": [
    "### Recommended browser\n",
    "\n",
    "- I'll test the course notebooks and exams, which we'll be doing via [Canvas](https://canvas.ubc.ca/courses/101888), on the following two browsers: Chrome and Firefox. So I recommend that you use one of these browsers for the course.\n",
    "\n",
    "- You can install Chrome [here](https://www.google.com/chrome/).\n",
    "- You can install Firefox [here](https://www.mozilla.org/en-US/firefox/new/). "
   ]
  },
  {
   "cell_type": "markdown",
   "id": "1cfacc42-27a3-419e-a980-37a84a6f33e0",
   "metadata": {},
   "source": [
    "In this course, we will primarily be using Python, git, GitHub, Canvas, Gradescope, and Piazza. \n",
    "\n",
    "- Follow the setup instructions [here](https://github.com/UBC-CS/cpsc330-2023W1//blob/main/docs/setup.md) to create a course `conda` environment on your computer. \n",
    "- If you do not have your computer with you, you can partner up with someone and set up your own computer later.  "
   ]
  },
  {
   "cell_type": "markdown",
   "id": "116b65cb-bbe4-45ca-99f3-a60189ae482d",
   "metadata": {},
   "source": [
    "### Python requirements/resources\n",
    "\n",
    "We will primarily use Python in this course.\n",
    "\n",
    "Here is the basic Python knowledge you'll need for the course: \n",
    "\n",
    "- Basic Python programming\n",
    "- Numpy\n",
    "- Pandas\n",
    "- Basic matplotlib\n",
    "- Sparse matrices\n",
    "\n",
    "Homework 1 is all about Python."
   ]
  },
  {
   "cell_type": "markdown",
   "id": "41b879b9-bca7-4128-a166-e626b66bee36",
   "metadata": {
    "slideshow": {
     "slide_type": "slide"
    }
   },
   "source": [
    "```{seealso}\n",
    "We do not have time to teach all the Python we need \n",
    "but you can find some useful Python resources [here](https://github.com/UBC-CS/cpsc330-2023W1/blob/master/docs/resources.md).  \n",
    "```"
   ]
  },
  {
   "cell_type": "markdown",
   "id": "eeba1ffa-7593-4bda-bb3f-849c8e518c3a",
   "metadata": {},
   "source": [
    "<br><br>"
   ]
  },
  {
   "cell_type": "markdown",
   "id": "d982a2b5-1141-4926-b739-7a7fb6f315e5",
   "metadata": {},
   "source": [
    "### Checklist for you before the next class\n",
    "\n",
    "- [ ] Are you able to access course [Canvas](https://canvas.ubc.ca/courses/123439) shell? \n",
    "- [ ] Are you able to access [course Piazza](https://piazza.com/ubc.ca/winterterm12023/cpsc3302023w1)?\n",
    "- [ ] Are you able to access [Gradescope](https://www.gradescope.ca/courses/11525)? (If not, refer to the [Gradescope Student Guide](https://lthub.ubc.ca/guides/gradescope-student-guide/).)\n",
    "- [ ] Are you able to access [iClicker Cloud](https://join.iclicker.com/SNBF) for this course?\n",
    "- [ ] Did you follow the setup instructions [here](https://github.com/UBC-CS/cpsc330-2023W1//blob/main/docs/cpsc330env.yml) to create a course conda environment on your computer?\n",
    "- [ ] Did you complete the \"Getting to know you\" survey on [Canvas](https://canvas.ubc.ca/courses/123439/quizzes/655087)?\n",
    "- [ ] Did you complete the anonymous [restaurant survey on Qualtrics](https://ubc.ca1.qualtrics.com/jfe/form/SV_73VuZiuwM1eDVrw)?\n",
    "- [ ] Did you complete the syllabus quiz on Canvas? \n",
    "- [ ] Are you almost finished or at least started with homework 1?"
   ]
  },
  {
   "cell_type": "markdown",
   "id": "f93b1c65-70e7-41ba-b6a2-df7ed4aadcca",
   "metadata": {},
   "source": [
    "<br><br>"
   ]
  },
  {
   "cell_type": "markdown",
   "id": "8ccc0f47-fb09-4dbb-84aa-ba1469212f96",
   "metadata": {},
   "source": [
    "<br><br>"
   ]
  },
  {
   "cell_type": "markdown",
   "id": "a6271913-db05-4bc5-ae70-6af1bb628133",
   "metadata": {},
   "source": [
    "## Summary\n",
    "\n",
    "- Machine learning is a different paradigm for problem solving.    \n",
    "- Very often it reduces the time you spend programming and helps customizing and scaling your products. \n",
    "- In supervised learning we are given a set of observations ($X$) and their corresponding targets ($y$) and we wish to find a model function $f$ that relates $X$ to $y$.\n",
    "- Carefully read the course website. Make sure to complete the surveys. \n",
    "- **The teaching team is here to help you learn the material and succeed in the course!**\n",
    "- This semester can be particularly difficult with in-person transition after the pandemic. Please reach out if you are going through hard time. I'll try my best to be accommodative and empathetic. \n",
    "- Let's have fun learning this material together!\n"
   ]
  },
  {
   "cell_type": "markdown",
   "id": "9a5db5d1-c432-41f4-a96c-7b64433591ff",
   "metadata": {},
   "source": [
    "![](img/eva-seeyou.png)"
   ]
  }
 ],
 "metadata": {
  "kernelspec": {
   "display_name": "Python 3 (ipykernel)",
   "language": "python",
   "name": "python3"
  },
  "language_info": {
   "codemirror_mode": {
    "name": "ipython",
    "version": 3
   },
   "file_extension": ".py",
   "mimetype": "text/x-python",
   "name": "python",
   "nbconvert_exporter": "python",
   "pygments_lexer": "ipython3",
   "version": "3.10.0"
  }
 },
 "nbformat": 4,
 "nbformat_minor": 5
}
