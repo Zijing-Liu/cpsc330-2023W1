# Initialize Otter
import otter
grader = otter.Notebook("hw1.ipynb")














import matplotlib.pyplot as plt
import numpy as np
import pandas as pd


























df1 = pd.read_csv('data/wine_1.csv',)
df2 = pd.read_csv('data/wine_2.csv', header= 1)
df3 = pd.read_csv('data/wine_3.csv', engine='python', skipfooter=2)
df4 = pd.read_csv('data/wine_4.txt', delimiter='\t')
df5 = pd.read_csv('data/wine_5.csv', usecols={'Bottle', 'Grape', 'Origin', 'Alcohol', 'pH', 'Colour', 'Aroma'})
df6 = pd.read_csv('data/wine_6.txt', delimiter='\t', engine='python',skipfooter=2,header=1, usecols={'Bottle', 'Grape', 'Origin', 'Alcohol', 'pH', 'Colour', 'Aroma'})



for i, df in enumerate([df2, df3, df4, df5, df6]):
    assert df1.equals(df), f"df1 not equal to df{i + 2}"
print("All tests passed.")

















titanic_df = pd.read_csv('./data/titanic.csv')
...


assert set(titanic_df.columns) == set(
    [
        "pclass",
        "survived",
        "name",
        "sex",
        "age",
        "sibsp",
        "parch",
        "ticket",
        "fare",
        "cabin",
        "embarked",
        "boat",
        "body",
        "home.dest",
    ]
), "All required columns are not present"
assert len(titanic_df.index) == 1309, "Wrong number of rows in dataframe"
print("Success")











...
titanic_df.rename(columns={"sibsp": "siblings_spouses", "parch": "parents_children"}, inplace=True)
titanic_df.columns


assert set(["siblings_spouses", "parents_children"]).issubset(
    titanic_df.columns
), "Column names were not changed properly"
print("Success")











...
nameVar = titanic_df['age']
print(nameVar)
print(type(nameVar))
# it returns a Series (1d array)











...
ageObj = titanic_df[["age"]]
print(type(ageObj))
# it returns a panada DataFrame object (2d table)











...
titanic_df[['pclass','survived','age']]











...











...
titanic_df[['name', 'sex', 'age']].loc[0:4]











...
titanic_df.query('survived ==1 ').shape
titanic_df[titanic_df['survived'] == 1].shape












...
titanic_df.query('survived == 1').query('age > 60').shape











lowest = titanic_df['fare'].min()
highest = titanic_df['fare'].max()
...











...
sorted_titanic_df = titanic_df.sort_values(by=['fare'], ascending=False)











...
sorted_titanic_df.to_csv('titanic_fares.csv', encoding='utf-8')











...
titanic_df.plot.scatter(x='age', y='fare', s= 8)
plt.title('A scatter plot of fare vs age on the titanic dataset')
plt.xlabel('Age')
plt.ylabel('Fare')
plt.show()












...








import string
letters = string.ascii_uppercase








x = ("nothing", {-i: l for i, l in enumerate(letters)})





x[1][-19]











# Do not modify this cell
x = [
    [letters[i] for i in range(26) if i % 2 == 0],
    [letters[i] for i in range(26) if i % 2 == 1],
]





...
# print(x[0])
# print(x[1])
# for i in range(len(x[1])):
#     if x[1][i] == 'T':
#         print(i)
x[1][9]








# Do not modify this cell
np.random.seed(1)
x = np.random.choice(list(set(letters) - set("T")), size=(100, 26), replace=True)
x[np.random.randint(100), np.random.randint(26)] = "T"





...
for i in range(len(x)):
    for j in range(len(x[i])):
        if (x[i][j] == "T"):
            print(i, j)
x[95][2]








# Do not modify this cell
n = 26
x = dict()
for i in range(n):
    x[string.ascii_lowercase[i]] = {
        string.ascii_lowercase[(j + 1) % n]: [[letters[j]] if j - 2 == i else None]
        for j in range(n)
    }





...

for i in x.keys():
    for j in x.get(i).keys(): 
        l = x.get(i).get(j);
        if(l[0] and l[0][0]== "T"):
            print(i, j)
x.get('r').get('u')[0][0]






