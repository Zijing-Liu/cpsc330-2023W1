{
 "cells": [
  {
   "cell_type": "code",
   "execution_count": 1,
   "metadata": {
    "deletable": false,
    "editable": false
   },
   "outputs": [],
   "source": [
    "# Initialize Otter\n",
    "import otter\n",
    "grader = otter.Notebook(\"hw6.ipynb\")"
   ]
  },
  {
   "cell_type": "markdown",
   "metadata": {},
   "source": [
    "# CPSC 330 - Applied Machine Learning \n",
    "\n",
    "## Homework 6: Clustering\n",
    "### Associated lectures: Lectures 14 and 15\n",
    "\n",
    "**Due date: See the [Calendar](https://htmlpreview.github.io/?https://github.com/UBC-CS/cpsc330/blob/master/docs/calendar.html).**"
   ]
  },
  {
   "cell_type": "markdown",
   "metadata": {},
   "source": [
    "## Imports <a name=\"im\"></a>"
   ]
  },
  {
   "cell_type": "code",
   "execution_count": 50,
   "metadata": {},
   "outputs": [],
   "source": [
    "import os\n",
    "from hashlib import sha1\n",
    "import sys\n",
    "import matplotlib.pyplot as plt\n",
    "import numpy as np\n",
    "\n",
    "sys.path.append(os.path.join(os.path.abspath(\"../../lectures/\"), \"code\"))\n",
    "from plotting_functions import *\n",
    "from plotting_functions_unsup import *\n",
    "from yellowbrick.cluster import SilhouetteVisualizer\n",
    "from scipy.cluster.hierarchy import dendrogram, fcluster, linkage\n",
    "pd.set_option(\"display.max_colwidth\", 0)\n",
    "\n",
    "from scipy.cluster.hierarchy import (\n",
    "    average,\n",
    "    complete,\n",
    "    dendrogram,\n",
    "    fcluster,\n",
    "    single,\n",
    "    ward,\n",
    ")\n"
   ]
  },
  {
   "cell_type": "markdown",
   "metadata": {},
   "source": [
    "<br><br><br><br>"
   ]
  },
  {
   "cell_type": "markdown",
   "metadata": {
    "deletable": false,
    "editable": false,
    "slideshow": {
     "slide_type": ""
    },
    "tags": []
   },
   "source": [
    "<!-- BEGIN QUESTION -->\n",
    "\n",
    "<div class=\"alert alert-info\">\n",
    "    \n",
    "## Submission instructions\n",
    "<hr>\n",
    "rubric={points}\n",
    "\n",
    "**Please be aware that this homework assignment requires installation of several packages in your course environment. It's possible that you'll encounter installation challenges, which might be frustrating. However, remember that solving these issues is not wasting time but it is an essential skill for anyone aspiring to work in data science or machine learning.**\n",
    "\n",
    "Follow the [homework submission instructions](https://github.com/UBC-CS/cpsc330-2023W1/blob/main/docs/homework_instructions.md). \n",
    "\n",
    "**You may work in a group on this homework and submit your assignment as a group.** Below are some instructions on working as a group.  \n",
    "- The maximum group size is 4. \n",
    "- Use group work as an opportunity to collaborate and learn new things from each other. \n",
    "- Be respectful to each other and make sure you understand all the concepts in the assignment well. \n",
    "- It's your responsibility to make sure that the assignment is submitted by one of the group members before the deadline. \n",
    "- You can find the instructions on how to do group submission on Gradescope [here](https://help.gradescope.com/article/m5qz2xsnjy-student-add-group-members).\n",
    "\n",
    "\n",
    "When you are ready to submit your assignment do the following:\n",
    "\n",
    "1. Run all cells in your notebook to make sure there are no errors by doing `Kernel -> Restart Kernel and Clear All Outputs` and then `Run -> Run All Cells`. \n",
    "2. Notebooks with cell execution numbers out of order or not starting from “1” will have marks deducted. Notebooks without the output displayed may not be graded at all (because we need to see the output in order to grade your work).\n",
    "3. Upload the assignment using Gradescope's drag and drop tool. Check out this [Gradescope Student Guide](https://lthub.ubc.ca/guides/gradescope-student-guide/) if you need help with Gradescope submission.\n",
    "4. Make sure that the plots and output are rendered properly in your submitted file. \n",
    "5. If the .ipynb file is too big and doesn't render on Gradescope, also upload a pdf or html in addition to the .ipynb. If the pdf or html also fail to render on Gradescope, please create two files for your homework: hw6a.ipynb with Exercise 1 and hw6b.ipynb with Exercises 2 and 3 and submit these two files in your submission.  \n",
    "</div>\n",
    "\n",
    "_Points:_ 6"
   ]
  },
  {
   "cell_type": "markdown",
   "metadata": {
    "deletable": false,
    "editable": false
   },
   "source": [
    "<!-- END QUESTION -->\n",
    "\n",
    "<br><br><br><br>"
   ]
  },
  {
   "cell_type": "markdown",
   "metadata": {},
   "source": [
    "## Exercise 1: Document clustering warm-up\n",
    "<hr>\n",
    "\n",
    "In this homework, we will explore a popular application of clustering called [**document clustering**](https://en.wikipedia.org/wiki/Document_clustering). A large amount of unlabeled text data is available out there (e.g., news, recipes, online Q&A, tweets), and clustering is a commonly used technique to organize this data in a meaningful way. \n",
    "\n",
    "As a warm up, in this exercise you will cluster sentences from a toy corpus. Later in the homework you will work with a real corpus. \n",
    "\n",
    "The code below extracts introductory sentences of Wikipedia articles on a set of queries. To run the code successfully, you will need the `wikipedia` package installed in the course environment. \n",
    "\n",
    "```\n",
    "conda activate cpsc330\n",
    "conda install -c conda-forge wikipedia\n",
    "```\n",
    "\n",
    "\n",
    "**Your tasks:**\n",
    "\n",
    "Run the code below which \n",
    "- extracts content of Wikipedia articles on a set of queries\n",
    "- tokenizes the text (i.e., separates sentences) and \n",
    "- stores the 2nd sentence in each article as a document representing that article\n",
    "\n",
    "> Feel free to experiment with Wikipedia queries of your choice. But stick to the provided list for the final submission so that it's easier for the TAs to grade your submission.\n",
    "\n",
    "> For tokenization we are using the `nltk` package. If you do not have this package in the course environment, you will have to install it.\n",
    "\n",
    "```\n",
    "conda activate cpsc330\n",
    "conda install -c anaconda nltk\n",
    "```\n",
    "\n",
    "Even if you have the package installed via the course `conda` environment, you might have to download `nltk` pre-trained models, which can be done with the code below."
   ]
  },
  {
   "cell_type": "code",
   "execution_count": 3,
   "metadata": {},
   "outputs": [
    {
     "name": "stderr",
     "output_type": "stream",
     "text": [
      "[nltk_data] Downloading package punkt to /Users/celine/nltk_data...\n",
      "[nltk_data]   Package punkt is already up-to-date!\n"
     ]
    },
    {
     "data": {
      "text/plain": [
       "True"
      ]
     },
     "execution_count": 3,
     "metadata": {},
     "output_type": "execute_result"
    }
   ],
   "source": [
    "import nltk\n",
    "nltk.download(\"punkt\")"
   ]
  },
  {
   "cell_type": "code",
   "execution_count": 4,
   "metadata": {},
   "outputs": [
    {
     "data": {
      "text/html": [
       "<div>\n",
       "<style scoped>\n",
       "    .dataframe tbody tr th:only-of-type {\n",
       "        vertical-align: middle;\n",
       "    }\n",
       "\n",
       "    .dataframe tbody tr th {\n",
       "        vertical-align: top;\n",
       "    }\n",
       "\n",
       "    .dataframe thead th {\n",
       "        text-align: right;\n",
       "    }\n",
       "</style>\n",
       "<table border=\"1\" class=\"dataframe\">\n",
       "  <thead>\n",
       "    <tr style=\"text-align: right;\">\n",
       "      <th></th>\n",
       "      <th>wiki query</th>\n",
       "      <th>text</th>\n",
       "      <th>n_words</th>\n",
       "    </tr>\n",
       "  </thead>\n",
       "  <tbody>\n",
       "    <tr>\n",
       "      <th>0</th>\n",
       "      <td>baguette food</td>\n",
       "      <td>It is distinguishable by its length and crisp crust.</td>\n",
       "      <td>10</td>\n",
       "    </tr>\n",
       "    <tr>\n",
       "      <th>1</th>\n",
       "      <td>banana bread food</td>\n",
       "      <td>It is often a moist and sweet quick bread but some recipes are yeast raised.</td>\n",
       "      <td>16</td>\n",
       "    </tr>\n",
       "    <tr>\n",
       "      <th>2</th>\n",
       "      <td>bread food</td>\n",
       "      <td>Throughout recorded history and around the world, it has been an important part of many cultures' diet.</td>\n",
       "      <td>20</td>\n",
       "    </tr>\n",
       "    <tr>\n",
       "      <th>3</th>\n",
       "      <td>data science</td>\n",
       "      <td>Data science is multifaceted and can be described as a science, a research paradigm, a research method, a discipline, a workflow, and a profession.Data science is a \"concept to unify statistics, data analysis, informatics, and their related methods\" to \"understand and analyze actual phenomena\" with data.</td>\n",
       "      <td>59</td>\n",
       "    </tr>\n",
       "    <tr>\n",
       "      <th>4</th>\n",
       "      <td>sports analytics</td>\n",
       "      <td>Through the collection and analysis of these data, sports analytics inform players, coaches and other staff in order to facilitate decision making both during and prior to sporting events.</td>\n",
       "      <td>32</td>\n",
       "    </tr>\n",
       "    <tr>\n",
       "      <th>5</th>\n",
       "      <td>football sport</td>\n",
       "      <td>Sports can, through casual or organized participation, improve participants' physical health.</td>\n",
       "      <td>15</td>\n",
       "    </tr>\n",
       "    <tr>\n",
       "      <th>6</th>\n",
       "      <td>ice hockey</td>\n",
       "      <td>It belongs to a family of sports called hockey.</td>\n",
       "      <td>10</td>\n",
       "    </tr>\n",
       "  </tbody>\n",
       "</table>\n",
       "</div>"
      ],
      "text/plain": [
       "          wiki query  \\\n",
       "0  baguette food       \n",
       "1  banana bread food   \n",
       "2  bread food          \n",
       "3  data science        \n",
       "4  sports analytics    \n",
       "5  football sport      \n",
       "6  ice hockey          \n",
       "\n",
       "                                                                                                                                                                                                                                                                                                                text  \\\n",
       "0  It is distinguishable by its length and crisp crust.                                                                                                                                                                                                                                                                \n",
       "1  It is often a moist and sweet quick bread but some recipes are yeast raised.                                                                                                                                                                                                                                        \n",
       "2  Throughout recorded history and around the world, it has been an important part of many cultures' diet.                                                                                                                                                                                                             \n",
       "3  Data science is multifaceted and can be described as a science, a research paradigm, a research method, a discipline, a workflow, and a profession.Data science is a \"concept to unify statistics, data analysis, informatics, and their related methods\" to \"understand and analyze actual phenomena\" with data.   \n",
       "4  Through the collection and analysis of these data, sports analytics inform players, coaches and other staff in order to facilitate decision making both during and prior to sporting events.                                                                                                                        \n",
       "5  Sports can, through casual or organized participation, improve participants' physical health.                                                                                                                                                                                                                       \n",
       "6  It belongs to a family of sports called hockey.                                                                                                                                                                                                                                                                     \n",
       "\n",
       "   n_words  \n",
       "0  10       \n",
       "1  16       \n",
       "2  20       \n",
       "3  59       \n",
       "4  32       \n",
       "5  15       \n",
       "6  10       "
      ]
     },
     "execution_count": 4,
     "metadata": {},
     "output_type": "execute_result"
    }
   ],
   "source": [
    "import wikipedia\n",
    "from nltk.tokenize import sent_tokenize, word_tokenize\n",
    "\n",
    "queries = [\n",
    "    \"baguette food\",\n",
    "    \"banana bread food\",\n",
    "    \"bread food\",\n",
    "    \"data science\",\n",
    "    \"sports analytics\",\n",
    "    \"football sport\",\n",
    "    \"ice hockey\",\n",
    "]\n",
    "\n",
    "wiki_dict = {\"wiki query\": [], \"text\": [], \"n_words\": []}\n",
    "for i in range(len(queries)):\n",
    "    text = sent_tokenize(wikipedia.page(queries[i]).content)[1]\n",
    "    wiki_dict[\"text\"].append(text)\n",
    "    wiki_dict[\"n_words\"].append(len(word_tokenize(text)))\n",
    "    wiki_dict[\"wiki query\"].append(queries[i])\n",
    "\n",
    "wiki_df = pd.DataFrame(wiki_dict)\n",
    "wiki_df"
   ]
  },
  {
   "cell_type": "markdown",
   "metadata": {},
   "source": [
    "Our toy corpus has six toy documents (`text` column in the dataframe) extracted from Wikipedia queries. "
   ]
  },
  {
   "cell_type": "markdown",
   "metadata": {},
   "source": [
    "<br><br>"
   ]
  },
  {
   "cell_type": "markdown",
   "metadata": {
    "deletable": false,
    "editable": false
   },
   "source": [
    "<!-- BEGIN QUESTION -->\n",
    "\n",
    "### 1.1 How many clusters? \n",
    "rubric={points}\n",
    "\n",
    "\n",
    "**Your tasks:**\n",
    "\n",
    "1. If you are asked to cluster the documents from this toy corpus manually, how many clusters would you identify and how would you label each cluster?   "
   ]
  },
  {
   "cell_type": "markdown",
   "metadata": {
    "deletable": false,
    "editable": false
   },
   "source": [
    "<div class=\"alert alert-warning\">\n",
    "\n",
    "Solution_1.1\n",
    "    \n",
    "</div>\n",
    "\n",
    "_Points:_ 1"
   ]
  },
  {
   "cell_type": "markdown",
   "metadata": {},
   "source": [
    "**Answer**\n",
    "Looking at the query and text in the toy corpus, there can be three clusters and I would label them as food, data science and sports.  "
   ]
  },
  {
   "cell_type": "code",
   "execution_count": 5,
   "metadata": {},
   "outputs": [],
   "source": [
    "# define the # of clusters\n",
    "k_clusters = 3"
   ]
  },
  {
   "cell_type": "markdown",
   "metadata": {},
   "source": [
    "_Type your answer here, replacing this text._"
   ]
  },
  {
   "cell_type": "code",
   "execution_count": 6,
   "metadata": {
    "deletable": false,
    "editable": false
   },
   "outputs": [
    {
     "data": {
      "text/html": [
       "<p><strong><pre style='display: inline;'>q1.1</pre></strong> passed! 🌈</p>"
      ],
      "text/plain": [
       "q1.1 results: All test cases passed!"
      ]
     },
     "execution_count": 6,
     "metadata": {},
     "output_type": "execute_result"
    }
   ],
   "source": [
    "grader.check(\"q1.1\")"
   ]
  },
  {
   "cell_type": "markdown",
   "metadata": {
    "deletable": false,
    "editable": false
   },
   "source": [
    "<!-- END QUESTION -->\n",
    "\n",
    "<br><br>"
   ]
  },
  {
   "cell_type": "markdown",
   "metadata": {
    "deletable": false,
    "editable": false
   },
   "source": [
    "<!-- BEGIN QUESTION -->\n",
    "\n",
    "### 1.2 `KMeans` with bag-of-words representation \n",
    "rubric={points}\n",
    "\n",
    "In the lecture, we saw that data representation plays a crucial role in clustering. Changing flattened representation of images to feature vectors extracted from pre-trained models greatly improved the quality of clustering. \n",
    "\n",
    "What kind of representation is suitable for text data? We have used bag-of-words representation to numerically encode text data before, where each document is represented with a vector of word frequencies. \n",
    "\n",
    "Let's try clustering documents with this simplistic representation.  \n",
    "\n",
    "**Your tasks:**\n",
    "\n",
    "1. Create bag-of-words representation using [`CountVectorizer`](https://scikit-learn.org/stable/modules/generated/sklearn.feature_extraction.text.CountVectorizer.html) with default arguments for the `text` column in `wiki_df` above.\n",
    "2. Cluster the encoded documents with [`KMeans` clustering](https://scikit-learn.org/stable/modules/generated/sklearn.cluster.KMeans.html). Use `random_state=42` (for reproducibility) and set `n_clusters` to the number you identified in the previous exercise.\n",
    "3. Store the clustering labels in `kmeans_bow_labels` variable below. "
   ]
  },
  {
   "cell_type": "code",
   "execution_count": 7,
   "metadata": {},
   "outputs": [
    {
     "data": {
      "text/plain": [
       "Index(['wiki query', 'text', 'n_words'], dtype='object')"
      ]
     },
     "execution_count": 7,
     "metadata": {},
     "output_type": "execute_result"
    }
   ],
   "source": [
    "wiki_df.columns"
   ]
  },
  {
   "cell_type": "markdown",
   "metadata": {
    "deletable": false,
    "editable": false
   },
   "source": [
    "<div class=\"alert alert-warning\">\n",
    "\n",
    "Solution_1.2\n",
    "    \n",
    "</div>\n",
    "\n",
    "_Points:_ 4"
   ]
  },
  {
   "cell_type": "code",
   "execution_count": 8,
   "metadata": {
    "tags": []
   },
   "outputs": [
    {
     "data": {
      "text/html": [
       "<div>\n",
       "<style scoped>\n",
       "    .dataframe tbody tr th:only-of-type {\n",
       "        vertical-align: middle;\n",
       "    }\n",
       "\n",
       "    .dataframe tbody tr th {\n",
       "        vertical-align: top;\n",
       "    }\n",
       "\n",
       "    .dataframe thead th {\n",
       "        text-align: right;\n",
       "    }\n",
       "</style>\n",
       "<table border=\"1\" class=\"dataframe\">\n",
       "  <thead>\n",
       "    <tr style=\"text-align: right;\">\n",
       "      <th></th>\n",
       "      <th>actual</th>\n",
       "      <th>analysis</th>\n",
       "      <th>analytics</th>\n",
       "      <th>analyze</th>\n",
       "      <th>around</th>\n",
       "      <th>been</th>\n",
       "      <th>belongs</th>\n",
       "      <th>both</th>\n",
       "      <th>bread</th>\n",
       "      <th>but</th>\n",
       "      <th>...</th>\n",
       "      <th>sports</th>\n",
       "      <th>staff</th>\n",
       "      <th>statistics</th>\n",
       "      <th>sweet</th>\n",
       "      <th>throughout</th>\n",
       "      <th>understand</th>\n",
       "      <th>unify</th>\n",
       "      <th>workflow</th>\n",
       "      <th>world</th>\n",
       "      <th>yeast</th>\n",
       "    </tr>\n",
       "  </thead>\n",
       "  <tbody>\n",
       "    <tr>\n",
       "      <th>0</th>\n",
       "      <td>0</td>\n",
       "      <td>0</td>\n",
       "      <td>0</td>\n",
       "      <td>0</td>\n",
       "      <td>0</td>\n",
       "      <td>0</td>\n",
       "      <td>0</td>\n",
       "      <td>0</td>\n",
       "      <td>0</td>\n",
       "      <td>0</td>\n",
       "      <td>...</td>\n",
       "      <td>0</td>\n",
       "      <td>0</td>\n",
       "      <td>0</td>\n",
       "      <td>0</td>\n",
       "      <td>0</td>\n",
       "      <td>0</td>\n",
       "      <td>0</td>\n",
       "      <td>0</td>\n",
       "      <td>0</td>\n",
       "      <td>0</td>\n",
       "    </tr>\n",
       "    <tr>\n",
       "      <th>1</th>\n",
       "      <td>0</td>\n",
       "      <td>0</td>\n",
       "      <td>0</td>\n",
       "      <td>0</td>\n",
       "      <td>0</td>\n",
       "      <td>0</td>\n",
       "      <td>0</td>\n",
       "      <td>0</td>\n",
       "      <td>1</td>\n",
       "      <td>1</td>\n",
       "      <td>...</td>\n",
       "      <td>0</td>\n",
       "      <td>0</td>\n",
       "      <td>0</td>\n",
       "      <td>1</td>\n",
       "      <td>0</td>\n",
       "      <td>0</td>\n",
       "      <td>0</td>\n",
       "      <td>0</td>\n",
       "      <td>0</td>\n",
       "      <td>1</td>\n",
       "    </tr>\n",
       "    <tr>\n",
       "      <th>2</th>\n",
       "      <td>0</td>\n",
       "      <td>0</td>\n",
       "      <td>0</td>\n",
       "      <td>0</td>\n",
       "      <td>1</td>\n",
       "      <td>1</td>\n",
       "      <td>0</td>\n",
       "      <td>0</td>\n",
       "      <td>0</td>\n",
       "      <td>0</td>\n",
       "      <td>...</td>\n",
       "      <td>0</td>\n",
       "      <td>0</td>\n",
       "      <td>0</td>\n",
       "      <td>0</td>\n",
       "      <td>1</td>\n",
       "      <td>0</td>\n",
       "      <td>0</td>\n",
       "      <td>0</td>\n",
       "      <td>1</td>\n",
       "      <td>0</td>\n",
       "    </tr>\n",
       "    <tr>\n",
       "      <th>3</th>\n",
       "      <td>1</td>\n",
       "      <td>1</td>\n",
       "      <td>0</td>\n",
       "      <td>1</td>\n",
       "      <td>0</td>\n",
       "      <td>0</td>\n",
       "      <td>0</td>\n",
       "      <td>0</td>\n",
       "      <td>0</td>\n",
       "      <td>0</td>\n",
       "      <td>...</td>\n",
       "      <td>0</td>\n",
       "      <td>0</td>\n",
       "      <td>1</td>\n",
       "      <td>0</td>\n",
       "      <td>0</td>\n",
       "      <td>1</td>\n",
       "      <td>1</td>\n",
       "      <td>1</td>\n",
       "      <td>0</td>\n",
       "      <td>0</td>\n",
       "    </tr>\n",
       "    <tr>\n",
       "      <th>4</th>\n",
       "      <td>0</td>\n",
       "      <td>1</td>\n",
       "      <td>1</td>\n",
       "      <td>0</td>\n",
       "      <td>0</td>\n",
       "      <td>0</td>\n",
       "      <td>0</td>\n",
       "      <td>1</td>\n",
       "      <td>0</td>\n",
       "      <td>0</td>\n",
       "      <td>...</td>\n",
       "      <td>1</td>\n",
       "      <td>1</td>\n",
       "      <td>0</td>\n",
       "      <td>0</td>\n",
       "      <td>0</td>\n",
       "      <td>0</td>\n",
       "      <td>0</td>\n",
       "      <td>0</td>\n",
       "      <td>0</td>\n",
       "      <td>0</td>\n",
       "    </tr>\n",
       "    <tr>\n",
       "      <th>5</th>\n",
       "      <td>0</td>\n",
       "      <td>0</td>\n",
       "      <td>0</td>\n",
       "      <td>0</td>\n",
       "      <td>0</td>\n",
       "      <td>0</td>\n",
       "      <td>0</td>\n",
       "      <td>0</td>\n",
       "      <td>0</td>\n",
       "      <td>0</td>\n",
       "      <td>...</td>\n",
       "      <td>1</td>\n",
       "      <td>0</td>\n",
       "      <td>0</td>\n",
       "      <td>0</td>\n",
       "      <td>0</td>\n",
       "      <td>0</td>\n",
       "      <td>0</td>\n",
       "      <td>0</td>\n",
       "      <td>0</td>\n",
       "      <td>0</td>\n",
       "    </tr>\n",
       "    <tr>\n",
       "      <th>6</th>\n",
       "      <td>0</td>\n",
       "      <td>0</td>\n",
       "      <td>0</td>\n",
       "      <td>0</td>\n",
       "      <td>0</td>\n",
       "      <td>0</td>\n",
       "      <td>1</td>\n",
       "      <td>0</td>\n",
       "      <td>0</td>\n",
       "      <td>0</td>\n",
       "      <td>...</td>\n",
       "      <td>1</td>\n",
       "      <td>0</td>\n",
       "      <td>0</td>\n",
       "      <td>0</td>\n",
       "      <td>0</td>\n",
       "      <td>0</td>\n",
       "      <td>0</td>\n",
       "      <td>0</td>\n",
       "      <td>0</td>\n",
       "      <td>0</td>\n",
       "    </tr>\n",
       "  </tbody>\n",
       "</table>\n",
       "<p>7 rows × 74 columns</p>\n",
       "</div>"
      ],
      "text/plain": [
       "   actual  analysis  analytics  analyze  around  been  belongs  both  bread  \\\n",
       "0  0       0         0          0        0       0     0        0     0       \n",
       "1  0       0         0          0        0       0     0        0     1       \n",
       "2  0       0         0          0        1       1     0        0     0       \n",
       "3  1       1         0          1        0       0     0        0     0       \n",
       "4  0       1         1          0        0       0     0        1     0       \n",
       "5  0       0         0          0        0       0     0        0     0       \n",
       "6  0       0         0          0        0       0     1        0     0       \n",
       "\n",
       "   but  ...  sports  staff  statistics  sweet  throughout  understand  unify  \\\n",
       "0  0    ...  0       0      0           0      0           0           0       \n",
       "1  1    ...  0       0      0           1      0           0           0       \n",
       "2  0    ...  0       0      0           0      1           0           0       \n",
       "3  0    ...  0       0      1           0      0           1           1       \n",
       "4  0    ...  1       1      0           0      0           0           0       \n",
       "5  0    ...  1       0      0           0      0           0           0       \n",
       "6  0    ...  1       0      0           0      0           0           0       \n",
       "\n",
       "   workflow  world  yeast  \n",
       "0  0         0      0      \n",
       "1  0         0      1      \n",
       "2  0         1      0      \n",
       "3  1         0      0      \n",
       "4  0         0      0      \n",
       "5  0         0      0      \n",
       "6  0         0      0      \n",
       "\n",
       "[7 rows x 74 columns]"
      ]
     },
     "execution_count": 8,
     "metadata": {},
     "output_type": "execute_result"
    }
   ],
   "source": [
    "# 1. create BOW representation for the text coulmn in wiki_df\n",
    "from sklearn.feature_extraction.text import CountVectorizer\n",
    "stop_words = [\"an\", \"and\", \"are\", \"as\", \"be\", \"to\", \"it\", \"is\", \"of\", \"can\", \"the\", \"or\", \"other\", \"often\", \"through\", \"there\", \"these\", \"with\", \"without\", \"them\", \"their\", \"some\", \"many\"]\n",
    "vec = CountVectorizer(stop_words=stop_words)\n",
    "text_transformed = vec.fit_transform(wiki_df['text'])\n",
    "bow_df = pd.DataFrame(\n",
    "    text_transformed.toarray(), columns=vec.get_feature_names_out(), index=wiki_df.index\n",
    ")\n",
    "bow_df"
   ]
  },
  {
   "cell_type": "code",
   "execution_count": null,
   "metadata": {},
   "outputs": [],
   "source": []
  },
  {
   "cell_type": "code",
   "execution_count": 9,
   "metadata": {
    "tags": []
   },
   "outputs": [
    {
     "data": {
      "text/html": [
       "<style>#sk-container-id-1 {color: black;}#sk-container-id-1 pre{padding: 0;}#sk-container-id-1 div.sk-toggleable {background-color: white;}#sk-container-id-1 label.sk-toggleable__label {cursor: pointer;display: block;width: 100%;margin-bottom: 0;padding: 0.3em;box-sizing: border-box;text-align: center;}#sk-container-id-1 label.sk-toggleable__label-arrow:before {content: \"▸\";float: left;margin-right: 0.25em;color: #696969;}#sk-container-id-1 label.sk-toggleable__label-arrow:hover:before {color: black;}#sk-container-id-1 div.sk-estimator:hover label.sk-toggleable__label-arrow:before {color: black;}#sk-container-id-1 div.sk-toggleable__content {max-height: 0;max-width: 0;overflow: hidden;text-align: left;background-color: #f0f8ff;}#sk-container-id-1 div.sk-toggleable__content pre {margin: 0.2em;color: black;border-radius: 0.25em;background-color: #f0f8ff;}#sk-container-id-1 input.sk-toggleable__control:checked~div.sk-toggleable__content {max-height: 200px;max-width: 100%;overflow: auto;}#sk-container-id-1 input.sk-toggleable__control:checked~label.sk-toggleable__label-arrow:before {content: \"▾\";}#sk-container-id-1 div.sk-estimator input.sk-toggleable__control:checked~label.sk-toggleable__label {background-color: #d4ebff;}#sk-container-id-1 div.sk-label input.sk-toggleable__control:checked~label.sk-toggleable__label {background-color: #d4ebff;}#sk-container-id-1 input.sk-hidden--visually {border: 0;clip: rect(1px 1px 1px 1px);clip: rect(1px, 1px, 1px, 1px);height: 1px;margin: -1px;overflow: hidden;padding: 0;position: absolute;width: 1px;}#sk-container-id-1 div.sk-estimator {font-family: monospace;background-color: #f0f8ff;border: 1px dotted black;border-radius: 0.25em;box-sizing: border-box;margin-bottom: 0.5em;}#sk-container-id-1 div.sk-estimator:hover {background-color: #d4ebff;}#sk-container-id-1 div.sk-parallel-item::after {content: \"\";width: 100%;border-bottom: 1px solid gray;flex-grow: 1;}#sk-container-id-1 div.sk-label:hover label.sk-toggleable__label {background-color: #d4ebff;}#sk-container-id-1 div.sk-serial::before {content: \"\";position: absolute;border-left: 1px solid gray;box-sizing: border-box;top: 0;bottom: 0;left: 50%;z-index: 0;}#sk-container-id-1 div.sk-serial {display: flex;flex-direction: column;align-items: center;background-color: white;padding-right: 0.2em;padding-left: 0.2em;position: relative;}#sk-container-id-1 div.sk-item {position: relative;z-index: 1;}#sk-container-id-1 div.sk-parallel {display: flex;align-items: stretch;justify-content: center;background-color: white;position: relative;}#sk-container-id-1 div.sk-item::before, #sk-container-id-1 div.sk-parallel-item::before {content: \"\";position: absolute;border-left: 1px solid gray;box-sizing: border-box;top: 0;bottom: 0;left: 50%;z-index: -1;}#sk-container-id-1 div.sk-parallel-item {display: flex;flex-direction: column;z-index: 1;position: relative;background-color: white;}#sk-container-id-1 div.sk-parallel-item:first-child::after {align-self: flex-end;width: 50%;}#sk-container-id-1 div.sk-parallel-item:last-child::after {align-self: flex-start;width: 50%;}#sk-container-id-1 div.sk-parallel-item:only-child::after {width: 0;}#sk-container-id-1 div.sk-dashed-wrapped {border: 1px dashed gray;margin: 0 0.4em 0.5em 0.4em;box-sizing: border-box;padding-bottom: 0.4em;background-color: white;}#sk-container-id-1 div.sk-label label {font-family: monospace;font-weight: bold;display: inline-block;line-height: 1.2em;}#sk-container-id-1 div.sk-label-container {text-align: center;}#sk-container-id-1 div.sk-container {/* jupyter's `normalize.less` sets `[hidden] { display: none; }` but bootstrap.min.css set `[hidden] { display: none !important; }` so we also need the `!important` here to be able to override the default hidden behavior on the sphinx rendered scikit-learn.org. See: https://github.com/scikit-learn/scikit-learn/issues/21755 */display: inline-block !important;position: relative;}#sk-container-id-1 div.sk-text-repr-fallback {display: none;}</style><div id=\"sk-container-id-1\" class=\"sk-top-container\"><div class=\"sk-text-repr-fallback\"><pre>KMeans(n_clusters=3, n_init=&#x27;auto&#x27;, random_state=42)</pre><b>In a Jupyter environment, please rerun this cell to show the HTML representation or trust the notebook. <br />On GitHub, the HTML representation is unable to render, please try loading this page with nbviewer.org.</b></div><div class=\"sk-container\" hidden><div class=\"sk-item\"><div class=\"sk-estimator sk-toggleable\"><input class=\"sk-toggleable__control sk-hidden--visually\" id=\"sk-estimator-id-1\" type=\"checkbox\" checked><label for=\"sk-estimator-id-1\" class=\"sk-toggleable__label sk-toggleable__label-arrow\">KMeans</label><div class=\"sk-toggleable__content\"><pre>KMeans(n_clusters=3, n_init=&#x27;auto&#x27;, random_state=42)</pre></div></div></div></div></div>"
      ],
      "text/plain": [
       "KMeans(n_clusters=3, n_init='auto', random_state=42)"
      ]
     },
     "execution_count": 9,
     "metadata": {},
     "output_type": "execute_result"
    }
   ],
   "source": [
    "# 2. k-means clustering\n",
    "from sklearn.cluster import KMeans\n",
    "kmeans_bow = KMeans(n_clusters=k_clusters, n_init='auto', random_state=42)\n",
    "kmeans_bow.fit(text_transformed)"
   ]
  },
  {
   "cell_type": "code",
   "execution_count": 10,
   "metadata": {},
   "outputs": [],
   "source": [
    "kmeans_bow_labels  = kmeans_bow.labels_"
   ]
  },
  {
   "cell_type": "code",
   "execution_count": 11,
   "metadata": {
    "tags": []
   },
   "outputs": [
    {
     "data": {
      "text/html": [
       "<div>\n",
       "<style scoped>\n",
       "    .dataframe tbody tr th:only-of-type {\n",
       "        vertical-align: middle;\n",
       "    }\n",
       "\n",
       "    .dataframe tbody tr th {\n",
       "        vertical-align: top;\n",
       "    }\n",
       "\n",
       "    .dataframe thead th {\n",
       "        text-align: right;\n",
       "    }\n",
       "</style>\n",
       "<table border=\"1\" class=\"dataframe\">\n",
       "  <thead>\n",
       "    <tr style=\"text-align: right;\">\n",
       "      <th></th>\n",
       "      <th>wiki query</th>\n",
       "      <th>text</th>\n",
       "      <th>n_words</th>\n",
       "      <th>bow_kmeans</th>\n",
       "    </tr>\n",
       "  </thead>\n",
       "  <tbody>\n",
       "    <tr>\n",
       "      <th>0</th>\n",
       "      <td>baguette food</td>\n",
       "      <td>It is distinguishable by its length and crisp crust.</td>\n",
       "      <td>10</td>\n",
       "      <td>1</td>\n",
       "    </tr>\n",
       "    <tr>\n",
       "      <th>1</th>\n",
       "      <td>banana bread food</td>\n",
       "      <td>It is often a moist and sweet quick bread but some recipes are yeast raised.</td>\n",
       "      <td>16</td>\n",
       "      <td>2</td>\n",
       "    </tr>\n",
       "    <tr>\n",
       "      <th>2</th>\n",
       "      <td>bread food</td>\n",
       "      <td>Throughout recorded history and around the world, it has been an important part of many cultures' diet.</td>\n",
       "      <td>20</td>\n",
       "      <td>0</td>\n",
       "    </tr>\n",
       "    <tr>\n",
       "      <th>3</th>\n",
       "      <td>data science</td>\n",
       "      <td>Data science is multifaceted and can be described as a science, a research paradigm, a research method, a discipline, a workflow, and a profession.Data science is a \"concept to unify statistics, data analysis, informatics, and their related methods\" to \"understand and analyze actual phenomena\" with data.</td>\n",
       "      <td>59</td>\n",
       "      <td>1</td>\n",
       "    </tr>\n",
       "    <tr>\n",
       "      <th>4</th>\n",
       "      <td>sports analytics</td>\n",
       "      <td>Through the collection and analysis of these data, sports analytics inform players, coaches and other staff in order to facilitate decision making both during and prior to sporting events.</td>\n",
       "      <td>32</td>\n",
       "      <td>1</td>\n",
       "    </tr>\n",
       "    <tr>\n",
       "      <th>5</th>\n",
       "      <td>football sport</td>\n",
       "      <td>Sports can, through casual or organized participation, improve participants' physical health.</td>\n",
       "      <td>15</td>\n",
       "      <td>1</td>\n",
       "    </tr>\n",
       "    <tr>\n",
       "      <th>6</th>\n",
       "      <td>ice hockey</td>\n",
       "      <td>It belongs to a family of sports called hockey.</td>\n",
       "      <td>10</td>\n",
       "      <td>1</td>\n",
       "    </tr>\n",
       "  </tbody>\n",
       "</table>\n",
       "</div>"
      ],
      "text/plain": [
       "          wiki query  \\\n",
       "0  baguette food       \n",
       "1  banana bread food   \n",
       "2  bread food          \n",
       "3  data science        \n",
       "4  sports analytics    \n",
       "5  football sport      \n",
       "6  ice hockey          \n",
       "\n",
       "                                                                                                                                                                                                                                                                                                                text  \\\n",
       "0  It is distinguishable by its length and crisp crust.                                                                                                                                                                                                                                                                \n",
       "1  It is often a moist and sweet quick bread but some recipes are yeast raised.                                                                                                                                                                                                                                        \n",
       "2  Throughout recorded history and around the world, it has been an important part of many cultures' diet.                                                                                                                                                                                                             \n",
       "3  Data science is multifaceted and can be described as a science, a research paradigm, a research method, a discipline, a workflow, and a profession.Data science is a \"concept to unify statistics, data analysis, informatics, and their related methods\" to \"understand and analyze actual phenomena\" with data.   \n",
       "4  Through the collection and analysis of these data, sports analytics inform players, coaches and other staff in order to facilitate decision making both during and prior to sporting events.                                                                                                                        \n",
       "5  Sports can, through casual or organized participation, improve participants' physical health.                                                                                                                                                                                                                       \n",
       "6  It belongs to a family of sports called hockey.                                                                                                                                                                                                                                                                     \n",
       "\n",
       "   n_words  bow_kmeans  \n",
       "0  10       1           \n",
       "1  16       2           \n",
       "2  20       0           \n",
       "3  59       1           \n",
       "4  32       1           \n",
       "5  15       1           \n",
       "6  10       1           "
      ]
     },
     "execution_count": 11,
     "metadata": {},
     "output_type": "execute_result"
    }
   ],
   "source": [
    "wiki_df[\"bow_kmeans\"] = kmeans_bow_labels\n",
    "wiki_df"
   ]
  },
  {
   "cell_type": "markdown",
   "metadata": {
    "deletable": false,
    "editable": false
   },
   "source": [
    "<!-- END QUESTION -->\n",
    "\n",
    "<br><br>"
   ]
  },
  {
   "cell_type": "markdown",
   "metadata": {
    "deletable": false,
    "editable": false
   },
   "source": [
    "<!-- BEGIN QUESTION -->\n",
    "\n",
    "### 1.3 Sentence embedding representation\n",
    "rubric={points}\n",
    "\n",
    "Bag-of-words representation is limited in that it does not take into account word ordering and context. There are other richer and more expressive representations of text which can be extracted using transfer learning. In this lab, we will use one such representation called sentence embedding representation, which uses deep learning models to generate dense, fixed-length vector representations for sentences. We will extract such representations using sentence transformer package. Sentence embedding takes into account context of words and semantic meaning of sentences and it is likely to work better when we are interested in clustering sentences based on their semantic similarity. \n",
    "\n",
    "```\n",
    "conda activate cpsc330\n",
    "conda install pytorch::pytorch torchvision torchaudio -c pytorch\n",
    "conda install -c conda-forge sentence-transformers\n",
    "```\n",
    "\n",
    "**Your tasks:**\n",
    "\n",
    "1. Run the code below to create sentence embedding representation of documents in our toy corpus. \n",
    "2. Cluster documents in our toy corpus encoded with this representation (`emb_sents`) and `KMeans` with following arguments: \n",
    "    - `random_state=42` (for reproducibility)\n",
    "    - `n_clusters`=the number of clusters you identified in 1.1\n",
    "3. Store the clustering labels in `kmeans_emb_labels` variable below. "
   ]
  },
  {
   "cell_type": "code",
   "execution_count": 12,
   "metadata": {
    "deletable": false,
    "editable": false
   },
   "outputs": [],
   "source": [
    "from sentence_transformers import SentenceTransformer\n",
    "\n",
    "embedder = SentenceTransformer(\"paraphrase-distilroberta-base-v1\")"
   ]
  },
  {
   "cell_type": "code",
   "execution_count": 13,
   "metadata": {
    "deletable": false,
    "editable": false
   },
   "outputs": [],
   "source": [
    "import torch"
   ]
  },
  {
   "cell_type": "code",
   "execution_count": 14,
   "metadata": {
    "deletable": false,
    "editable": false
   },
   "outputs": [
    {
     "data": {
      "text/plain": [
       "'2.1.0'"
      ]
     },
     "execution_count": 14,
     "metadata": {},
     "output_type": "execute_result"
    }
   ],
   "source": [
    "torch.__version__"
   ]
  },
  {
   "cell_type": "code",
   "execution_count": 15,
   "metadata": {
    "deletable": false,
    "editable": false,
    "metadata": {
     "tags": [
      "otter_ignore"
     ]
    }
   },
   "outputs": [
    {
     "data": {
      "text/html": [
       "<div>\n",
       "<style scoped>\n",
       "    .dataframe tbody tr th:only-of-type {\n",
       "        vertical-align: middle;\n",
       "    }\n",
       "\n",
       "    .dataframe tbody tr th {\n",
       "        vertical-align: top;\n",
       "    }\n",
       "\n",
       "    .dataframe thead th {\n",
       "        text-align: right;\n",
       "    }\n",
       "</style>\n",
       "<table border=\"1\" class=\"dataframe\">\n",
       "  <thead>\n",
       "    <tr style=\"text-align: right;\">\n",
       "      <th></th>\n",
       "      <th>0</th>\n",
       "      <th>1</th>\n",
       "      <th>2</th>\n",
       "      <th>3</th>\n",
       "      <th>4</th>\n",
       "      <th>5</th>\n",
       "      <th>6</th>\n",
       "      <th>7</th>\n",
       "      <th>8</th>\n",
       "      <th>9</th>\n",
       "      <th>...</th>\n",
       "      <th>758</th>\n",
       "      <th>759</th>\n",
       "      <th>760</th>\n",
       "      <th>761</th>\n",
       "      <th>762</th>\n",
       "      <th>763</th>\n",
       "      <th>764</th>\n",
       "      <th>765</th>\n",
       "      <th>766</th>\n",
       "      <th>767</th>\n",
       "    </tr>\n",
       "  </thead>\n",
       "  <tbody>\n",
       "    <tr>\n",
       "      <th>0</th>\n",
       "      <td>0.186268</td>\n",
       "      <td>0.286701</td>\n",
       "      <td>0.058713</td>\n",
       "      <td>0.095216</td>\n",
       "      <td>-0.136911</td>\n",
       "      <td>0.091687</td>\n",
       "      <td>-0.029694</td>\n",
       "      <td>-0.104941</td>\n",
       "      <td>0.174888</td>\n",
       "      <td>0.482773</td>\n",
       "      <td>...</td>\n",
       "      <td>0.025578</td>\n",
       "      <td>-0.078821</td>\n",
       "      <td>0.470531</td>\n",
       "      <td>-0.209694</td>\n",
       "      <td>-0.379227</td>\n",
       "      <td>0.409229</td>\n",
       "      <td>-0.299176</td>\n",
       "      <td>0.155534</td>\n",
       "      <td>0.309284</td>\n",
       "      <td>0.124819</td>\n",
       "    </tr>\n",
       "    <tr>\n",
       "      <th>1</th>\n",
       "      <td>-0.202058</td>\n",
       "      <td>0.320748</td>\n",
       "      <td>0.190347</td>\n",
       "      <td>0.232200</td>\n",
       "      <td>0.600542</td>\n",
       "      <td>0.376622</td>\n",
       "      <td>-0.018205</td>\n",
       "      <td>-0.027148</td>\n",
       "      <td>-0.076680</td>\n",
       "      <td>0.381884</td>\n",
       "      <td>...</td>\n",
       "      <td>0.213061</td>\n",
       "      <td>-0.080009</td>\n",
       "      <td>0.422756</td>\n",
       "      <td>0.072725</td>\n",
       "      <td>0.016025</td>\n",
       "      <td>-0.014596</td>\n",
       "      <td>-0.202858</td>\n",
       "      <td>-0.162947</td>\n",
       "      <td>-0.190418</td>\n",
       "      <td>-0.002013</td>\n",
       "    </tr>\n",
       "    <tr>\n",
       "      <th>2</th>\n",
       "      <td>-0.022417</td>\n",
       "      <td>0.217159</td>\n",
       "      <td>0.022694</td>\n",
       "      <td>0.003616</td>\n",
       "      <td>0.240856</td>\n",
       "      <td>0.358047</td>\n",
       "      <td>-0.053310</td>\n",
       "      <td>-0.328076</td>\n",
       "      <td>0.190012</td>\n",
       "      <td>0.244470</td>\n",
       "      <td>...</td>\n",
       "      <td>0.265412</td>\n",
       "      <td>-0.415595</td>\n",
       "      <td>0.003036</td>\n",
       "      <td>0.052484</td>\n",
       "      <td>0.345947</td>\n",
       "      <td>0.110091</td>\n",
       "      <td>0.405441</td>\n",
       "      <td>0.197792</td>\n",
       "      <td>-0.058253</td>\n",
       "      <td>0.212376</td>\n",
       "    </tr>\n",
       "    <tr>\n",
       "      <th>3</th>\n",
       "      <td>0.050543</td>\n",
       "      <td>-0.046997</td>\n",
       "      <td>0.146492</td>\n",
       "      <td>0.104616</td>\n",
       "      <td>0.361515</td>\n",
       "      <td>-0.351800</td>\n",
       "      <td>0.084182</td>\n",
       "      <td>0.141171</td>\n",
       "      <td>0.401255</td>\n",
       "      <td>0.070860</td>\n",
       "      <td>...</td>\n",
       "      <td>0.202365</td>\n",
       "      <td>-0.208398</td>\n",
       "      <td>0.220897</td>\n",
       "      <td>0.254414</td>\n",
       "      <td>0.135893</td>\n",
       "      <td>0.077933</td>\n",
       "      <td>0.121339</td>\n",
       "      <td>-0.331250</td>\n",
       "      <td>0.737436</td>\n",
       "      <td>-0.296757</td>\n",
       "    </tr>\n",
       "    <tr>\n",
       "      <th>4</th>\n",
       "      <td>0.361129</td>\n",
       "      <td>-0.165758</td>\n",
       "      <td>0.057518</td>\n",
       "      <td>0.265418</td>\n",
       "      <td>-0.066239</td>\n",
       "      <td>-0.292066</td>\n",
       "      <td>0.071660</td>\n",
       "      <td>-0.042029</td>\n",
       "      <td>0.481624</td>\n",
       "      <td>-0.279851</td>\n",
       "      <td>...</td>\n",
       "      <td>0.620761</td>\n",
       "      <td>-0.306609</td>\n",
       "      <td>0.379003</td>\n",
       "      <td>0.270570</td>\n",
       "      <td>-0.204157</td>\n",
       "      <td>0.143271</td>\n",
       "      <td>0.045386</td>\n",
       "      <td>-0.348121</td>\n",
       "      <td>0.277476</td>\n",
       "      <td>0.084160</td>\n",
       "    </tr>\n",
       "    <tr>\n",
       "      <th>5</th>\n",
       "      <td>0.401523</td>\n",
       "      <td>0.294517</td>\n",
       "      <td>0.169535</td>\n",
       "      <td>0.092037</td>\n",
       "      <td>0.159019</td>\n",
       "      <td>0.504919</td>\n",
       "      <td>0.392199</td>\n",
       "      <td>-0.074319</td>\n",
       "      <td>0.314625</td>\n",
       "      <td>0.033591</td>\n",
       "      <td>...</td>\n",
       "      <td>0.362093</td>\n",
       "      <td>-0.135943</td>\n",
       "      <td>0.133037</td>\n",
       "      <td>0.353604</td>\n",
       "      <td>-0.222303</td>\n",
       "      <td>0.077625</td>\n",
       "      <td>-0.082624</td>\n",
       "      <td>0.261559</td>\n",
       "      <td>0.272954</td>\n",
       "      <td>0.113219</td>\n",
       "    </tr>\n",
       "    <tr>\n",
       "      <th>6</th>\n",
       "      <td>0.108902</td>\n",
       "      <td>0.087363</td>\n",
       "      <td>0.119847</td>\n",
       "      <td>-0.050133</td>\n",
       "      <td>0.240210</td>\n",
       "      <td>-0.082101</td>\n",
       "      <td>0.190988</td>\n",
       "      <td>0.436203</td>\n",
       "      <td>-0.085558</td>\n",
       "      <td>-0.012788</td>\n",
       "      <td>...</td>\n",
       "      <td>0.145415</td>\n",
       "      <td>0.160032</td>\n",
       "      <td>0.071930</td>\n",
       "      <td>0.147640</td>\n",
       "      <td>0.043789</td>\n",
       "      <td>0.253031</td>\n",
       "      <td>-0.009357</td>\n",
       "      <td>0.415206</td>\n",
       "      <td>0.142142</td>\n",
       "      <td>0.130365</td>\n",
       "    </tr>\n",
       "  </tbody>\n",
       "</table>\n",
       "<p>7 rows × 768 columns</p>\n",
       "</div>"
      ],
      "text/plain": [
       "          0         1         2         3         4         5         6  \\\n",
       "0  0.186268  0.286701  0.058713  0.095216 -0.136911  0.091687 -0.029694   \n",
       "1 -0.202058  0.320748  0.190347  0.232200  0.600542  0.376622 -0.018205   \n",
       "2 -0.022417  0.217159  0.022694  0.003616  0.240856  0.358047 -0.053310   \n",
       "3  0.050543 -0.046997  0.146492  0.104616  0.361515 -0.351800  0.084182   \n",
       "4  0.361129 -0.165758  0.057518  0.265418 -0.066239 -0.292066  0.071660   \n",
       "5  0.401523  0.294517  0.169535  0.092037  0.159019  0.504919  0.392199   \n",
       "6  0.108902  0.087363  0.119847 -0.050133  0.240210 -0.082101  0.190988   \n",
       "\n",
       "          7         8         9  ...       758       759       760       761  \\\n",
       "0 -0.104941  0.174888  0.482773  ...  0.025578 -0.078821  0.470531 -0.209694   \n",
       "1 -0.027148 -0.076680  0.381884  ...  0.213061 -0.080009  0.422756  0.072725   \n",
       "2 -0.328076  0.190012  0.244470  ...  0.265412 -0.415595  0.003036  0.052484   \n",
       "3  0.141171  0.401255  0.070860  ...  0.202365 -0.208398  0.220897  0.254414   \n",
       "4 -0.042029  0.481624 -0.279851  ...  0.620761 -0.306609  0.379003  0.270570   \n",
       "5 -0.074319  0.314625  0.033591  ...  0.362093 -0.135943  0.133037  0.353604   \n",
       "6  0.436203 -0.085558 -0.012788  ...  0.145415  0.160032  0.071930  0.147640   \n",
       "\n",
       "        762       763       764       765       766       767  \n",
       "0 -0.379227  0.409229 -0.299176  0.155534  0.309284  0.124819  \n",
       "1  0.016025 -0.014596 -0.202858 -0.162947 -0.190418 -0.002013  \n",
       "2  0.345947  0.110091  0.405441  0.197792 -0.058253  0.212376  \n",
       "3  0.135893  0.077933  0.121339 -0.331250  0.737436 -0.296757  \n",
       "4 -0.204157  0.143271  0.045386 -0.348121  0.277476  0.084160  \n",
       "5 -0.222303  0.077625 -0.082624  0.261559  0.272954  0.113219  \n",
       "6  0.043789  0.253031 -0.009357  0.415206  0.142142  0.130365  \n",
       "\n",
       "[7 rows x 768 columns]"
      ]
     },
     "execution_count": 15,
     "metadata": {},
     "output_type": "execute_result"
    }
   ],
   "source": [
    "emb_sents = embedder.encode(wiki_df[\"text\"])\n",
    "emb_sent_df = pd.DataFrame(emb_sents, index=wiki_df.index)\n",
    "emb_sent_df"
   ]
  },
  {
   "cell_type": "markdown",
   "metadata": {
    "deletable": false,
    "editable": false
   },
   "source": [
    "<div class=\"alert alert-warning\">\n",
    "\n",
    "Solution_1.3\n",
    "    \n",
    "</div>\n",
    "\n",
    "_Points:_ 3"
   ]
  },
  {
   "cell_type": "code",
   "execution_count": 16,
   "metadata": {
    "tags": []
   },
   "outputs": [
    {
     "name": "stderr",
     "output_type": "stream",
     "text": [
      "/Users/celine/anaconda3/envs/cpsc330/lib/python3.10/site-packages/sklearn/cluster/_kmeans.py:1412: FutureWarning:\n",
      "\n",
      "The default value of `n_init` will change from 10 to 'auto' in 1.4. Set the value of `n_init` explicitly to suppress the warning\n",
      "\n"
     ]
    },
    {
     "data": {
      "text/html": [
       "<style>#sk-container-id-2 {color: black;}#sk-container-id-2 pre{padding: 0;}#sk-container-id-2 div.sk-toggleable {background-color: white;}#sk-container-id-2 label.sk-toggleable__label {cursor: pointer;display: block;width: 100%;margin-bottom: 0;padding: 0.3em;box-sizing: border-box;text-align: center;}#sk-container-id-2 label.sk-toggleable__label-arrow:before {content: \"▸\";float: left;margin-right: 0.25em;color: #696969;}#sk-container-id-2 label.sk-toggleable__label-arrow:hover:before {color: black;}#sk-container-id-2 div.sk-estimator:hover label.sk-toggleable__label-arrow:before {color: black;}#sk-container-id-2 div.sk-toggleable__content {max-height: 0;max-width: 0;overflow: hidden;text-align: left;background-color: #f0f8ff;}#sk-container-id-2 div.sk-toggleable__content pre {margin: 0.2em;color: black;border-radius: 0.25em;background-color: #f0f8ff;}#sk-container-id-2 input.sk-toggleable__control:checked~div.sk-toggleable__content {max-height: 200px;max-width: 100%;overflow: auto;}#sk-container-id-2 input.sk-toggleable__control:checked~label.sk-toggleable__label-arrow:before {content: \"▾\";}#sk-container-id-2 div.sk-estimator input.sk-toggleable__control:checked~label.sk-toggleable__label {background-color: #d4ebff;}#sk-container-id-2 div.sk-label input.sk-toggleable__control:checked~label.sk-toggleable__label {background-color: #d4ebff;}#sk-container-id-2 input.sk-hidden--visually {border: 0;clip: rect(1px 1px 1px 1px);clip: rect(1px, 1px, 1px, 1px);height: 1px;margin: -1px;overflow: hidden;padding: 0;position: absolute;width: 1px;}#sk-container-id-2 div.sk-estimator {font-family: monospace;background-color: #f0f8ff;border: 1px dotted black;border-radius: 0.25em;box-sizing: border-box;margin-bottom: 0.5em;}#sk-container-id-2 div.sk-estimator:hover {background-color: #d4ebff;}#sk-container-id-2 div.sk-parallel-item::after {content: \"\";width: 100%;border-bottom: 1px solid gray;flex-grow: 1;}#sk-container-id-2 div.sk-label:hover label.sk-toggleable__label {background-color: #d4ebff;}#sk-container-id-2 div.sk-serial::before {content: \"\";position: absolute;border-left: 1px solid gray;box-sizing: border-box;top: 0;bottom: 0;left: 50%;z-index: 0;}#sk-container-id-2 div.sk-serial {display: flex;flex-direction: column;align-items: center;background-color: white;padding-right: 0.2em;padding-left: 0.2em;position: relative;}#sk-container-id-2 div.sk-item {position: relative;z-index: 1;}#sk-container-id-2 div.sk-parallel {display: flex;align-items: stretch;justify-content: center;background-color: white;position: relative;}#sk-container-id-2 div.sk-item::before, #sk-container-id-2 div.sk-parallel-item::before {content: \"\";position: absolute;border-left: 1px solid gray;box-sizing: border-box;top: 0;bottom: 0;left: 50%;z-index: -1;}#sk-container-id-2 div.sk-parallel-item {display: flex;flex-direction: column;z-index: 1;position: relative;background-color: white;}#sk-container-id-2 div.sk-parallel-item:first-child::after {align-self: flex-end;width: 50%;}#sk-container-id-2 div.sk-parallel-item:last-child::after {align-self: flex-start;width: 50%;}#sk-container-id-2 div.sk-parallel-item:only-child::after {width: 0;}#sk-container-id-2 div.sk-dashed-wrapped {border: 1px dashed gray;margin: 0 0.4em 0.5em 0.4em;box-sizing: border-box;padding-bottom: 0.4em;background-color: white;}#sk-container-id-2 div.sk-label label {font-family: monospace;font-weight: bold;display: inline-block;line-height: 1.2em;}#sk-container-id-2 div.sk-label-container {text-align: center;}#sk-container-id-2 div.sk-container {/* jupyter's `normalize.less` sets `[hidden] { display: none; }` but bootstrap.min.css set `[hidden] { display: none !important; }` so we also need the `!important` here to be able to override the default hidden behavior on the sphinx rendered scikit-learn.org. See: https://github.com/scikit-learn/scikit-learn/issues/21755 */display: inline-block !important;position: relative;}#sk-container-id-2 div.sk-text-repr-fallback {display: none;}</style><div id=\"sk-container-id-2\" class=\"sk-top-container\"><div class=\"sk-text-repr-fallback\"><pre>KMeans(n_clusters=3, random_state=42)</pre><b>In a Jupyter environment, please rerun this cell to show the HTML representation or trust the notebook. <br />On GitHub, the HTML representation is unable to render, please try loading this page with nbviewer.org.</b></div><div class=\"sk-container\" hidden><div class=\"sk-item\"><div class=\"sk-estimator sk-toggleable\"><input class=\"sk-toggleable__control sk-hidden--visually\" id=\"sk-estimator-id-2\" type=\"checkbox\" checked><label for=\"sk-estimator-id-2\" class=\"sk-toggleable__label sk-toggleable__label-arrow\">KMeans</label><div class=\"sk-toggleable__content\"><pre>KMeans(n_clusters=3, random_state=42)</pre></div></div></div></div></div>"
      ],
      "text/plain": [
       "KMeans(n_clusters=3, random_state=42)"
      ]
     },
     "execution_count": 16,
     "metadata": {},
     "output_type": "execute_result"
    }
   ],
   "source": [
    "kmeans_emb = KMeans(n_clusters=k_clusters, random_state=42)\n",
    "kmeans_emb.fit(emb_sent_df)"
   ]
  },
  {
   "cell_type": "code",
   "execution_count": 17,
   "metadata": {},
   "outputs": [],
   "source": [
    "kmeans_emb_labels = kmeans_emb.labels_"
   ]
  },
  {
   "cell_type": "code",
   "execution_count": 18,
   "metadata": {
    "tags": []
   },
   "outputs": [
    {
     "data": {
      "text/html": [
       "<div>\n",
       "<style scoped>\n",
       "    .dataframe tbody tr th:only-of-type {\n",
       "        vertical-align: middle;\n",
       "    }\n",
       "\n",
       "    .dataframe tbody tr th {\n",
       "        vertical-align: top;\n",
       "    }\n",
       "\n",
       "    .dataframe thead th {\n",
       "        text-align: right;\n",
       "    }\n",
       "</style>\n",
       "<table border=\"1\" class=\"dataframe\">\n",
       "  <thead>\n",
       "    <tr style=\"text-align: right;\">\n",
       "      <th></th>\n",
       "      <th>wiki query</th>\n",
       "      <th>text</th>\n",
       "      <th>n_words</th>\n",
       "      <th>bow_kmeans</th>\n",
       "      <th>emb_kmeans</th>\n",
       "    </tr>\n",
       "  </thead>\n",
       "  <tbody>\n",
       "    <tr>\n",
       "      <th>0</th>\n",
       "      <td>baguette food</td>\n",
       "      <td>It is distinguishable by its length and crisp crust.</td>\n",
       "      <td>10</td>\n",
       "      <td>1</td>\n",
       "      <td>2</td>\n",
       "    </tr>\n",
       "    <tr>\n",
       "      <th>1</th>\n",
       "      <td>banana bread food</td>\n",
       "      <td>It is often a moist and sweet quick bread but some recipes are yeast raised.</td>\n",
       "      <td>16</td>\n",
       "      <td>2</td>\n",
       "      <td>2</td>\n",
       "    </tr>\n",
       "    <tr>\n",
       "      <th>2</th>\n",
       "      <td>bread food</td>\n",
       "      <td>Throughout recorded history and around the world, it has been an important part of many cultures' diet.</td>\n",
       "      <td>20</td>\n",
       "      <td>0</td>\n",
       "      <td>0</td>\n",
       "    </tr>\n",
       "    <tr>\n",
       "      <th>3</th>\n",
       "      <td>data science</td>\n",
       "      <td>Data science is multifaceted and can be described as a science, a research paradigm, a research method, a discipline, a workflow, and a profession.Data science is a \"concept to unify statistics, data analysis, informatics, and their related methods\" to \"understand and analyze actual phenomena\" with data.</td>\n",
       "      <td>59</td>\n",
       "      <td>1</td>\n",
       "      <td>1</td>\n",
       "    </tr>\n",
       "    <tr>\n",
       "      <th>4</th>\n",
       "      <td>sports analytics</td>\n",
       "      <td>Through the collection and analysis of these data, sports analytics inform players, coaches and other staff in order to facilitate decision making both during and prior to sporting events.</td>\n",
       "      <td>32</td>\n",
       "      <td>1</td>\n",
       "      <td>1</td>\n",
       "    </tr>\n",
       "    <tr>\n",
       "      <th>5</th>\n",
       "      <td>football sport</td>\n",
       "      <td>Sports can, through casual or organized participation, improve participants' physical health.</td>\n",
       "      <td>15</td>\n",
       "      <td>1</td>\n",
       "      <td>1</td>\n",
       "    </tr>\n",
       "    <tr>\n",
       "      <th>6</th>\n",
       "      <td>ice hockey</td>\n",
       "      <td>It belongs to a family of sports called hockey.</td>\n",
       "      <td>10</td>\n",
       "      <td>1</td>\n",
       "      <td>1</td>\n",
       "    </tr>\n",
       "  </tbody>\n",
       "</table>\n",
       "</div>"
      ],
      "text/plain": [
       "          wiki query  \\\n",
       "0  baguette food       \n",
       "1  banana bread food   \n",
       "2  bread food          \n",
       "3  data science        \n",
       "4  sports analytics    \n",
       "5  football sport      \n",
       "6  ice hockey          \n",
       "\n",
       "                                                                                                                                                                                                                                                                                                                text  \\\n",
       "0  It is distinguishable by its length and crisp crust.                                                                                                                                                                                                                                                                \n",
       "1  It is often a moist and sweet quick bread but some recipes are yeast raised.                                                                                                                                                                                                                                        \n",
       "2  Throughout recorded history and around the world, it has been an important part of many cultures' diet.                                                                                                                                                                                                             \n",
       "3  Data science is multifaceted and can be described as a science, a research paradigm, a research method, a discipline, a workflow, and a profession.Data science is a \"concept to unify statistics, data analysis, informatics, and their related methods\" to \"understand and analyze actual phenomena\" with data.   \n",
       "4  Through the collection and analysis of these data, sports analytics inform players, coaches and other staff in order to facilitate decision making both during and prior to sporting events.                                                                                                                        \n",
       "5  Sports can, through casual or organized participation, improve participants' physical health.                                                                                                                                                                                                                       \n",
       "6  It belongs to a family of sports called hockey.                                                                                                                                                                                                                                                                     \n",
       "\n",
       "   n_words  bow_kmeans  emb_kmeans  \n",
       "0  10       1           2           \n",
       "1  16       2           2           \n",
       "2  20       0           0           \n",
       "3  59       1           1           \n",
       "4  32       1           1           \n",
       "5  15       1           1           \n",
       "6  10       1           1           "
      ]
     },
     "execution_count": 18,
     "metadata": {},
     "output_type": "execute_result"
    }
   ],
   "source": [
    "wiki_df[\"emb_kmeans\"] = kmeans_emb_labels\n",
    "wiki_df"
   ]
  },
  {
   "cell_type": "markdown",
   "metadata": {
    "deletable": false,
    "editable": false
   },
   "source": [
    "<!-- END QUESTION -->\n",
    "\n",
    "<br><br>"
   ]
  },
  {
   "cell_type": "markdown",
   "metadata": {
    "deletable": false,
    "editable": false
   },
   "source": [
    "<!-- BEGIN QUESTION -->\n",
    "\n",
    "### 1.4 DBSCAN with cosine distance  \n",
    "rubric={points}\n",
    "\n",
    "Now try [`DBSCAN`](https://scikit-learn.org/stable/modules/generated/sklearn.cluster.DBSCAN.html) on our toy dataset. K-Means is kind of bound to the Euclidean distance because it is based on the notion of means. With `DBSCAN` we can try different distance metrics. In the context of text data, [cosine similarities](https://scikit-learn.org/stable/modules/metrics.html#cosine-similarity) or cosine distances tend to work well. Given vectors $u$ and $v$, the **cosine distance** between the vectors is defined as: \n",
    "\n",
    "$$distance_{cosine}(u,v) = 1 - (\\frac{u \\cdot v}{\\left\\lVert u\\right\\rVert_2 \\left\\lVert v\\right\\rVert_2})$$\n",
    "\n",
    "\n",
    "**Your tasks**\n",
    "\n",
    "1. Cluster documents in our toy corpus encoded with sentence embedding representation (`emb_sents`) and [DBSCAN](https://scikit-learn.org/stable/modules/generated/sklearn.cluster.DBSCAN.html?highlight=dbscan#sklearn.cluster.DBSCAN) with `metric='cosine'`. You will have to set appropriate values for the hyperparamters `eps` and `min_samples` to get meaningful clusters, as default values of these hyperparameters are unlikely to work well on this toy dataset.\n",
    "2. Store the clustering labels in the `dbscan_emb_labels` variable below. "
   ]
  },
  {
   "cell_type": "markdown",
   "metadata": {
    "deletable": false,
    "editable": false
   },
   "source": [
    "<div class=\"alert alert-warning\">\n",
    "\n",
    "Solution_1.4\n",
    "    \n",
    "</div>\n",
    "\n",
    "_Points:_ 4"
   ]
  },
  {
   "cell_type": "code",
   "execution_count": 19,
   "metadata": {
    "tags": []
   },
   "outputs": [],
   "source": [
    "from sklearn.cluster import DBSCAN"
   ]
  },
  {
   "cell_type": "code",
   "execution_count": 20,
   "metadata": {},
   "outputs": [
    {
     "name": "stdout",
     "output_type": "stream",
     "text": [
      "\n",
      "eps=0.7\n",
      "Number of clusters: 5\n",
      "Cluster sizes: [0 2 1 2 1 1]\n",
      "\n",
      "eps=0.75\n",
      "Number of clusters: 4\n",
      "Cluster sizes: [0 2 1 3 1]\n",
      "\n",
      "eps=0.8\n",
      "Number of clusters: 1\n",
      "Cluster sizes: [0 7]\n"
     ]
    }
   ],
   "source": [
    "# tuning eps and min_samples\n",
    "for eps in np.arange(0.7, 0.8, 0.05):\n",
    "    print(\"\\neps={}\".format(eps))\n",
    "    dbscan = DBSCAN(metric='cosine', eps=eps, min_samples=1)\n",
    "    labels = dbscan.fit_predict(emb_sents)\n",
    "    print(\"Number of clusters: {}\".format(len(np.unique(labels))))\n",
    "    print(\"Cluster sizes: {}\".format(np.bincount(labels + 1)))"
   ]
  },
  {
   "cell_type": "markdown",
   "metadata": {},
   "source": [
    "By intuition, earlier I identified three clusters with clusters having 3, 2, 2 example individually. Therefore, the min_sample value is set to 1. \n",
    "As shown in the results above, when eps =0.75 and min_sample = 1, the dbscan clustering result is the closest to my identified clusters.  "
   ]
  },
  {
   "cell_type": "code",
   "execution_count": 21,
   "metadata": {},
   "outputs": [],
   "source": [
    "best_eps = 0.75\n",
    "best_min_samples = 1\n",
    "dbscan = DBSCAN(metric='cosine', eps=best_eps, min_samples=best_min_samples)"
   ]
  },
  {
   "cell_type": "code",
   "execution_count": 22,
   "metadata": {
    "tags": []
   },
   "outputs": [],
   "source": [
    "# dbscan.fit(emb_sents)\n",
    "# dbscan_emb_labels = dbscane.labels_\n",
    "dbscan_emb_labels = dbscan.fit_predict(emb_sents)\n"
   ]
  },
  {
   "cell_type": "code",
   "execution_count": 23,
   "metadata": {
    "tags": []
   },
   "outputs": [
    {
     "data": {
      "text/html": [
       "<div>\n",
       "<style scoped>\n",
       "    .dataframe tbody tr th:only-of-type {\n",
       "        vertical-align: middle;\n",
       "    }\n",
       "\n",
       "    .dataframe tbody tr th {\n",
       "        vertical-align: top;\n",
       "    }\n",
       "\n",
       "    .dataframe thead th {\n",
       "        text-align: right;\n",
       "    }\n",
       "</style>\n",
       "<table border=\"1\" class=\"dataframe\">\n",
       "  <thead>\n",
       "    <tr style=\"text-align: right;\">\n",
       "      <th></th>\n",
       "      <th>wiki query</th>\n",
       "      <th>text</th>\n",
       "      <th>n_words</th>\n",
       "      <th>bow_kmeans</th>\n",
       "      <th>emb_kmeans</th>\n",
       "      <th>emb_dbscan</th>\n",
       "    </tr>\n",
       "  </thead>\n",
       "  <tbody>\n",
       "    <tr>\n",
       "      <th>0</th>\n",
       "      <td>baguette food</td>\n",
       "      <td>It is distinguishable by its length and crisp crust.</td>\n",
       "      <td>10</td>\n",
       "      <td>1</td>\n",
       "      <td>2</td>\n",
       "      <td>0</td>\n",
       "    </tr>\n",
       "    <tr>\n",
       "      <th>1</th>\n",
       "      <td>banana bread food</td>\n",
       "      <td>It is often a moist and sweet quick bread but some recipes are yeast raised.</td>\n",
       "      <td>16</td>\n",
       "      <td>2</td>\n",
       "      <td>2</td>\n",
       "      <td>0</td>\n",
       "    </tr>\n",
       "    <tr>\n",
       "      <th>2</th>\n",
       "      <td>bread food</td>\n",
       "      <td>Throughout recorded history and around the world, it has been an important part of many cultures' diet.</td>\n",
       "      <td>20</td>\n",
       "      <td>0</td>\n",
       "      <td>0</td>\n",
       "      <td>1</td>\n",
       "    </tr>\n",
       "    <tr>\n",
       "      <th>3</th>\n",
       "      <td>data science</td>\n",
       "      <td>Data science is multifaceted and can be described as a science, a research paradigm, a research method, a discipline, a workflow, and a profession.Data science is a \"concept to unify statistics, data analysis, informatics, and their related methods\" to \"understand and analyze actual phenomena\" with data.</td>\n",
       "      <td>59</td>\n",
       "      <td>1</td>\n",
       "      <td>1</td>\n",
       "      <td>2</td>\n",
       "    </tr>\n",
       "    <tr>\n",
       "      <th>4</th>\n",
       "      <td>sports analytics</td>\n",
       "      <td>Through the collection and analysis of these data, sports analytics inform players, coaches and other staff in order to facilitate decision making both during and prior to sporting events.</td>\n",
       "      <td>32</td>\n",
       "      <td>1</td>\n",
       "      <td>1</td>\n",
       "      <td>2</td>\n",
       "    </tr>\n",
       "    <tr>\n",
       "      <th>5</th>\n",
       "      <td>football sport</td>\n",
       "      <td>Sports can, through casual or organized participation, improve participants' physical health.</td>\n",
       "      <td>15</td>\n",
       "      <td>1</td>\n",
       "      <td>1</td>\n",
       "      <td>2</td>\n",
       "    </tr>\n",
       "    <tr>\n",
       "      <th>6</th>\n",
       "      <td>ice hockey</td>\n",
       "      <td>It belongs to a family of sports called hockey.</td>\n",
       "      <td>10</td>\n",
       "      <td>1</td>\n",
       "      <td>1</td>\n",
       "      <td>3</td>\n",
       "    </tr>\n",
       "  </tbody>\n",
       "</table>\n",
       "</div>"
      ],
      "text/plain": [
       "          wiki query  \\\n",
       "0  baguette food       \n",
       "1  banana bread food   \n",
       "2  bread food          \n",
       "3  data science        \n",
       "4  sports analytics    \n",
       "5  football sport      \n",
       "6  ice hockey          \n",
       "\n",
       "                                                                                                                                                                                                                                                                                                                text  \\\n",
       "0  It is distinguishable by its length and crisp crust.                                                                                                                                                                                                                                                                \n",
       "1  It is often a moist and sweet quick bread but some recipes are yeast raised.                                                                                                                                                                                                                                        \n",
       "2  Throughout recorded history and around the world, it has been an important part of many cultures' diet.                                                                                                                                                                                                             \n",
       "3  Data science is multifaceted and can be described as a science, a research paradigm, a research method, a discipline, a workflow, and a profession.Data science is a \"concept to unify statistics, data analysis, informatics, and their related methods\" to \"understand and analyze actual phenomena\" with data.   \n",
       "4  Through the collection and analysis of these data, sports analytics inform players, coaches and other staff in order to facilitate decision making both during and prior to sporting events.                                                                                                                        \n",
       "5  Sports can, through casual or organized participation, improve participants' physical health.                                                                                                                                                                                                                       \n",
       "6  It belongs to a family of sports called hockey.                                                                                                                                                                                                                                                                     \n",
       "\n",
       "   n_words  bow_kmeans  emb_kmeans  emb_dbscan  \n",
       "0  10       1           2           0           \n",
       "1  16       2           2           0           \n",
       "2  20       0           0           1           \n",
       "3  59       1           1           2           \n",
       "4  32       1           1           2           \n",
       "5  15       1           1           2           \n",
       "6  10       1           1           3           "
      ]
     },
     "execution_count": 23,
     "metadata": {},
     "output_type": "execute_result"
    }
   ],
   "source": [
    "wiki_df[\"emb_dbscan\"] = dbscan_emb_labels\n",
    "wiki_df"
   ]
  },
  {
   "cell_type": "markdown",
   "metadata": {
    "deletable": false,
    "editable": false
   },
   "source": [
    "<!-- END QUESTION -->\n",
    "\n",
    "<br><br>"
   ]
  },
  {
   "cell_type": "markdown",
   "metadata": {
    "deletable": false,
    "editable": false
   },
   "source": [
    "<!-- BEGIN QUESTION -->\n",
    "\n",
    "### 1.5 Hierarchical clustering with sentence embedding representation\n",
    "rubric={points}\n",
    "\n",
    "**Your tasks:**\n",
    "\n",
    "Try hierarchical clustering on `emb_sents`. In particular\n",
    "1. Create and show a dendrogram with `complete` linkage and `metric='cosine'` on this toy dataset.\n",
    "2. Create flat clusters using `fcluster` with appropriate hyperparameters and store cluster labels to `hier_emb_labels` variable below."
   ]
  },
  {
   "cell_type": "markdown",
   "metadata": {
    "deletable": false,
    "editable": false
   },
   "source": [
    "<div class=\"alert alert-warning\">\n",
    "\n",
    "Solution_1.5\n",
    "    \n",
    "</div>\n",
    "\n",
    "_Points:_ 3"
   ]
  },
  {
   "cell_type": "code",
   "execution_count": 65,
   "metadata": {
    "tags": []
   },
   "outputs": [
    {
     "data": {
      "text/plain": [
       "array([1, 1, 3, 2, 2, 3, 3], dtype=int32)"
      ]
     },
     "execution_count": 65,
     "metadata": {},
     "output_type": "execute_result"
    }
   ],
   "source": [
    "linkage_array = linkage(emb_sents, method='complete', metric='cosine')\n",
    "hier_emb_labels = fcluster(linkage_array, 3, criterion=\"maxclust\",)\n",
    "hier_emb_labels"
   ]
  },
  {
   "cell_type": "code",
   "execution_count": 25,
   "metadata": {},
   "outputs": [
    {
     "data": {
      "image/png": "[encoded data removed]",
      "text/plain": [
       "<Figure size 1200x400 with 2 Axes>"
      ]
     },
     "metadata": {},
     "output_type": "display_data"
    }
   ],
   "source": [
    "plot_dendrogram_clusters(emb_sents, linkage_array, hier_emb_labels, linkage_type='complete', title=\"flattened with maxclust=3\")"
   ]
  },
  {
   "cell_type": "code",
   "execution_count": 26,
   "metadata": {
    "tags": []
   },
   "outputs": [
    {
     "data": {
      "text/html": [
       "<div>\n",
       "<style scoped>\n",
       "    .dataframe tbody tr th:only-of-type {\n",
       "        vertical-align: middle;\n",
       "    }\n",
       "\n",
       "    .dataframe tbody tr th {\n",
       "        vertical-align: top;\n",
       "    }\n",
       "\n",
       "    .dataframe thead th {\n",
       "        text-align: right;\n",
       "    }\n",
       "</style>\n",
       "<table border=\"1\" class=\"dataframe\">\n",
       "  <thead>\n",
       "    <tr style=\"text-align: right;\">\n",
       "      <th></th>\n",
       "      <th>wiki query</th>\n",
       "      <th>text</th>\n",
       "      <th>n_words</th>\n",
       "      <th>bow_kmeans</th>\n",
       "      <th>emb_kmeans</th>\n",
       "      <th>emb_dbscan</th>\n",
       "      <th>emb_hierarchical</th>\n",
       "    </tr>\n",
       "  </thead>\n",
       "  <tbody>\n",
       "    <tr>\n",
       "      <th>0</th>\n",
       "      <td>baguette food</td>\n",
       "      <td>It is distinguishable by its length and crisp crust.</td>\n",
       "      <td>10</td>\n",
       "      <td>1</td>\n",
       "      <td>2</td>\n",
       "      <td>0</td>\n",
       "      <td>1</td>\n",
       "    </tr>\n",
       "    <tr>\n",
       "      <th>1</th>\n",
       "      <td>banana bread food</td>\n",
       "      <td>It is often a moist and sweet quick bread but some recipes are yeast raised.</td>\n",
       "      <td>16</td>\n",
       "      <td>2</td>\n",
       "      <td>2</td>\n",
       "      <td>0</td>\n",
       "      <td>1</td>\n",
       "    </tr>\n",
       "    <tr>\n",
       "      <th>2</th>\n",
       "      <td>bread food</td>\n",
       "      <td>Throughout recorded history and around the world, it has been an important part of many cultures' diet.</td>\n",
       "      <td>20</td>\n",
       "      <td>0</td>\n",
       "      <td>0</td>\n",
       "      <td>1</td>\n",
       "      <td>3</td>\n",
       "    </tr>\n",
       "    <tr>\n",
       "      <th>3</th>\n",
       "      <td>data science</td>\n",
       "      <td>Data science is multifaceted and can be described as a science, a research paradigm, a research method, a discipline, a workflow, and a profession.Data science is a \"concept to unify statistics, data analysis, informatics, and their related methods\" to \"understand and analyze actual phenomena\" with data.</td>\n",
       "      <td>59</td>\n",
       "      <td>1</td>\n",
       "      <td>1</td>\n",
       "      <td>2</td>\n",
       "      <td>2</td>\n",
       "    </tr>\n",
       "    <tr>\n",
       "      <th>4</th>\n",
       "      <td>sports analytics</td>\n",
       "      <td>Through the collection and analysis of these data, sports analytics inform players, coaches and other staff in order to facilitate decision making both during and prior to sporting events.</td>\n",
       "      <td>32</td>\n",
       "      <td>1</td>\n",
       "      <td>1</td>\n",
       "      <td>2</td>\n",
       "      <td>2</td>\n",
       "    </tr>\n",
       "    <tr>\n",
       "      <th>5</th>\n",
       "      <td>football sport</td>\n",
       "      <td>Sports can, through casual or organized participation, improve participants' physical health.</td>\n",
       "      <td>15</td>\n",
       "      <td>1</td>\n",
       "      <td>1</td>\n",
       "      <td>2</td>\n",
       "      <td>3</td>\n",
       "    </tr>\n",
       "    <tr>\n",
       "      <th>6</th>\n",
       "      <td>ice hockey</td>\n",
       "      <td>It belongs to a family of sports called hockey.</td>\n",
       "      <td>10</td>\n",
       "      <td>1</td>\n",
       "      <td>1</td>\n",
       "      <td>3</td>\n",
       "      <td>3</td>\n",
       "    </tr>\n",
       "  </tbody>\n",
       "</table>\n",
       "</div>"
      ],
      "text/plain": [
       "          wiki query  \\\n",
       "0  baguette food       \n",
       "1  banana bread food   \n",
       "2  bread food          \n",
       "3  data science        \n",
       "4  sports analytics    \n",
       "5  football sport      \n",
       "6  ice hockey          \n",
       "\n",
       "                                                                                                                                                                                                                                                                                                                text  \\\n",
       "0  It is distinguishable by its length and crisp crust.                                                                                                                                                                                                                                                                \n",
       "1  It is often a moist and sweet quick bread but some recipes are yeast raised.                                                                                                                                                                                                                                        \n",
       "2  Throughout recorded history and around the world, it has been an important part of many cultures' diet.                                                                                                                                                                                                             \n",
       "3  Data science is multifaceted and can be described as a science, a research paradigm, a research method, a discipline, a workflow, and a profession.Data science is a \"concept to unify statistics, data analysis, informatics, and their related methods\" to \"understand and analyze actual phenomena\" with data.   \n",
       "4  Through the collection and analysis of these data, sports analytics inform players, coaches and other staff in order to facilitate decision making both during and prior to sporting events.                                                                                                                        \n",
       "5  Sports can, through casual or organized participation, improve participants' physical health.                                                                                                                                                                                                                       \n",
       "6  It belongs to a family of sports called hockey.                                                                                                                                                                                                                                                                     \n",
       "\n",
       "   n_words  bow_kmeans  emb_kmeans  emb_dbscan  emb_hierarchical  \n",
       "0  10       1           2           0           1                 \n",
       "1  16       2           2           0           1                 \n",
       "2  20       0           0           1           3                 \n",
       "3  59       1           1           2           2                 \n",
       "4  32       1           1           2           2                 \n",
       "5  15       1           1           2           3                 \n",
       "6  10       1           1           3           3                 "
      ]
     },
     "execution_count": 26,
     "metadata": {},
     "output_type": "execute_result"
    }
   ],
   "source": [
    "wiki_df[\"emb_hierarchical\"] = hier_emb_labels\n",
    "wiki_df"
   ]
  },
  {
   "cell_type": "markdown",
   "metadata": {
    "deletable": false,
    "editable": false
   },
   "source": [
    "<!-- END QUESTION -->\n",
    "\n",
    "<br><br>"
   ]
  },
  {
   "cell_type": "markdown",
   "metadata": {
    "deletable": false,
    "editable": false
   },
   "source": [
    "<!-- BEGIN QUESTION -->\n",
    "\n",
    "### 1.6 Discussion\n",
    "rubric={points}\n",
    "\n",
    "**Your tasks:**\n",
    "\n",
    "1. Reflect on and discuss the clustering results of the methods you explored in the previous exercises, focusing on the following points:    \n",
    "    - effect of input representation on clustering results\n",
    "    - whether the clustering results match with your intuitions and the challenges associated with getting the desired clustering results with each method"
   ]
  },
  {
   "cell_type": "markdown",
   "metadata": {
    "deletable": false,
    "editable": false
   },
   "source": [
    "<div class=\"alert alert-warning\">\n",
    "\n",
    "Solution_1.6\n",
    "    \n",
    "</div>\n",
    "\n",
    "_Points:_ 4"
   ]
  },
  {
   "cell_type": "code",
   "execution_count": 27,
   "metadata": {},
   "outputs": [
    {
     "data": {
      "text/html": [
       "<div>\n",
       "<style scoped>\n",
       "    .dataframe tbody tr th:only-of-type {\n",
       "        vertical-align: middle;\n",
       "    }\n",
       "\n",
       "    .dataframe tbody tr th {\n",
       "        vertical-align: top;\n",
       "    }\n",
       "\n",
       "    .dataframe thead th {\n",
       "        text-align: right;\n",
       "    }\n",
       "</style>\n",
       "<table border=\"1\" class=\"dataframe\">\n",
       "  <thead>\n",
       "    <tr style=\"text-align: right;\">\n",
       "      <th></th>\n",
       "      <th>wiki query</th>\n",
       "      <th>bow_kmeans</th>\n",
       "      <th>emb_kmeans</th>\n",
       "      <th>emb_dbscan</th>\n",
       "      <th>emb_hierarchical</th>\n",
       "      <th>my_intuition</th>\n",
       "    </tr>\n",
       "  </thead>\n",
       "  <tbody>\n",
       "    <tr>\n",
       "      <th>0</th>\n",
       "      <td>baguette food</td>\n",
       "      <td>1</td>\n",
       "      <td>2</td>\n",
       "      <td>0</td>\n",
       "      <td>1</td>\n",
       "      <td>0</td>\n",
       "    </tr>\n",
       "    <tr>\n",
       "      <th>1</th>\n",
       "      <td>banana bread food</td>\n",
       "      <td>2</td>\n",
       "      <td>2</td>\n",
       "      <td>0</td>\n",
       "      <td>1</td>\n",
       "      <td>0</td>\n",
       "    </tr>\n",
       "    <tr>\n",
       "      <th>2</th>\n",
       "      <td>bread food</td>\n",
       "      <td>0</td>\n",
       "      <td>0</td>\n",
       "      <td>1</td>\n",
       "      <td>3</td>\n",
       "      <td>0</td>\n",
       "    </tr>\n",
       "    <tr>\n",
       "      <th>3</th>\n",
       "      <td>data science</td>\n",
       "      <td>1</td>\n",
       "      <td>1</td>\n",
       "      <td>2</td>\n",
       "      <td>2</td>\n",
       "      <td>1</td>\n",
       "    </tr>\n",
       "    <tr>\n",
       "      <th>4</th>\n",
       "      <td>sports analytics</td>\n",
       "      <td>1</td>\n",
       "      <td>1</td>\n",
       "      <td>2</td>\n",
       "      <td>2</td>\n",
       "      <td>1</td>\n",
       "    </tr>\n",
       "    <tr>\n",
       "      <th>5</th>\n",
       "      <td>football sport</td>\n",
       "      <td>1</td>\n",
       "      <td>1</td>\n",
       "      <td>2</td>\n",
       "      <td>3</td>\n",
       "      <td>2</td>\n",
       "    </tr>\n",
       "    <tr>\n",
       "      <th>6</th>\n",
       "      <td>ice hockey</td>\n",
       "      <td>1</td>\n",
       "      <td>1</td>\n",
       "      <td>3</td>\n",
       "      <td>3</td>\n",
       "      <td>2</td>\n",
       "    </tr>\n",
       "  </tbody>\n",
       "</table>\n",
       "</div>"
      ],
      "text/plain": [
       "          wiki query  bow_kmeans  emb_kmeans  emb_dbscan  emb_hierarchical  \\\n",
       "0  baguette food      1           2           0           1                  \n",
       "1  banana bread food  2           2           0           1                  \n",
       "2  bread food         0           0           1           3                  \n",
       "3  data science       1           1           2           2                  \n",
       "4  sports analytics   1           1           2           2                  \n",
       "5  football sport     1           1           2           3                  \n",
       "6  ice hockey         1           1           3           3                  \n",
       "\n",
       "  my_intuition  \n",
       "0  0            \n",
       "1  0            \n",
       "2  0            \n",
       "3  1            \n",
       "4  1            \n",
       "5  2            \n",
       "6  2            "
      ]
     },
     "execution_count": 27,
     "metadata": {},
     "output_type": "execute_result"
    }
   ],
   "source": [
    "wiki_df[\"my_intuition\"] = ['0', '0', '0','1', '1', '2', '2']\n",
    "wiki_df[columns:=['wiki query','bow_kmeans', 'emb_kmeans',\n",
    "       'emb_dbscan', 'emb_hierarchical', 'my_intuition']]"
   ]
  },
  {
   "cell_type": "markdown",
   "metadata": {},
   "source": [
    "\n",
    "Bag-of-words representation is limited in that it does not take into account word ordering and context. There are other richer and more expressive representations of text which can be extracted using transfer learning. In this lab, we will use one such representation called sentence embedding representation, which uses deep learning models to generate dense, fixed-length vector representations for sentences. We will extract such representations using sentence transformer package. Sentence embedding takes into account context of words and semantic meaning of sentences and it is likely to work better when we are interested in clustering sentences based on their semantic similarity. "
   ]
  },
  {
   "cell_type": "markdown",
   "metadata": {},
   "source": [
    "**Effect of input representation on clustering results**\n",
    "\n",
    "Comparing the clustering result in bow_keamns and emb_kmeans, we can conclude that input representation has different clustering results albert using the same k-means clustering algorithm. \n",
    "\n",
    "Specifically, sentence embedding representation produced a more reasonable result with the first two data example are group together, which aligns with my_intuition. Sentence embedding representation performer better largely because that it takes into account context of words and semantic, which are neglected in bag of words representation. \n",
    "\n",
    "**Compare the results with my intuition**\n",
    "\n",
    "- Among all the clustering results, emb_hierarchical produced the clustering result identical to my intutions, however, there is still one example (the 3rd example with the 'bread food' query) clustered differently from my tuition.\n",
    "\n",
    "- The emb_dbscan has 5 examples clustered matching my intuition. The performance of bow_kmeans and emb_kmeans are much worse, with only 3/7 and 4/7 result aligning with my intuition.\n",
    "\n",
    "**Challenges associated with getting the desired clustering results with each method**\n",
    "- k-means: can't identify outliers; the decision boundary is linear, so in this problem, it fails to to identify clusters with complex shapes.\n",
    "- dbscan: default hyper-paramater produces poor result, need to adjust two hyperparameters eps and min_samples to get a more desired result. Also dbscan performs poorly when clusters in a data set have different densities.\n",
    "- hierarchical clustering: the challenges lie in determining the linkage criteria to find similarity between clusters. It may be hard to pick the best linkage criteria on the first try because the linkage concepts can be abstract when dealing with data with contextual and sematic meanings. In the problem I was lucky to get a relatively satisfying result with compete linkage, and the toy corpus is very small so I didn't have to apply truncation.\n"
   ]
  },
  {
   "cell_type": "markdown",
   "metadata": {
    "deletable": false,
    "editable": false
   },
   "source": [
    "<!-- END QUESTION -->\n",
    "\n",
    "<br><br>"
   ]
  },
  {
   "cell_type": "markdown",
   "metadata": {},
   "source": [
    "<br><br>"
   ]
  },
  {
   "cell_type": "markdown",
   "metadata": {
    "deletable": false,
    "editable": false
   },
   "source": [
    "<!-- BEGIN QUESTION -->\n",
    "\n",
    "### 1.7 Visualizing clusters\n",
    "rubric={points}\n",
    "\n",
    "\n",
    "One approach to working with unlabeled data is visualization. That said, our data is high-dimensional, making it challenging to visualize. Take sentence embedding representation as an example: each instance is depicted in 768 dimensions. To visualize such high-dimensional data, we can employ dimensionality reduction techniques to extract the most significant 2 or 3 components, and then visualize this low-dimensional data.\n",
    "\n",
    "Given data as a `numpy` array and corresponding cluster assignments, the `plot_umap_clusters` function below transforms the data by applying dimensionality reduction technique called [UMAP](https://umap-learn.readthedocs.io/en/latest/) to it and plots the transformed data with different colours for different clusters. \n",
    "\n",
    "> *Note: At this point we are using this function only for visualization and you are not expected to understand the UMAP part.* \n",
    "\n",
    "You'll have to install the `umap-learn` package in the course conda environment either with `conda` or `pip`, as described in the [documentation](https://umap-learn.readthedocs.io/en/latest/index.html). \n",
    "\n",
    "```\n",
    "> conda activate cpsc330\n",
    "> conda install -c conda-forge umap-learn\n",
    "```\n",
    "or\n",
    "\n",
    "```\n",
    "> conda activate cpsc330\n",
    "> pip install umap-learn \n",
    "```\n",
    "\n",
    "If you get an error with the import below try\n",
    "\n",
    "```\n",
    "pip install --upgrade numba umap-learn\n",
    "```\n",
    "\n",
    "**Your tasks:**\n",
    "\n",
    "1. Visualize the clusters created by the methods above using `plot_umap_clusters` function below. In other words, visualize clusters identified by each of the methods below. \n",
    "    - K-Means with bag-of-words representation \n",
    "    - K-Means with sentence embedding representation\n",
    "    - DBSCAN with sentence embedding representation \n",
    "    - Flat cluster of hierarchical clustering with sentence embedding representation     "
   ]
  },
  {
   "cell_type": "code",
   "execution_count": 28,
   "metadata": {
    "deletable": false,
    "editable": false
   },
   "outputs": [],
   "source": [
    "import umap"
   ]
  },
  {
   "cell_type": "code",
   "execution_count": 29,
   "metadata": {
    "deletable": false,
    "editable": false
   },
   "outputs": [],
   "source": [
    "import umap\n",
    "\n",
    "def plot_umap_clusters(\n",
    "    data,\n",
    "    cluster_labels,\n",
    "    raw_sents=wiki_df[\"text\"],\n",
    "    show_labels=False,\n",
    "    size=50,\n",
    "    n_neighbors=15,\n",
    "    title=\"UMAP visualization\",\n",
    "    ignore_noise=False,\n",
    "):\n",
    "    \"\"\"\n",
    "    Carry out dimensionality reduction using UMAP and plot 2-dimensional clusters.\n",
    "\n",
    "    Parameters\n",
    "    -----------\n",
    "    data : numpy array\n",
    "        data as a numpy array\n",
    "    cluster_labels : list\n",
    "        cluster labels for each row in the dataset\n",
    "    raw_sents : list\n",
    "        the original raw sentences for labeling datapoints\n",
    "    show_labels : boolean\n",
    "        whether you want to show labels for points or not (default: False)\n",
    "    size : int\n",
    "        size of points in the scatterplot\n",
    "    n_neighbors : int\n",
    "        n_neighbors hyperparameter of UMAP. See the documentation.\n",
    "    title : str\n",
    "        title for the visualization plot\n",
    "\n",
    "    Returns\n",
    "    -----------\n",
    "    None. Shows the clusters.\n",
    "    \"\"\"\n",
    "\n",
    "    reducer = umap.UMAP(n_neighbors=n_neighbors, random_state=42)\n",
    "    Z = reducer.fit_transform(data)  # reduce dimensionality\n",
    "    umap_df = pd.DataFrame(data=Z, columns=[\"dim1\", \"dim2\"])\n",
    "    umap_df[\"cluster\"] = cluster_labels\n",
    "\n",
    "    if ignore_noise:\n",
    "        umap_df = umap_df[umap_df[\"cluster\"] != -1]\n",
    "\n",
    "    labels = np.unique(umap_df[\"cluster\"])\n",
    "\n",
    "    fig, ax = plt.subplots(figsize=(6, 5))\n",
    "    ax.set_title(title)\n",
    "\n",
    "    scatter = ax.scatter(\n",
    "        umap_df[\"dim1\"],\n",
    "        umap_df[\"dim2\"],\n",
    "        c=umap_df[\"cluster\"],\n",
    "        cmap=\"tab20b\",\n",
    "        s=size,\n",
    "        #edgecolors=\"k\",\n",
    "        #linewidths=0.1,\n",
    "    )\n",
    "\n",
    "    legend = ax.legend(*scatter.legend_elements(), loc=\"best\", title=\"Clusters\")\n",
    "    ax.add_artist(legend)\n",
    "\n",
    "    if show_labels:\n",
    "        x = umap_df[\"dim1\"].tolist()\n",
    "        y = umap_df[\"dim2\"].tolist()\n",
    "        for i, txt in enumerate(raw_sents):\n",
    "            ax.annotate(\" \".join(txt.split()[:10]), (x[i], y[i]))\n",
    "    plt.show()"
   ]
  },
  {
   "cell_type": "markdown",
   "metadata": {
    "deletable": false,
    "editable": false
   },
   "source": [
    "<div class=\"alert alert-warning\">\n",
    "\n",
    "Solution_1.7\n",
    "    \n",
    "</div>\n",
    "\n",
    "_Points:_ 4"
   ]
  },
  {
   "cell_type": "code",
   "execution_count": 30,
   "metadata": {
    "metadata": {
     "tags": [
      "otter_ignore"
     ]
    },
    "tags": []
   },
   "outputs": [
    {
     "name": "stderr",
     "output_type": "stream",
     "text": [
      "/Users/celine/anaconda3/envs/cpsc330/lib/python3.10/site-packages/umap/umap_.py:1943: UserWarning:\n",
      "\n",
      "n_jobs value -1 overridden to 1 by setting random_state. Use no seed for parallelism.\n",
      "\n",
      "/Users/celine/anaconda3/envs/cpsc330/lib/python3.10/site-packages/umap/umap_.py:2433: UserWarning:\n",
      "\n",
      "n_neighbors is larger than the dataset size; truncating to X.shape[0] - 1\n",
      "\n"
     ]
    },
    {
     "data": {
      "image/png": "[encoded data removed]",
      "text/plain": [
       "<Figure size 600x500 with 1 Axes>"
      ]
     },
     "metadata": {},
     "output_type": "display_data"
    }
   ],
   "source": [
    "# plot k-means with bow representation\n",
    "kmeans_bow_plot = plot_umap_clusters(\n",
    "    text_transformed,\n",
    "    kmeans_bow_labels,\n",
    "    raw_sents=wiki_df[\"text\"],\n",
    "    show_labels=False,\n",
    "    size=50,\n",
    "    n_neighbors=15,\n",
    "    title=\"k-means with bow representation visualization\",\n",
    "    ignore_noise=False,\n",
    ")"
   ]
  },
  {
   "cell_type": "code",
   "execution_count": 31,
   "metadata": {},
   "outputs": [
    {
     "name": "stderr",
     "output_type": "stream",
     "text": [
      "/Users/celine/anaconda3/envs/cpsc330/lib/python3.10/site-packages/umap/umap_.py:1943: UserWarning:\n",
      "\n",
      "n_jobs value -1 overridden to 1 by setting random_state. Use no seed for parallelism.\n",
      "\n",
      "/Users/celine/anaconda3/envs/cpsc330/lib/python3.10/site-packages/umap/umap_.py:2433: UserWarning:\n",
      "\n",
      "n_neighbors is larger than the dataset size; truncating to X.shape[0] - 1\n",
      "\n"
     ]
    },
    {
     "data": {
      "image/png": "[encoded data removed]",
      "text/plain": [
       "<Figure size 600x500 with 1 Axes>"
      ]
     },
     "metadata": {},
     "output_type": "display_data"
    }
   ],
   "source": [
    "# plot k-means with emb representation\n",
    "kmeans_emb_plot = plot_umap_clusters(\n",
    "    emb_sents,\n",
    "    kmeans_emb_labels,\n",
    "    raw_sents=wiki_df[\"text\"],\n",
    "    show_labels=False,\n",
    "    size=50,\n",
    "    n_neighbors=15,\n",
    "    title=\"k-means with emb representation visualization\",\n",
    "    ignore_noise=False,\n",
    ")"
   ]
  },
  {
   "cell_type": "markdown",
   "metadata": {
    "deletable": false,
    "editable": false
   },
   "source": [
    "<!-- END QUESTION -->\n",
    "\n",
    "<br><br><br><br>"
   ]
  },
  {
   "cell_type": "code",
   "execution_count": 32,
   "metadata": {},
   "outputs": [
    {
     "name": "stderr",
     "output_type": "stream",
     "text": [
      "/Users/celine/anaconda3/envs/cpsc330/lib/python3.10/site-packages/umap/umap_.py:1943: UserWarning:\n",
      "\n",
      "n_jobs value -1 overridden to 1 by setting random_state. Use no seed for parallelism.\n",
      "\n",
      "/Users/celine/anaconda3/envs/cpsc330/lib/python3.10/site-packages/umap/umap_.py:2433: UserWarning:\n",
      "\n",
      "n_neighbors is larger than the dataset size; truncating to X.shape[0] - 1\n",
      "\n"
     ]
    },
    {
     "data": {
      "image/png": "[encoded data removed]",
      "text/plain": [
       "<Figure size 600x500 with 1 Axes>"
      ]
     },
     "metadata": {},
     "output_type": "display_data"
    }
   ],
   "source": [
    "# plot k-means with bow representation\n",
    "dbscan_emb_plot = plot_umap_clusters(\n",
    "    emb_sents,\n",
    "    dbscan_emb_labels,\n",
    "    raw_sents=wiki_df[\"text\"],\n",
    "    show_labels=False,\n",
    "    size=50,\n",
    "    n_neighbors=15,\n",
    "    title=\"dbscan with emb representation visualization\",\n",
    "    ignore_noise=False,\n",
    ")"
   ]
  },
  {
   "cell_type": "code",
   "execution_count": 33,
   "metadata": {},
   "outputs": [
    {
     "name": "stderr",
     "output_type": "stream",
     "text": [
      "/Users/celine/anaconda3/envs/cpsc330/lib/python3.10/site-packages/umap/umap_.py:1943: UserWarning:\n",
      "\n",
      "n_jobs value -1 overridden to 1 by setting random_state. Use no seed for parallelism.\n",
      "\n",
      "/Users/celine/anaconda3/envs/cpsc330/lib/python3.10/site-packages/umap/umap_.py:2433: UserWarning:\n",
      "\n",
      "n_neighbors is larger than the dataset size; truncating to X.shape[0] - 1\n",
      "\n"
     ]
    },
    {
     "data": {
      "image/png": "[encoded data removed]",
      "text/plain": [
       "<Figure size 600x500 with 1 Axes>"
      ]
     },
     "metadata": {},
     "output_type": "display_data"
    }
   ],
   "source": [
    "# plot hierarchical clustering with sentence embedding \n",
    "kmeans_bow_plot = plot_umap_clusters(\n",
    "    emb_sents,\n",
    "    hier_emb_labels,\n",
    "    raw_sents=wiki_df[\"text\"],\n",
    "    show_labels=False,\n",
    "    size=50,\n",
    "    n_neighbors=15,\n",
    "    title=\"hierarchical clustering with emb representation visualization\",\n",
    "    ignore_noise=False,\n",
    ")"
   ]
  },
  {
   "cell_type": "markdown",
   "metadata": {},
   "source": [
    "## Exercise 2: [Food.com](https://www.food.com/) recipes \n",
    "<hr>\n",
    "\n",
    "Now that we have applied document clustering on a toy corpus, let's move to a more realistic corpus. \n",
    "\n",
    "In the lecture, we worked on an activity of manually clustering food items and discussed challenges associated with it. We also applied different clustering algorithms to cluster food images. We'll continue this theme of clustering food items in this lab. But instead of images we will cluster textual description of food items, i.e., recipe names.   \n",
    "\n",
    "In this lab, we will work with a sample of [Kaggle's Food.com recipes corpus](https://www.kaggle.com/shuyangli94/food-com-recipes-and-user-interactions). This corpus contains 180K+ recipes and 700K+ recipe reviews. In this lab, we'll only focus on recipes and **not** on reviews. The recipes are present in `RAW_recipes.csv`. Our goal is to find categories or groupings of recipes from this corpus based on their names. \n",
    "\n",
    "**Your tasks:**\n",
    "\n",
    "- Download [`RAW_recipes.csv`](https://www.kaggle.com/shuyangli94/food-com-recipes-and-user-interactions?select=RAW_recipes.csv) and put it under the `data` directory in the homework folder. \n",
    "- Run the code below. The dataset is quite large, and in this assignment, for speed, you will work with a sample of the dataset. The function `get_recipes_sample` below carries out some preliminary preprocessing and returns a sample of the recipes with most frequent tags. \n",
    "\n",
    "> *Note: Depending upon the capacity of your computer, feel free to increase or decrease the size of this sample by changing the value for `n_tags`. If you decide to go with a different value of `n_tags`, state it clearly in Exercise 2.1 so that the grader knows about it.* "
   ]
  },
  {
   "cell_type": "code",
   "execution_count": 34,
   "metadata": {},
   "outputs": [
    {
     "data": {
      "text/plain": [
       "(231637, 12)"
      ]
     },
     "execution_count": 34,
     "metadata": {},
     "output_type": "execute_result"
    }
   ],
   "source": [
    "orig_recipes_df = pd.read_csv(\"data/RAW_recipes.csv\")\n",
    "orig_recipes_df.shape"
   ]
  },
  {
   "cell_type": "code",
   "execution_count": 35,
   "metadata": {},
   "outputs": [],
   "source": [
    "def get_recipes_sample(orig_recipes_df, n_tags=300, min_len=5):\n",
    "    orig_recipes_df = orig_recipes_df.dropna()  # Remove rows with NaNs.\n",
    "    orig_recipes_df = orig_recipes_df.drop_duplicates(\n",
    "        \"name\"\n",
    "    )  # Remove rows with duplicate names.\n",
    "    # Remove rows where recipe names are too short (< 5 characters).\n",
    "    orig_recipes_df = orig_recipes_df[orig_recipes_df[\"name\"].apply(len) >= min_len]\n",
    "    # Only consider the rows where tags are one of the most frequent n tags.\n",
    "    first_n = orig_recipes_df[\"tags\"].value_counts()[0:n_tags].index.tolist()\n",
    "    recipes_df = orig_recipes_df[orig_recipes_df[\"tags\"].isin(first_n)]\n",
    "    return recipes_df"
   ]
  },
  {
   "cell_type": "code",
   "execution_count": 36,
   "metadata": {},
   "outputs": [
    {
     "data": {
      "text/plain": [
       "(9100, 12)"
      ]
     },
     "execution_count": 36,
     "metadata": {},
     "output_type": "execute_result"
    }
   ],
   "source": [
    "recipes_df = get_recipes_sample(orig_recipes_df)\n",
    "recipes_df.shape"
   ]
  },
  {
   "cell_type": "code",
   "execution_count": 37,
   "metadata": {},
   "outputs": [
    {
     "data": {
      "text/plain": [
       "42        i yam what i yam  muffins    \n",
       "101       to your health  muffins      \n",
       "129       250 00 chocolate chip cookies\n",
       "138       lplermagronen                \n",
       "163       california roll   salad      \n",
       "                   ...                 \n",
       "231430    zucchini wheat germ cookies  \n",
       "231514    zucchini blueberry bread     \n",
       "231547    zucchini salsa burgers       \n",
       "231596    zuppa toscana                \n",
       "231629    zydeco salad                 \n",
       "Name: name, Length: 9100, dtype: object"
      ]
     },
     "execution_count": 37,
     "metadata": {},
     "output_type": "execute_result"
    }
   ],
   "source": [
    "recipes_df[\"name\"]"
   ]
  },
  {
   "cell_type": "markdown",
   "metadata": {},
   "source": [
    "<br><br>"
   ]
  },
  {
   "cell_type": "markdown",
   "metadata": {},
   "source": [
    "**In the rest of the homework, we will use `recipes_df` above, which is a subset of the original dataset.** "
   ]
  },
  {
   "cell_type": "markdown",
   "metadata": {},
   "source": [
    "<br><br>"
   ]
  },
  {
   "cell_type": "markdown",
   "metadata": {
    "deletable": false,
    "editable": false
   },
   "source": [
    "<!-- BEGIN QUESTION -->\n",
    "\n",
    "### 2.1 Longest and shorted recipe names \n",
    "rubric={points}\n",
    "\n",
    "**Your tasks:**\n",
    "\n",
    "1. Print the shortest and longest recipe names (length in terms of number of characters) from `recipes_df`. If there is more than one recipe with the same shortest/longest length, store **one** of them in `shortest_recipe` and/or `longest_recipe` as a **string**."
   ]
  },
  {
   "cell_type": "markdown",
   "metadata": {
    "deletable": false,
    "editable": false
   },
   "source": [
    "<div class=\"alert alert-warning\">\n",
    "\n",
    "Solution_2.1\n",
    "    \n",
    "</div>\n",
    "\n",
    "_Points:_ 2"
   ]
  },
  {
   "cell_type": "code",
   "execution_count": 38,
   "metadata": {
    "tags": []
   },
   "outputs": [
    {
     "name": "stdout",
     "output_type": "stream",
     "text": [
      "the longest recipe name:  baked tomatoes with a parmesan cheese crust and balsamic drizzle\n",
      "the shortest recipe name:  bread\n"
     ]
    }
   ],
   "source": [
    "shortest_recipe = recipes_df['name'].iloc[0]\n",
    "longest_recipe = recipes_df['name'].iloc[0]\n",
    "for name in pd.Series(recipes_df['name']):\n",
    "    if len(name) > len(longest_recipe):\n",
    "        longest_recipe = name\n",
    "    if len(name) < len(shortest_recipe):\n",
    "        shortest_recipe = name\n",
    "print(\"the longest recipe name: \", longest_recipe)\n",
    "print(\"the shortest recipe name: \", shortest_recipe)\n"
   ]
  },
  {
   "cell_type": "code",
   "execution_count": 39,
   "metadata": {},
   "outputs": [
    {
     "data": {
      "text/plain": [
       "735       007 cocktail                                    \n",
       "784       1 2 3 4 cake  orange                            \n",
       "787       1 bowl fudgy brownies                           \n",
       "741       1 lb abm hawaiian sweet bread                   \n",
       "849       10 minute baked halibut with garlic butter sauce\n",
       "                                ...                       \n",
       "231410    zucchini tater tots                             \n",
       "231423    zucchini tots                                   \n",
       "231430    zucchini wheat germ cookies                     \n",
       "231596    zuppa toscana                                   \n",
       "231629    zydeco salad                                    \n",
       "Name: name, Length: 9100, dtype: object"
      ]
     },
     "execution_count": 39,
     "metadata": {},
     "output_type": "execute_result"
    }
   ],
   "source": [
    "recipes_df['name'].sort_values(ascending=True)"
   ]
  },
  {
   "cell_type": "markdown",
   "metadata": {
    "deletable": false,
    "editable": false
   },
   "source": [
    "<!-- END QUESTION -->\n",
    "\n",
    "<br><br>"
   ]
  },
  {
   "cell_type": "markdown",
   "metadata": {
    "deletable": false,
    "editable": false
   },
   "source": [
    "<!-- BEGIN QUESTION -->\n",
    "\n",
    "### 2.2 More EDA\n",
    "rubric={points}\n",
    "\n",
    "**Your tasks:**\n",
    "1. Create a word cloud for the recipe names. You can use [the `wordcloud` package](https://github.com/amueller/word_cloud) for this, which you will have to install in the course environment.\n",
    "```\n",
    "> conda activate cpsc330\n",
    "> conda install -c conda-forge wordcloud\n",
    "```"
   ]
  },
  {
   "cell_type": "markdown",
   "metadata": {
    "deletable": false,
    "editable": false
   },
   "source": [
    "<div class=\"alert alert-warning\">\n",
    "\n",
    "Solution_2.2\n",
    "    \n",
    "</div>\n",
    "\n",
    "_Points:_ 2"
   ]
  },
  {
   "cell_type": "code",
   "execution_count": 40,
   "metadata": {},
   "outputs": [],
   "source": [
    "recipes_names_string= recipes_df[\"name\"].to_string(header=False, index=False)"
   ]
  },
  {
   "cell_type": "code",
   "execution_count": 41,
   "metadata": {
    "tags": []
   },
   "outputs": [
    {
     "data": {
      "image/png": "[encoded data removed]",
      "text/plain": [
       "<Figure size 800x550 with 1 Axes>"
      ]
     },
     "metadata": {},
     "output_type": "display_data"
    },
    {
     "data": {
      "image/png": "[encoded data removed]",
      "text/plain": [
       "<Figure size 800x550 with 1 Axes>"
      ]
     },
     "metadata": {},
     "output_type": "display_data"
    }
   ],
   "source": [
    "from wordcloud import WordCloud\n",
    "\n",
    "# Generate a word cloud image\n",
    "wordcloud = WordCloud().generate(recipes_names_string)\n",
    "\n",
    "# Display the generated image:\n",
    "# the matplotlib way:\n",
    "import matplotlib.pyplot as plt\n",
    "plt.imshow(wordcloud, interpolation='bilinear')\n",
    "plt.axis(\"off\")\n",
    "\n",
    "# lower max_font_size\n",
    "wordcloud = WordCloud(max_font_size=40).generate(text)\n",
    "plt.figure()\n",
    "plt.imshow(wordcloud, interpolation=\"bilinear\")\n",
    "plt.axis(\"off\")\n",
    "plt.show()"
   ]
  },
  {
   "cell_type": "markdown",
   "metadata": {
    "deletable": false,
    "editable": false
   },
   "source": [
    "<!-- END QUESTION -->\n",
    "\n",
    "<br><br>"
   ]
  },
  {
   "cell_type": "markdown",
   "metadata": {
    "deletable": false,
    "editable": false
   },
   "source": [
    "<!-- BEGIN QUESTION -->\n",
    "\n",
    "### 2.3 Representing recipe names\n",
    "rubric={points}\n",
    "\n",
    "The next step is creating a representation of recipe names. \n",
    "\n",
    "**Your tasks:**\n",
    "\n",
    "1. Similar to Exercise 1, create sentence embedding representation of recipe names (`name` column in `recipes_df`).  For the rest of the homework, we'll stick to the sentence embedding representation of recipe names.\n",
    "\n",
    "\n",
    "> You might have to convert the recipe names to a list (`recipes_df[\"name\"].tolist()`) for the embedder to work\n",
    "> *If you create a dataframe with sentence embedding representation, set the index to `recipes_df.index` so that the indices match with the indices of the sample we are working with.*  \n",
    "> **This might take a while to run.**\n"
   ]
  },
  {
   "cell_type": "markdown",
   "metadata": {
    "deletable": false,
    "editable": false
   },
   "source": [
    "<div class=\"alert alert-warning\">\n",
    "\n",
    "Solution_2.3\n",
    "    \n",
    "</div>\n",
    "\n",
    "_Points:_ 3"
   ]
  },
  {
   "cell_type": "code",
   "execution_count": 42,
   "metadata": {
    "metadata": {
     "tags": [
      "otter_ignore"
     ]
    },
    "tags": []
   },
   "outputs": [
    {
     "data": {
      "text/plain": [
       "array([[-0.33347425,  0.22786464, -0.30733892, ...,  0.19773833,\n",
       "        -0.38642117, -0.002184  ],\n",
       "       [-0.02452281,  0.24622291, -0.05570877, ...,  0.18630971,\n",
       "        -0.27850008,  0.02857978],\n",
       "       [-0.02656151,  0.19467108,  0.03810177, ...,  0.1332103 ,\n",
       "        -0.1223441 , -0.10986306],\n",
       "       ...,\n",
       "       [ 0.01614885, -0.0530352 , -0.03509734, ..., -0.43600035,\n",
       "        -0.05390983,  0.01242335],\n",
       "       [ 0.02665929,  0.20248263,  0.344634  , ..., -0.24086173,\n",
       "         0.23683017,  0.17712276],\n",
       "       [-0.03194692, -0.2581896 , -0.0797656 , ..., -0.56938267,\n",
       "        -0.21914792, -0.0335256 ]], dtype=float32)"
      ]
     },
     "execution_count": 42,
     "metadata": {},
     "output_type": "execute_result"
    }
   ],
   "source": [
    "embeddings = embedder.encode(recipes_df[\"name\"].tolist())\n",
    "embeddings_df = pd.DataFrame(embeddings, index=recipes_df.index)\n",
    "embeddings"
   ]
  },
  {
   "cell_type": "markdown",
   "metadata": {
    "deletable": false,
    "editable": false
   },
   "source": [
    "<!-- END QUESTION -->\n",
    "\n",
    "<br><br><br><br>"
   ]
  },
  {
   "cell_type": "markdown",
   "metadata": {},
   "source": [
    "## Exercise 3: Clustering recipe names\n",
    "<hr>\n",
    "\n",
    "In this exercise you'll cluster recipe names with some of the clustering algorithms we have seen in class. This will also involve making some attempts to pick reasonable hyperparameter values for each clustering method based on the quality of the resulting clusters. For example, for KMeans, you need to specify the number of clusters in advance, which is often challenging on real-world datasets. For DBSCAN, you need to pick appropriate `eps` and `min_samples`. For hierarchical clustering, you need to pick a suitable linkage criterion, distance metric, and prune the tree so that it's possible to visualize and interpret it. \n",
    "\n",
    "Here are some methods which may help you with picking reasonable values for the hyperparameters. \n",
    "- Visualize the Elbow plot (KMeans). \n",
    "- Visualize Silhouette plots. \n",
    "- Visualize resulting clusters using `plot_umap_clusters` function from Exercise 1. \n",
    "- Sample some recipes from each cluster, manually inspect whether there are coherent semantic themes. (For this, you may use the function `print_clusters` given below.) \n",
    "        \n",
    "> You may use the [`yellowbrick`](https://www.scikit-yb.org/en/latest/) package for visualizing the Elbow plot and the Silhouette plots.\n",
    "\n",
    "**Note that the process of picking reasonable hyperparameter values will be exploratory, iterative, and will involve manual inspection and judgment, as there is no ground truth to verify how well the model is doing. In your solutions, please do not include everything you try. Only present the results of the most informative trials. Add a narrative to your answer so that it's easy for the grader to follow your choices and reasoning.** "
   ]
  },
  {
   "cell_type": "code",
   "execution_count": 43,
   "metadata": {},
   "outputs": [],
   "source": [
    "def print_clusters(recipes_df, cluster_labels, n_recipes=10, replace=False, random_state=None):\n",
    "    \"\"\"\n",
    "    Given recipes_df containing recipe names and cluster assignment (labels), \n",
    "    sample and print n_recipes recipes per cluster. \n",
    "\n",
    "    Parameters\n",
    "    -----------\n",
    "    recipe_df : pandas dataframe \n",
    "        recipes dataframe containing recipe names in the \"name\" column\n",
    "    cluster_labels : ndarray or a list\n",
    "        cluster labels for each row in recipes_df \n",
    "    n_recipes : int\n",
    "        number of examples to sample from each cluster\n",
    "    replace: bool\n",
    "        replace flag to pass to the sampling of recipe names\n",
    "\n",
    "    Returns\n",
    "    -----------\n",
    "    None\n",
    "    \"\"\"    \n",
    "    \n",
    "    grouped = (\n",
    "        pd.DataFrame(\n",
    "            {\n",
    "                \"name\": recipes_df[\"name\"],\n",
    "                \"cluster_label\": cluster_labels,\n",
    "            }\n",
    "        )\n",
    "        .sort_values(\"cluster_label\")\n",
    "        .groupby(\"cluster_label\")    \n",
    "    )\n",
    "    \n",
    "    for name, group in grouped:\n",
    "        print(f\"Cluster {name}\")        \n",
    "        print((\"----------\").format(\"\"))        \n",
    "        print(\"\\n\".join(group.sample(n_recipes, random_state=random_state)['name'].tolist()))\n",
    "        print(\"\\n\\n\")"
   ]
  },
  {
   "cell_type": "markdown",
   "metadata": {},
   "source": [
    "<br><br>"
   ]
  },
  {
   "cell_type": "markdown",
   "metadata": {
    "deletable": false,
    "editable": false
   },
   "source": [
    "<!-- BEGIN QUESTION -->\n",
    "\n",
    "### 3.1 K-Means\n",
    "rubric={points}\n",
    "\n",
    "**Your tasks:**\n",
    "\n",
    "1. Cluster recipe titles using KMeans. Make some attempts to determine the optimal number of clusters. \n",
    "2. Pick one or two best models and justify your choice. "
   ]
  },
  {
   "cell_type": "markdown",
   "metadata": {
    "deletable": false,
    "editable": false
   },
   "source": [
    "<div class=\"alert alert-warning\">\n",
    "\n",
    "Solution_3.1\n",
    "    \n",
    "</div>\n",
    "\n",
    "_Points:_ 6"
   ]
  },
  {
   "cell_type": "markdown",
   "metadata": {},
   "source": [
    "_Type your answer here, replacing this text._"
   ]
  },
  {
   "cell_type": "markdown",
   "metadata": {},
   "source": [
    "\n",
    "Use elbow to determine the number of clusters"
   ]
  },
  {
   "cell_type": "code",
   "execution_count": 99,
   "metadata": {
    "metadata": {
     "tags": [
      "otter_ignore"
     ]
    },
    "tags": []
   },
   "outputs": [],
   "source": [
    "def plot_elbow(w, h, inertia_values):\n",
    "    plt.figure(figsize=(w, h))\n",
    "    plt.axvline(x=3, linestyle=\"-.\", c=\"black\")\n",
    "    plt.plot(range(1, 10), inertia_values, \"-o\")\n",
    "    ax = plt.gca()\n",
    "    ax.tick_params(\"both\", labelsize=(w + h))\n",
    "    ax.set_xlabel(\"K\", fontsize=w+h)\n",
    "    ax.set_ylabel(\"Inertia\", fontsize=w+h)"
   ]
  },
  {
   "cell_type": "code",
   "execution_count": 100,
   "metadata": {
    "metadata": {
     "tags": [
      "otter_ignore"
     ]
    },
    "tags": []
   },
   "outputs": [
    {
     "data": {
      "image/png": "[encoded data removed]",
      "text/plain": [
       "<Figure size 1000x600 with 1 Axes>"
      ]
     },
     "metadata": {},
     "output_type": "display_data"
    }
   ],
   "source": [
    "inertia_values = list()\n",
    "for k in range(1, 10):\n",
    "    inertia_values.append(KMeans(n_clusters=k, n_init='auto').fit(embeddings).inertia_)\n",
    "plot_elbow(10, 6, inertia_values)"
   ]
  },
  {
   "cell_type": "markdown",
   "metadata": {},
   "source": [
    "From the plot above, we could argue that 3 clusters are good for grouping the recipe names.\n",
    "the inertia drops sharply when clusters increases from 0 to 3. The inetia drops much slower when k is greater than 3"
   ]
  },
  {
   "cell_type": "code",
   "execution_count": 101,
   "metadata": {
    "metadata": {
     "tags": [
      "otter_ignore"
     ]
    },
    "tags": [
     "otter_ignore"
    ]
   },
   "outputs": [
    {
     "data": {
      "text/plain": [
       "array([2, 2, 2, ..., 1, 0, 1], dtype=int32)"
      ]
     },
     "execution_count": 101,
     "metadata": {},
     "output_type": "execute_result"
    }
   ],
   "source": [
    "cluster_count = 3\n",
    "kmeans_embeddings = KMeans(n_clusters=cluster_count, random_state=42,n_init = 'auto')\n",
    "kmeans_embeddings.fit(embeddings_df)\n",
    "kmeans_embeddings_labels = kmeans_embeddings.labels_\n",
    "kmeans_embeddings_labels"
   ]
  },
  {
   "cell_type": "code",
   "execution_count": 102,
   "metadata": {
    "metadata": {
     "tags": [
      "otter_ignore"
     ]
    },
    "tags": []
   },
   "outputs": [
    {
     "name": "stdout",
     "output_type": "stream",
     "text": [
      "Cluster 0\n",
      "----------\n",
      "biscuits\n",
      "absolut trouble\n",
      "martini dominikanis\n",
      "ultimate smoothie\n",
      "connie s stroganoff\n",
      "irish redhead\n",
      "pink lady squares\n",
      "pizza bubble ring\n",
      "frexca\n",
      "cheesy heartattacks  5fix\n",
      "\n",
      "\n",
      "\n",
      "Cluster 1\n",
      "----------\n",
      "soft fried tortillas with tomatillo salsa and chicken\n",
      "barefoot contessa s caesar salad with pancetta\n",
      "pampered chef   3 cheese garden pizza\n",
      "chicken with tomato cream sauce\n",
      "spinach and tangerine salad\n",
      "chunky mediterranean pasta soup\n",
      "green curry chicken n veg kebabs over rice\n",
      "panko chicken with creamy sauce\n",
      "sauteed chicken breast with clover honey and chili\n",
      "baked chicken chow mein\n",
      "\n",
      "\n",
      "\n",
      "Cluster 2\n",
      "----------\n",
      "low fat baking mix muffins\n",
      "cherry cream cheese cookies\n",
      "basic banana cake\n",
      "the ultimate chocolate chip cookies\n",
      "easy orange creamsicle hot tea\n",
      "mona s mother s mother s best friends favorite cookies\n",
      "coach s favortie peanut butter m m cookies\n",
      "rhubarb sticky buns\n",
      "easy sopapilla cheesecake\n",
      "sweet potato cheesecake\n",
      "\n",
      "\n",
      "\n"
     ]
    }
   ],
   "source": [
    "print_clusters(recipes_df, kmeans_embeddings_labels, n_recipes=10, replace=False, random_state=None)"
   ]
  },
  {
   "cell_type": "code",
   "execution_count": 103,
   "metadata": {
    "tags": []
   },
   "outputs": [
    {
     "data": {
      "image/png": "[encoded data removed]",
      "text/plain": [
       "<Figure size 800x550 with 1 Axes>"
      ]
     },
     "metadata": {},
     "output_type": "display_data"
    },
    {
     "data": {
      "text/plain": [
       "<Axes: title={'center': 'Silhouette Plot of KMeans Clustering for 9100 Samples in 3 Centers'}, xlabel='silhouette coefficient values', ylabel='cluster label'>"
      ]
     },
     "execution_count": 103,
     "metadata": {},
     "output_type": "execute_result"
    }
   ],
   "source": [
    "visualizer = SilhouetteVisualizer(kmeans_embeddings, colors=\"yellowbrick\")\n",
    "visualizer.fit(embeddings_df)  # Fit the data to the visualizer\n",
    "visualizer.show()\n",
    "# Finalize and render the figure"
   ]
  },
  {
   "cell_type": "markdown",
   "metadata": {},
   "source": [
    "As evidenced by the silhouette scores, the clustering resutl is not optimal. \n",
    "- There are three clusters in total with relatively even thickness, meaning data are relatively evenly distributed into three clusters. To be more precise, examples in the red-colored cluster > green-colored cluster > blue-colored cluster. \n",
    "\n",
    "- All examples in the blue-colored cluster is smaller than 0; The red and green clusters have a very small sihouette socre of 0.2 and o.1. This indicates that there are many overlaps in each cluster. \n",
    "\n",
    "- All three silhouette socres have very deep dropoffs as shown in the graph, meaning that the clustering result is poor. "
   ]
  },
  {
   "cell_type": "markdown",
   "metadata": {
    "deletable": false,
    "editable": false
   },
   "source": [
    "<!-- END QUESTION -->\n",
    "\n",
    "<br><br><br><br>"
   ]
  },
  {
   "cell_type": "markdown",
   "metadata": {
    "deletable": false,
    "editable": false
   },
   "source": [
    "<!-- BEGIN QUESTION -->\n",
    "\n",
    "### 3.2 DBSCAN\n",
    "rubric={points}\n",
    "\n",
    "**Your tasks:**\n",
    "\n",
    "1. Cluster recipe names using `DBSCAN` with `metric=\"cosine\"`. Make some attempts to tune the  hyperparameters `eps` and `min_samples`. "
   ]
  },
  {
   "cell_type": "markdown",
   "metadata": {
    "deletable": false,
    "editable": false
   },
   "source": [
    "<div class=\"alert alert-warning\">\n",
    "\n",
    "Solution_3.2\n",
    "    \n",
    "</div>\n",
    "\n",
    "_Points:_ 6"
   ]
  },
  {
   "cell_type": "markdown",
   "metadata": {},
   "source": [
    "_Type your answer here, replacing this text._"
   ]
  },
  {
   "cell_type": "code",
   "execution_count": 106,
   "metadata": {
    "metadata": {
     "tags": [
      "otter_ignore"
     ]
    },
    "tags": []
   },
   "outputs": [
    {
     "name": "stdout",
     "output_type": "stream",
     "text": [
      "\n",
      "eps=0.1\n"
     ]
    },
    {
     "name": "stdout",
     "output_type": "stream",
     "text": [
      "Number of clusters: 1\n",
      "Cluster sizes: [9100]\n",
      "\n",
      "eps=0.15000000000000002\n",
      "Number of clusters: 2\n",
      "Cluster sizes: [8910  190]\n",
      "\n",
      "eps=0.20000000000000004\n",
      "Number of clusters: 3\n",
      "Cluster sizes: [8427  655   18]\n",
      "\n",
      "eps=0.25000000000000006\n",
      "Number of clusters: 5\n",
      "Cluster sizes: [7377 1650   32   21   20]\n",
      "\n",
      "eps=0.30000000000000004\n",
      "Number of clusters: 6\n",
      "Cluster sizes: [5558 2643  755   39   26   79]\n",
      "\n",
      "eps=0.3500000000000001\n",
      "Number of clusters: 3\n",
      "Cluster sizes: [3613 5446   41]\n",
      "\n",
      "eps=0.40000000000000013\n",
      "Number of clusters: 2\n",
      "Cluster sizes: [2008 7092]\n",
      "\n",
      "eps=0.4500000000000001\n",
      "Number of clusters: 2\n",
      "Cluster sizes: [1123 7977]\n"
     ]
    }
   ],
   "source": [
    "# tuning eps \n",
    "for eps in np.arange(0.1, 0.5, 0.05):\n",
    "    print(\"\\neps={}\".format(eps))\n",
    "    dbscan = DBSCAN(metric='cosine', eps=eps, min_samples=20)\n",
    "    labels = dbscan.fit_predict(embeddings)\n",
    "    print(\"Number of clusters: {}\".format(len(np.unique(labels))))\n",
    "    print(\"Cluster sizes: {}\".format(np.bincount(labels + 1)))"
   ]
  },
  {
   "cell_type": "code",
   "execution_count": 107,
   "metadata": {},
   "outputs": [
    {
     "name": "stdout",
     "output_type": "stream",
     "text": [
      "\n",
      "min_samples=10\n"
     ]
    },
    {
     "ename": "KeyboardInterrupt",
     "evalue": "",
     "output_type": "error",
     "traceback": [
      "\u001b[0;31m---------------------------------------------------------------------------\u001b[0m",
      "\u001b[0;31mKeyboardInterrupt\u001b[0m                         Traceback (most recent call last)",
      "\u001b[1;32m/Users/celine/Documents/23fall/CPSC_330/cpsc330-2023W1/hw/hw6/hw6.ipynb Cell 111\u001b[0m line \u001b[0;36m5\n\u001b[1;32m      <a href='vscode-notebook-cell:/Users/celine/Documents/23fall/CPSC_330/cpsc330-2023W1/hw/hw6/hw6.ipynb#Y220sZmlsZQ%3D%3D?line=2'>3</a>\u001b[0m \u001b[39mprint\u001b[39m(\u001b[39m\"\u001b[39m\u001b[39m\\n\u001b[39;00m\u001b[39mmin_samples=\u001b[39m\u001b[39m{}\u001b[39;00m\u001b[39m\"\u001b[39m\u001b[39m.\u001b[39mformat(min_samples))\n\u001b[1;32m      <a href='vscode-notebook-cell:/Users/celine/Documents/23fall/CPSC_330/cpsc330-2023W1/hw/hw6/hw6.ipynb#Y220sZmlsZQ%3D%3D?line=3'>4</a>\u001b[0m dbscan \u001b[39m=\u001b[39m DBSCAN(metric\u001b[39m=\u001b[39m\u001b[39m'\u001b[39m\u001b[39mcosine\u001b[39m\u001b[39m'\u001b[39m, eps\u001b[39m=\u001b[39m\u001b[39m0.3500000000000001\u001b[39m, min_samples\u001b[39m=\u001b[39mmin_samples)\n\u001b[0;32m----> <a href='vscode-notebook-cell:/Users/celine/Documents/23fall/CPSC_330/cpsc330-2023W1/hw/hw6/hw6.ipynb#Y220sZmlsZQ%3D%3D?line=4'>5</a>\u001b[0m labels \u001b[39m=\u001b[39m dbscan\u001b[39m.\u001b[39;49mfit_predict(embeddings)\n\u001b[1;32m      <a href='vscode-notebook-cell:/Users/celine/Documents/23fall/CPSC_330/cpsc330-2023W1/hw/hw6/hw6.ipynb#Y220sZmlsZQ%3D%3D?line=5'>6</a>\u001b[0m \u001b[39mprint\u001b[39m(\u001b[39m\"\u001b[39m\u001b[39mNumber of clusters: \u001b[39m\u001b[39m{}\u001b[39;00m\u001b[39m\"\u001b[39m\u001b[39m.\u001b[39mformat(\u001b[39mlen\u001b[39m(np\u001b[39m.\u001b[39munique(labels))))\n\u001b[1;32m      <a href='vscode-notebook-cell:/Users/celine/Documents/23fall/CPSC_330/cpsc330-2023W1/hw/hw6/hw6.ipynb#Y220sZmlsZQ%3D%3D?line=6'>7</a>\u001b[0m \u001b[39mprint\u001b[39m(\u001b[39m\"\u001b[39m\u001b[39mCluster sizes: \u001b[39m\u001b[39m{}\u001b[39;00m\u001b[39m\"\u001b[39m\u001b[39m.\u001b[39mformat(np\u001b[39m.\u001b[39mbincount(labels \u001b[39m+\u001b[39m \u001b[39m1\u001b[39m)))\n",
      "File \u001b[0;32m~/anaconda3/envs/cpsc330/lib/python3.10/site-packages/sklearn/cluster/_dbscan.py:448\u001b[0m, in \u001b[0;36mDBSCAN.fit_predict\u001b[0;34m(self, X, y, sample_weight)\u001b[0m\n\u001b[1;32m    423\u001b[0m \u001b[39mdef\u001b[39;00m \u001b[39mfit_predict\u001b[39m(\u001b[39mself\u001b[39m, X, y\u001b[39m=\u001b[39m\u001b[39mNone\u001b[39;00m, sample_weight\u001b[39m=\u001b[39m\u001b[39mNone\u001b[39;00m):\n\u001b[1;32m    424\u001b[0m \u001b[39m    \u001b[39m\u001b[39m\"\"\"Compute clusters from a data or distance matrix and predict labels.\u001b[39;00m\n\u001b[1;32m    425\u001b[0m \n\u001b[1;32m    426\u001b[0m \u001b[39m    Parameters\u001b[39;00m\n\u001b[0;32m   (...)\u001b[0m\n\u001b[1;32m    446\u001b[0m \u001b[39m        Cluster labels. Noisy samples are given the label -1.\u001b[39;00m\n\u001b[1;32m    447\u001b[0m \u001b[39m    \"\"\"\u001b[39;00m\n\u001b[0;32m--> 448\u001b[0m     \u001b[39mself\u001b[39;49m\u001b[39m.\u001b[39;49mfit(X, sample_weight\u001b[39m=\u001b[39;49msample_weight)\n\u001b[1;32m    449\u001b[0m     \u001b[39mreturn\u001b[39;00m \u001b[39mself\u001b[39m\u001b[39m.\u001b[39mlabels_\n",
      "File \u001b[0;32m~/anaconda3/envs/cpsc330/lib/python3.10/site-packages/sklearn/base.py:1151\u001b[0m, in \u001b[0;36m_fit_context.<locals>.decorator.<locals>.wrapper\u001b[0;34m(estimator, *args, **kwargs)\u001b[0m\n\u001b[1;32m   1144\u001b[0m     estimator\u001b[39m.\u001b[39m_validate_params()\n\u001b[1;32m   1146\u001b[0m \u001b[39mwith\u001b[39;00m config_context(\n\u001b[1;32m   1147\u001b[0m     skip_parameter_validation\u001b[39m=\u001b[39m(\n\u001b[1;32m   1148\u001b[0m         prefer_skip_nested_validation \u001b[39mor\u001b[39;00m global_skip_validation\n\u001b[1;32m   1149\u001b[0m     )\n\u001b[1;32m   1150\u001b[0m ):\n\u001b[0;32m-> 1151\u001b[0m     \u001b[39mreturn\u001b[39;00m fit_method(estimator, \u001b[39m*\u001b[39;49margs, \u001b[39m*\u001b[39;49m\u001b[39m*\u001b[39;49mkwargs)\n",
      "File \u001b[0;32m~/anaconda3/envs/cpsc330/lib/python3.10/site-packages/sklearn/cluster/_dbscan.py:396\u001b[0m, in \u001b[0;36mDBSCAN.fit\u001b[0;34m(self, X, y, sample_weight)\u001b[0m\n\u001b[1;32m    394\u001b[0m neighbors_model\u001b[39m.\u001b[39mfit(X)\n\u001b[1;32m    395\u001b[0m \u001b[39m# This has worst case O(n^2) memory complexity\u001b[39;00m\n\u001b[0;32m--> 396\u001b[0m neighborhoods \u001b[39m=\u001b[39m neighbors_model\u001b[39m.\u001b[39;49mradius_neighbors(X, return_distance\u001b[39m=\u001b[39;49m\u001b[39mFalse\u001b[39;49;00m)\n\u001b[1;32m    398\u001b[0m \u001b[39mif\u001b[39;00m sample_weight \u001b[39mis\u001b[39;00m \u001b[39mNone\u001b[39;00m:\n\u001b[1;32m    399\u001b[0m     n_neighbors \u001b[39m=\u001b[39m np\u001b[39m.\u001b[39marray([\u001b[39mlen\u001b[39m(neighbors) \u001b[39mfor\u001b[39;00m neighbors \u001b[39min\u001b[39;00m neighborhoods])\n",
      "File \u001b[0;32m~/anaconda3/envs/cpsc330/lib/python3.10/site-packages/sklearn/neighbors/_base.py:1215\u001b[0m, in \u001b[0;36mRadiusNeighborsMixin.radius_neighbors\u001b[0;34m(self, X, radius, return_distance, sort_results)\u001b[0m\n\u001b[1;32m   1213\u001b[0m     results \u001b[39m=\u001b[39m neigh_dist, neigh_ind\n\u001b[1;32m   1214\u001b[0m \u001b[39melse\u001b[39;00m:\n\u001b[0;32m-> 1215\u001b[0m     neigh_ind_list \u001b[39m=\u001b[39m \u001b[39msum\u001b[39;49m(chunked_results, [])\n\u001b[1;32m   1216\u001b[0m     results \u001b[39m=\u001b[39m _to_object_array(neigh_ind_list)\n\u001b[1;32m   1218\u001b[0m \u001b[39mif\u001b[39;00m sort_results:\n",
      "File \u001b[0;32m~/anaconda3/envs/cpsc330/lib/python3.10/site-packages/sklearn/metrics/pairwise.py:2017\u001b[0m, in \u001b[0;36mpairwise_distances_chunked\u001b[0;34m(X, Y, reduce_func, metric, n_jobs, working_memory, **kwds)\u001b[0m\n\u001b[1;32m   2015\u001b[0m \u001b[39melse\u001b[39;00m:\n\u001b[1;32m   2016\u001b[0m     X_chunk \u001b[39m=\u001b[39m X[sl]\n\u001b[0;32m-> 2017\u001b[0m D_chunk \u001b[39m=\u001b[39m pairwise_distances(X_chunk, Y, metric\u001b[39m=\u001b[39;49mmetric, n_jobs\u001b[39m=\u001b[39;49mn_jobs, \u001b[39m*\u001b[39;49m\u001b[39m*\u001b[39;49mkwds)\n\u001b[1;32m   2018\u001b[0m \u001b[39mif\u001b[39;00m (X \u001b[39mis\u001b[39;00m Y \u001b[39mor\u001b[39;00m Y \u001b[39mis\u001b[39;00m \u001b[39mNone\u001b[39;00m) \u001b[39mand\u001b[39;00m PAIRWISE_DISTANCE_FUNCTIONS\u001b[39m.\u001b[39mget(\n\u001b[1;32m   2019\u001b[0m     metric, \u001b[39mNone\u001b[39;00m\n\u001b[1;32m   2020\u001b[0m ) \u001b[39mis\u001b[39;00m euclidean_distances:\n\u001b[1;32m   2021\u001b[0m     \u001b[39m# zeroing diagonal, taking care of aliases of \"euclidean\",\u001b[39;00m\n\u001b[1;32m   2022\u001b[0m     \u001b[39m# i.e. \"l2\"\u001b[39;00m\n\u001b[1;32m   2023\u001b[0m     D_chunk\u001b[39m.\u001b[39mflat[sl\u001b[39m.\u001b[39mstart :: _num_samples(X) \u001b[39m+\u001b[39m \u001b[39m1\u001b[39m] \u001b[39m=\u001b[39m \u001b[39m0\u001b[39m\n",
      "File \u001b[0;32m~/anaconda3/envs/cpsc330/lib/python3.10/site-packages/sklearn/metrics/pairwise.py:2195\u001b[0m, in \u001b[0;36mpairwise_distances\u001b[0;34m(X, Y, metric, n_jobs, force_all_finite, **kwds)\u001b[0m\n\u001b[1;32m   2192\u001b[0m         \u001b[39mreturn\u001b[39;00m distance\u001b[39m.\u001b[39msquareform(distance\u001b[39m.\u001b[39mpdist(X, metric\u001b[39m=\u001b[39mmetric, \u001b[39m*\u001b[39m\u001b[39m*\u001b[39mkwds))\n\u001b[1;32m   2193\u001b[0m     func \u001b[39m=\u001b[39m partial(distance\u001b[39m.\u001b[39mcdist, metric\u001b[39m=\u001b[39mmetric, \u001b[39m*\u001b[39m\u001b[39m*\u001b[39mkwds)\n\u001b[0;32m-> 2195\u001b[0m \u001b[39mreturn\u001b[39;00m _parallel_pairwise(X, Y, func, n_jobs, \u001b[39m*\u001b[39;49m\u001b[39m*\u001b[39;49mkwds)\n",
      "File \u001b[0;32m~/anaconda3/envs/cpsc330/lib/python3.10/site-packages/sklearn/metrics/pairwise.py:1765\u001b[0m, in \u001b[0;36m_parallel_pairwise\u001b[0;34m(X, Y, func, n_jobs, **kwds)\u001b[0m\n\u001b[1;32m   1762\u001b[0m X, Y, dtype \u001b[39m=\u001b[39m _return_float_dtype(X, Y)\n\u001b[1;32m   1764\u001b[0m \u001b[39mif\u001b[39;00m effective_n_jobs(n_jobs) \u001b[39m==\u001b[39m \u001b[39m1\u001b[39m:\n\u001b[0;32m-> 1765\u001b[0m     \u001b[39mreturn\u001b[39;00m func(X, Y, \u001b[39m*\u001b[39;49m\u001b[39m*\u001b[39;49mkwds)\n\u001b[1;32m   1767\u001b[0m \u001b[39m# enforce a threading backend to prevent data communication overhead\u001b[39;00m\n\u001b[1;32m   1768\u001b[0m fd \u001b[39m=\u001b[39m delayed(_dist_wrapper)\n",
      "File \u001b[0;32m~/anaconda3/envs/cpsc330/lib/python3.10/site-packages/sklearn/utils/_param_validation.py:211\u001b[0m, in \u001b[0;36mvalidate_params.<locals>.decorator.<locals>.wrapper\u001b[0;34m(*args, **kwargs)\u001b[0m\n\u001b[1;32m    205\u001b[0m \u001b[39mtry\u001b[39;00m:\n\u001b[1;32m    206\u001b[0m     \u001b[39mwith\u001b[39;00m config_context(\n\u001b[1;32m    207\u001b[0m         skip_parameter_validation\u001b[39m=\u001b[39m(\n\u001b[1;32m    208\u001b[0m             prefer_skip_nested_validation \u001b[39mor\u001b[39;00m global_skip_validation\n\u001b[1;32m    209\u001b[0m         )\n\u001b[1;32m    210\u001b[0m     ):\n\u001b[0;32m--> 211\u001b[0m         \u001b[39mreturn\u001b[39;00m func(\u001b[39m*\u001b[39;49margs, \u001b[39m*\u001b[39;49m\u001b[39m*\u001b[39;49mkwargs)\n\u001b[1;32m    212\u001b[0m \u001b[39mexcept\u001b[39;00m InvalidParameterError \u001b[39mas\u001b[39;00m e:\n\u001b[1;32m    213\u001b[0m     \u001b[39m# When the function is just a wrapper around an estimator, we allow\u001b[39;00m\n\u001b[1;32m    214\u001b[0m     \u001b[39m# the function to delegate validation to the estimator, but we replace\u001b[39;00m\n\u001b[1;32m    215\u001b[0m     \u001b[39m# the name of the estimator by the name of the function in the error\u001b[39;00m\n\u001b[1;32m    216\u001b[0m     \u001b[39m# message to avoid confusion.\u001b[39;00m\n\u001b[1;32m    217\u001b[0m     msg \u001b[39m=\u001b[39m re\u001b[39m.\u001b[39msub(\n\u001b[1;32m    218\u001b[0m         \u001b[39mr\u001b[39m\u001b[39m\"\u001b[39m\u001b[39mparameter of \u001b[39m\u001b[39m\\\u001b[39m\u001b[39mw+ must be\u001b[39m\u001b[39m\"\u001b[39m,\n\u001b[1;32m    219\u001b[0m         \u001b[39mf\u001b[39m\u001b[39m\"\u001b[39m\u001b[39mparameter of \u001b[39m\u001b[39m{\u001b[39;00mfunc\u001b[39m.\u001b[39m\u001b[39m__qualname__\u001b[39m\u001b[39m}\u001b[39;00m\u001b[39m must be\u001b[39m\u001b[39m\"\u001b[39m,\n\u001b[1;32m    220\u001b[0m         \u001b[39mstr\u001b[39m(e),\n\u001b[1;32m    221\u001b[0m     )\n",
      "File \u001b[0;32m~/anaconda3/envs/cpsc330/lib/python3.10/site-packages/sklearn/metrics/pairwise.py:1105\u001b[0m, in \u001b[0;36mcosine_distances\u001b[0;34m(X, Y)\u001b[0m\n\u001b[1;32m   1079\u001b[0m \u001b[39m\u001b[39m\u001b[39m\"\"\"Compute cosine distance between samples in X and Y.\u001b[39;00m\n\u001b[1;32m   1080\u001b[0m \n\u001b[1;32m   1081\u001b[0m \u001b[39mCosine distance is defined as 1.0 minus the cosine similarity.\u001b[39;00m\n\u001b[0;32m   (...)\u001b[0m\n\u001b[1;32m   1102\u001b[0m \u001b[39mscipy.spatial.distance.cosine : Dense matrices only.\u001b[39;00m\n\u001b[1;32m   1103\u001b[0m \u001b[39m\"\"\"\u001b[39;00m\n\u001b[1;32m   1104\u001b[0m \u001b[39m# 1.0 - cosine_similarity(X, Y) without copy\u001b[39;00m\n\u001b[0;32m-> 1105\u001b[0m S \u001b[39m=\u001b[39m cosine_similarity(X, Y)\n\u001b[1;32m   1106\u001b[0m S \u001b[39m*\u001b[39m\u001b[39m=\u001b[39m \u001b[39m-\u001b[39m\u001b[39m1\u001b[39m\n\u001b[1;32m   1107\u001b[0m S \u001b[39m+\u001b[39m\u001b[39m=\u001b[39m \u001b[39m1\u001b[39m\n",
      "File \u001b[0;32m~/anaconda3/envs/cpsc330/lib/python3.10/site-packages/sklearn/utils/_param_validation.py:184\u001b[0m, in \u001b[0;36mvalidate_params.<locals>.decorator.<locals>.wrapper\u001b[0;34m(*args, **kwargs)\u001b[0m\n\u001b[1;32m    182\u001b[0m global_skip_validation \u001b[39m=\u001b[39m get_config()[\u001b[39m\"\u001b[39m\u001b[39mskip_parameter_validation\u001b[39m\u001b[39m\"\u001b[39m]\n\u001b[1;32m    183\u001b[0m \u001b[39mif\u001b[39;00m global_skip_validation:\n\u001b[0;32m--> 184\u001b[0m     \u001b[39mreturn\u001b[39;00m func(\u001b[39m*\u001b[39;49margs, \u001b[39m*\u001b[39;49m\u001b[39m*\u001b[39;49mkwargs)\n\u001b[1;32m    186\u001b[0m func_sig \u001b[39m=\u001b[39m signature(func)\n\u001b[1;32m    188\u001b[0m \u001b[39m# Map *args/**kwargs to the function signature\u001b[39;00m\n",
      "File \u001b[0;32m~/anaconda3/envs/cpsc330/lib/python3.10/site-packages/sklearn/metrics/pairwise.py:1585\u001b[0m, in \u001b[0;36mcosine_similarity\u001b[0;34m(X, Y, dense_output)\u001b[0m\n\u001b[1;32m   1582\u001b[0m \u001b[39melse\u001b[39;00m:\n\u001b[1;32m   1583\u001b[0m     Y_normalized \u001b[39m=\u001b[39m normalize(Y, copy\u001b[39m=\u001b[39m\u001b[39mTrue\u001b[39;00m)\n\u001b[0;32m-> 1585\u001b[0m K \u001b[39m=\u001b[39m safe_sparse_dot(X_normalized, Y_normalized\u001b[39m.\u001b[39;49mT, dense_output\u001b[39m=\u001b[39;49mdense_output)\n\u001b[1;32m   1587\u001b[0m \u001b[39mreturn\u001b[39;00m K\n",
      "File \u001b[0;32m~/anaconda3/envs/cpsc330/lib/python3.10/site-packages/sklearn/utils/extmath.py:196\u001b[0m, in \u001b[0;36msafe_sparse_dot\u001b[0;34m(a, b, dense_output)\u001b[0m\n\u001b[1;32m    192\u001b[0m \u001b[39melse\u001b[39;00m:\n\u001b[1;32m    193\u001b[0m     ret \u001b[39m=\u001b[39m a \u001b[39m@\u001b[39m b\n\u001b[1;32m    195\u001b[0m \u001b[39mif\u001b[39;00m (\n\u001b[0;32m--> 196\u001b[0m     sparse\u001b[39m.\u001b[39;49missparse(a)\n\u001b[1;32m    197\u001b[0m     \u001b[39mand\u001b[39;00m sparse\u001b[39m.\u001b[39missparse(b)\n\u001b[1;32m    198\u001b[0m     \u001b[39mand\u001b[39;00m dense_output\n\u001b[1;32m    199\u001b[0m     \u001b[39mand\u001b[39;00m \u001b[39mhasattr\u001b[39m(ret, \u001b[39m\"\u001b[39m\u001b[39mtoarray\u001b[39m\u001b[39m\"\u001b[39m)\n\u001b[1;32m    200\u001b[0m ):\n\u001b[1;32m    201\u001b[0m     \u001b[39mreturn\u001b[39;00m ret\u001b[39m.\u001b[39mtoarray()\n\u001b[1;32m    202\u001b[0m \u001b[39mreturn\u001b[39;00m ret\n",
      "File \u001b[0;32m~/anaconda3/envs/cpsc330/lib/python3.10/site-packages/scipy/sparse/_base.py:1461\u001b[0m, in \u001b[0;36missparse\u001b[0;34m(x)\u001b[0m\n\u001b[1;32m   1456\u001b[0m     \u001b[39mpass\u001b[39;00m\n\u001b[1;32m   1458\u001b[0m sparray\u001b[39m.\u001b[39m\u001b[39m__doc__\u001b[39m \u001b[39m=\u001b[39m _spbase\u001b[39m.\u001b[39m\u001b[39m__doc__\u001b[39m\n\u001b[0;32m-> 1461\u001b[0m \u001b[39mdef\u001b[39;00m \u001b[39missparse\u001b[39m(x):\n\u001b[1;32m   1462\u001b[0m \u001b[39m    \u001b[39m\u001b[39m\"\"\"Is `x` of a sparse array type?\u001b[39;00m\n\u001b[1;32m   1463\u001b[0m \n\u001b[1;32m   1464\u001b[0m \u001b[39m    Parameters\u001b[39;00m\n\u001b[0;32m   (...)\u001b[0m\n\u001b[1;32m   1485\u001b[0m \u001b[39m    False\u001b[39;00m\n\u001b[1;32m   1486\u001b[0m \u001b[39m    \"\"\"\u001b[39;00m\n\u001b[1;32m   1487\u001b[0m     \u001b[39mreturn\u001b[39;00m \u001b[39misinstance\u001b[39m(x, _spbase)\n",
      "\u001b[0;31mKeyboardInterrupt\u001b[0m: "
     ]
    }
   ],
   "source": [
    "# tuning min_samples\n",
    "for min_samples in range(10, 50):\n",
    "    print(\"\\nmin_samples={}\".format(min_samples))\n",
    "    dbscan = DBSCAN(metric='cosine', eps=0.3500000000000001, min_samples=min_samples)\n",
    "    labels = dbscan.fit_predict(embeddings)\n",
    "    print(\"Number of clusters: {}\".format(len(np.unique(labels))))\n",
    "    print(\"Cluster sizes: {}\".format(np.bincount(labels + 1)))"
   ]
  },
  {
   "cell_type": "markdown",
   "metadata": {},
   "source": [
    "From the result "
   ]
  },
  {
   "cell_type": "code",
   "execution_count": 119,
   "metadata": {
    "tags": []
   },
   "outputs": [
    {
     "data": {
      "text/plain": [
       "array([-1,  0,  0, ..., -1, -1, -1])"
      ]
     },
     "execution_count": 119,
     "metadata": {},
     "output_type": "execute_result"
    }
   ],
   "source": [
    "eps=0.3500000000000001\n",
    "min_samples=45\n",
    "dbscan_embeddings = DBSCAN(metric='cosine',eps=eps, min_samples=min_samples)\n",
    "dbscan_embeddings.fit(embeddings)\n",
    "dbscan_embeddings_labels = dbscan_embeddings.labels_\n",
    "dbscan_embeddings.labels_"
   ]
  },
  {
   "cell_type": "code",
   "execution_count": 110,
   "metadata": {},
   "outputs": [
    {
     "name": "stdout",
     "output_type": "stream",
     "text": [
      "Cluster -1\n",
      "----------\n",
      "iced chai espresso latte\n",
      "kettle corn  microwave\n",
      "hot and spicy corn\n",
      "bruschetta  1 ww point\n",
      "il fornello roast ontario apple salad\n",
      "outdoor grilled cheese sandwich  curtis stone\n",
      "korean barbecued flank steak\n",
      "chicken pad thai\n",
      "portobello cheeseburger with sweet onion relish\n",
      "granola   oats   fruits   nuts\n",
      "\n",
      "\n",
      "\n",
      "Cluster 0\n",
      "----------\n",
      "chicken and broccoli alfredo casserole\n",
      "sour cream and dill chicken\n",
      "sausage vegetable soup with dumplings\n",
      "apple harvest muffins\n",
      "peanut butter and jelly bread pudding\n",
      "moroccan peach roasted chicken\n",
      "emeril s raspberry lemon thumbprint cookies\n",
      "ginger cake iced in lemon\n",
      "avocado chicken melt\n",
      "chicken with white wine and olives\n",
      "\n",
      "\n",
      "\n"
     ]
    }
   ],
   "source": [
    "print_clusters(recipes_df, dbscan_embeddings_labels, n_recipes=10, replace=True, random_state=None)"
   ]
  },
  {
   "cell_type": "code",
   "execution_count": 111,
   "metadata": {},
   "outputs": [
    {
     "data": {
      "text/plain": [
       "2"
      ]
     },
     "execution_count": 111,
     "metadata": {},
     "output_type": "execute_result"
    }
   ],
   "source": [
    "n_clusters = len(set(dbscan_embeddings.labels_))\n",
    "dbscan_embeddings.n_clusters = n_clusters\n",
    "dbscan_embeddings.predict = lambda x: dbscan_embeddings.labels_\n",
    "n_clusters"
   ]
  },
  {
   "cell_type": "code",
   "execution_count": 112,
   "metadata": {},
   "outputs": [
    {
     "data": {
      "image/png": "[encoded data removed]",
      "text/plain": [
       "<Figure size 800x550 with 1 Axes>"
      ]
     },
     "metadata": {},
     "output_type": "display_data"
    },
    {
     "data": {
      "text/plain": [
       "<Axes: title={'center': 'Silhouette Plot of DBSCAN Clustering for 9100 Samples in 2 Centers'}, xlabel='silhouette coefficient values', ylabel='cluster label'>"
      ]
     },
     "execution_count": 112,
     "metadata": {},
     "output_type": "execute_result"
    }
   ],
   "source": [
    "visualizer = SilhouetteVisualizer(dbscan_embeddings, colors=\"yellowbrick\")\n",
    "visualizer.fit(embeddings_df)  # Fit the data to the visualizer\n",
    "visualizer.show()"
   ]
  },
  {
   "cell_type": "markdown",
   "metadata": {
    "deletable": false,
    "editable": false
   },
   "source": [
    "<!-- END QUESTION -->\n",
    "\n",
    "<br><br>"
   ]
  },
  {
   "cell_type": "markdown",
   "metadata": {
    "deletable": false,
    "editable": false
   },
   "source": [
    "<!-- BEGIN QUESTION -->\n",
    "\n",
    "### 3.3 Hierarchical clustering\n",
    "rubric={points}\n",
    "\n",
    "**Your tasks:**\n",
    "\n",
    "1. Try hierarchical clustering with `metric=\"cosine\"` on this problem. Show a dendrogram by using a suitable truncation method. \n",
    "2. Create flat clusters by cutting the tree at the appropriate level. \n",
    "\n",
    "> *Note: Try orientation=\"left\" of `dendrogram` for better readability of the dendrogram.*"
   ]
  },
  {
   "cell_type": "markdown",
   "metadata": {
    "deletable": false,
    "editable": false
   },
   "source": [
    "<div class=\"alert alert-warning\">\n",
    "\n",
    "Solution_3.3\n",
    "    \n",
    "</div>\n",
    "\n",
    "_Points:_ 6"
   ]
  },
  {
   "cell_type": "markdown",
   "metadata": {},
   "source": [
    "_Type your answer here, replacing this text._"
   ]
  },
  {
   "cell_type": "code",
   "execution_count": 113,
   "metadata": {},
   "outputs": [
    {
     "data": {
      "text/plain": [
       "{'icoord': [[35.0, 35.0, 45.0, 45.0],\n",
       "  [75.0, 75.0, 85.0, 85.0],\n",
       "  [65.0, 65.0, 80.0, 80.0],\n",
       "  [55.0, 55.0, 72.5, 72.5],\n",
       "  [40.0, 40.0, 63.75, 63.75],\n",
       "  [25.0, 25.0, 51.875, 51.875],\n",
       "  [15.0, 15.0, 38.4375, 38.4375],\n",
       "  [5.0, 5.0, 26.71875, 26.71875]],\n",
       " 'dcoord': [[0.0, 7.724846212078611, 7.724846212078611, 0.0],\n",
       "  [0.0, 9.603716761860374, 9.603716761860374, 0.0],\n",
       "  [0.0, 9.619445898428118, 9.619445898428118, 9.603716761860374],\n",
       "  [0.0, 9.672586192602571, 9.672586192602571, 9.619445898428118],\n",
       "  [7.724846212078611, 9.782817970066922, 9.782817970066922, 9.672586192602571],\n",
       "  [0.0, 9.80667067220886, 9.80667067220886, 9.782817970066922],\n",
       "  [0.0, 9.863082485739456, 9.863082485739456, 9.80667067220886],\n",
       "  [0.0, 10.111491102241574, 10.111491102241574, 9.863082485739456]],\n",
       " 'ivl': ['8736',\n",
       "  '1412',\n",
       "  '2181',\n",
       "  '4253',\n",
       "  '4254',\n",
       "  '792',\n",
       "  '8338',\n",
       "  '5754',\n",
       "  '(9092)'],\n",
       " 'leaves': [8736, 1412, 2181, 4253, 4254, 792, 8338, 5754, 18191],\n",
       " 'color_list': ['C0', 'C0', 'C0', 'C0', 'C0', 'C0', 'C0', 'C0'],\n",
       " 'leaves_color_list': ['C0', 'C0', 'C0', 'C0', 'C0', 'C0', 'C0', 'C0', 'C0']}"
      ]
     },
     "execution_count": 113,
     "metadata": {},
     "output_type": "execute_result"
    },
    {
     "data": {
      "image/png": "[encoded data removed]",
      "text/plain": [
       "<Figure size 800x550 with 1 Axes>"
      ]
     },
     "metadata": {},
     "output_type": "display_data"
    }
   ],
   "source": [
    "# creating dendrogram with single linkage,truncate p = 4\n",
    "linkage_array_single = single(embeddings)\n",
    "dendrogram(linkage_array_single, p=6, truncate_mode=\"level\")"
   ]
  },
  {
   "cell_type": "code",
   "execution_count": 114,
   "metadata": {
    "tags": []
   },
   "outputs": [
    {
     "data": {
      "text/plain": [
       "{'icoord': [[15.0, 15.0, 25.0, 25.0],\n",
       "  [35.0, 35.0, 45.0, 45.0],\n",
       "  [55.0, 55.0, 65.0, 65.0],\n",
       "  [40.0, 40.0, 60.0, 60.0],\n",
       "  [20.0, 20.0, 50.0, 50.0],\n",
       "  [75.0, 75.0, 85.0, 85.0],\n",
       "  [95.0, 95.0, 105.0, 105.0],\n",
       "  [80.0, 80.0, 100.0, 100.0],\n",
       "  [115.0, 115.0, 125.0, 125.0],\n",
       "  [135.0, 135.0, 145.0, 145.0],\n",
       "  [120.0, 120.0, 140.0, 140.0],\n",
       "  [90.0, 90.0, 130.0, 130.0],\n",
       "  [35.0, 35.0, 110.0, 110.0],\n",
       "  [5.0, 5.0, 72.5, 72.5],\n",
       "  [155.0, 155.0, 165.0, 165.0],\n",
       "  [175.0, 175.0, 185.0, 185.0],\n",
       "  [205.0, 205.0, 215.0, 215.0],\n",
       "  [195.0, 195.0, 210.0, 210.0],\n",
       "  [225.0, 225.0, 235.0, 235.0],\n",
       "  [245.0, 245.0, 255.0, 255.0],\n",
       "  [230.0, 230.0, 250.0, 250.0],\n",
       "  [202.5, 202.5, 240.0, 240.0],\n",
       "  [180.0, 180.0, 221.25, 221.25],\n",
       "  [160.0, 160.0, 200.625, 200.625],\n",
       "  [38.75, 38.75, 180.3125, 180.3125],\n",
       "  [275.0, 275.0, 285.0, 285.0],\n",
       "  [265.0, 265.0, 280.0, 280.0],\n",
       "  [295.0, 295.0, 305.0, 305.0],\n",
       "  [315.0, 315.0, 325.0, 325.0],\n",
       "  [300.0, 300.0, 320.0, 320.0],\n",
       "  [272.5, 272.5, 310.0, 310.0],\n",
       "  [335.0, 335.0, 345.0, 345.0],\n",
       "  [355.0, 355.0, 365.0, 365.0],\n",
       "  [340.0, 340.0, 360.0, 360.0],\n",
       "  [375.0, 375.0, 385.0, 385.0],\n",
       "  [395.0, 395.0, 405.0, 405.0],\n",
       "  [380.0, 380.0, 400.0, 400.0],\n",
       "  [350.0, 350.0, 390.0, 390.0],\n",
       "  [291.25, 291.25, 370.0, 370.0],\n",
       "  [425.0, 425.0, 435.0, 435.0],\n",
       "  [415.0, 415.0, 430.0, 430.0],\n",
       "  [445.0, 445.0, 455.0, 455.0],\n",
       "  [465.0, 465.0, 475.0, 475.0],\n",
       "  [450.0, 450.0, 470.0, 470.0],\n",
       "  [422.5, 422.5, 460.0, 460.0],\n",
       "  [485.0, 485.0, 495.0, 495.0],\n",
       "  [505.0, 505.0, 515.0, 515.0],\n",
       "  [490.0, 490.0, 510.0, 510.0],\n",
       "  [525.0, 525.0, 535.0, 535.0],\n",
       "  [545.0, 545.0, 555.0, 555.0],\n",
       "  [530.0, 530.0, 550.0, 550.0],\n",
       "  [500.0, 500.0, 540.0, 540.0],\n",
       "  [441.25, 441.25, 520.0, 520.0],\n",
       "  [330.625, 330.625, 480.625, 480.625],\n",
       "  [565.0, 565.0, 575.0, 575.0],\n",
       "  [585.0, 585.0, 595.0, 595.0],\n",
       "  [570.0, 570.0, 590.0, 590.0],\n",
       "  [605.0, 605.0, 615.0, 615.0],\n",
       "  [625.0, 625.0, 635.0, 635.0],\n",
       "  [610.0, 610.0, 630.0, 630.0],\n",
       "  [580.0, 580.0, 620.0, 620.0],\n",
       "  [655.0, 655.0, 665.0, 665.0],\n",
       "  [645.0, 645.0, 660.0, 660.0],\n",
       "  [675.0, 675.0, 685.0, 685.0],\n",
       "  [695.0, 695.0, 705.0, 705.0],\n",
       "  [680.0, 680.0, 700.0, 700.0],\n",
       "  [652.5, 652.5, 690.0, 690.0],\n",
       "  [600.0, 600.0, 671.25, 671.25],\n",
       "  [715.0, 715.0, 725.0, 725.0],\n",
       "  [735.0, 735.0, 745.0, 745.0],\n",
       "  [720.0, 720.0, 740.0, 740.0],\n",
       "  [755.0, 755.0, 765.0, 765.0],\n",
       "  [775.0, 775.0, 785.0, 785.0],\n",
       "  [760.0, 760.0, 780.0, 780.0],\n",
       "  [730.0, 730.0, 770.0, 770.0],\n",
       "  [795.0, 795.0, 805.0, 805.0],\n",
       "  [815.0, 815.0, 825.0, 825.0],\n",
       "  [800.0, 800.0, 820.0, 820.0],\n",
       "  [835.0, 835.0, 845.0, 845.0],\n",
       "  [855.0, 855.0, 865.0, 865.0],\n",
       "  [840.0, 840.0, 860.0, 860.0],\n",
       "  [810.0, 810.0, 850.0, 850.0],\n",
       "  [750.0, 750.0, 830.0, 830.0],\n",
       "  [635.625, 635.625, 790.0, 790.0],\n",
       "  [405.625, 405.625, 712.8125, 712.8125],\n",
       "  [109.53125, 109.53125, 559.21875, 559.21875]],\n",
       " 'dcoord': [[0.0, 9.183665561383595, 9.183665561383595, 0.0],\n",
       "  [0.0, 8.485994517688283, 8.485994517688283, 0.0],\n",
       "  [0.0, 8.980822072174037, 8.980822072174037, 0.0],\n",
       "  [8.485994517688283, 9.441753253532545, 9.441753253532545, 8.980822072174037],\n",
       "  [9.183665561383595,\n",
       "   10.197491727385625,\n",
       "   10.197491727385625,\n",
       "   9.441753253532545],\n",
       "  [0.0, 7.6523889896283865, 7.6523889896283865, 0.0],\n",
       "  [0.0, 8.480363826917953, 8.480363826917953, 0.0],\n",
       "  [7.6523889896283865,\n",
       "   8.857801024433009,\n",
       "   8.857801024433009,\n",
       "   8.480363826917953],\n",
       "  [0.0, 9.571341315019437, 9.571341315019437, 0.0],\n",
       "  [0.0, 9.950398000433655, 9.950398000433655, 0.0],\n",
       "  [9.571341315019437,\n",
       "   10.463683208274087,\n",
       "   10.463683208274087,\n",
       "   9.950398000433655],\n",
       "  [8.857801024433009,\n",
       "   10.521492717465152,\n",
       "   10.521492717465152,\n",
       "   10.463683208274087],\n",
       "  [10.197491727385625,\n",
       "   11.037930965880905,\n",
       "   11.037930965880905,\n",
       "   10.521492717465152],\n",
       "  [0.0, 11.705227071273384, 11.705227071273384, 11.037930965880905],\n",
       "  [0.0, 9.40577138073415, 9.40577138073415, 0.0],\n",
       "  [0.0, 9.863082485739456, 9.863082485739456, 0.0],\n",
       "  [0.0, 7.635079242600541, 7.635079242600541, 0.0],\n",
       "  [0.0, 10.770594742847823, 10.770594742847823, 7.635079242600541],\n",
       "  [0.0, 10.64543794534414, 10.64543794534414, 0.0],\n",
       "  [0.0, 11.156575361014527, 11.156575361014527, 0.0],\n",
       "  [10.64543794534414,\n",
       "   11.424707357982554,\n",
       "   11.424707357982554,\n",
       "   11.156575361014527],\n",
       "  [10.770594742847823,\n",
       "   12.217450514150974,\n",
       "   12.217450514150974,\n",
       "   11.424707357982554],\n",
       "  [9.863082485739456,\n",
       "   12.500060863955682,\n",
       "   12.500060863955682,\n",
       "   12.217450514150974],\n",
       "  [9.40577138073415,\n",
       "   13.097458447193771,\n",
       "   13.097458447193771,\n",
       "   12.500060863955682],\n",
       "  [11.705227071273384,\n",
       "   13.716146122623119,\n",
       "   13.716146122623119,\n",
       "   13.097458447193771],\n",
       "  [0.0, 9.471280672637787, 9.471280672637787, 0.0],\n",
       "  [0.0, 10.598202077368748, 10.598202077368748, 9.471280672637787],\n",
       "  [0.0, 8.352955286429566, 8.352955286429566, 0.0],\n",
       "  [0.0, 10.527411193731984, 10.527411193731984, 0.0],\n",
       "  [8.352955286429566,\n",
       "   10.962605991212245,\n",
       "   10.962605991212245,\n",
       "   10.527411193731984],\n",
       "  [10.598202077368748,\n",
       "   11.359384192855044,\n",
       "   11.359384192855044,\n",
       "   10.962605991212245],\n",
       "  [0.0, 10.544509532558937, 10.544509532558937, 0.0],\n",
       "  [0.0, 11.635718576360278, 11.635718576360278, 0.0],\n",
       "  [10.544509532558937,\n",
       "   12.027250224919076,\n",
       "   12.027250224919076,\n",
       "   11.635718576360278],\n",
       "  [0.0, 10.132488301925461, 10.132488301925461, 0.0],\n",
       "  [0.0, 12.599824335509076, 12.599824335509076, 0.0],\n",
       "  [10.132488301925461,\n",
       "   12.673249149336575,\n",
       "   12.673249149336575,\n",
       "   12.599824335509076],\n",
       "  [12.027250224919076,\n",
       "   13.236377659747086,\n",
       "   13.236377659747086,\n",
       "   12.673249149336575],\n",
       "  [11.359384192855044,\n",
       "   13.701581793821315,\n",
       "   13.701581793821315,\n",
       "   13.236377659747086],\n",
       "  [0.0, 7.724846212078611, 7.724846212078611, 0.0],\n",
       "  [0.0, 11.23257058562998, 11.23257058562998, 7.724846212078611],\n",
       "  [0.0, 9.79127532025497, 9.79127532025497, 0.0],\n",
       "  [0.0, 10.601025243218107, 10.601025243218107, 0.0],\n",
       "  [9.79127532025497,\n",
       "   11.442650308581257,\n",
       "   11.442650308581257,\n",
       "   10.601025243218107],\n",
       "  [11.23257058562998,\n",
       "   12.31743799421736,\n",
       "   12.31743799421736,\n",
       "   11.442650308581257],\n",
       "  [0.0, 10.140218811084086, 10.140218811084086, 0.0],\n",
       "  [0.0, 12.2211153180262, 12.2211153180262, 0.0],\n",
       "  [10.140218811084086,\n",
       "   12.875759875794177,\n",
       "   12.875759875794177,\n",
       "   12.2211153180262],\n",
       "  [0.0, 12.078548638268975, 12.078548638268975, 0.0],\n",
       "  [0.0, 12.820196000285383, 12.820196000285383, 0.0],\n",
       "  [12.078548638268975,\n",
       "   13.192558317173393,\n",
       "   13.192558317173393,\n",
       "   12.820196000285383],\n",
       "  [12.875759875794177,\n",
       "   13.574403156428728,\n",
       "   13.574403156428728,\n",
       "   13.192558317173393],\n",
       "  [12.31743799421736,\n",
       "   13.792603278676319,\n",
       "   13.792603278676319,\n",
       "   13.574403156428728],\n",
       "  [13.701581793821315,\n",
       "   14.277939249760585,\n",
       "   14.277939249760585,\n",
       "   13.792603278676319],\n",
       "  [0.0, 12.894681955298685, 12.894681955298685, 0.0],\n",
       "  [0.0, 12.924656375332459, 12.924656375332459, 0.0],\n",
       "  [12.894681955298685,\n",
       "   13.243447086982204,\n",
       "   13.243447086982204,\n",
       "   12.924656375332459],\n",
       "  [0.0, 12.95926052765951, 12.95926052765951, 0.0],\n",
       "  [0.0, 13.093668183636106, 13.093668183636106, 0.0],\n",
       "  [12.95926052765951,\n",
       "   13.488108644745626,\n",
       "   13.488108644745626,\n",
       "   13.093668183636106],\n",
       "  [13.243447086982204,\n",
       "   13.540029582685012,\n",
       "   13.540029582685012,\n",
       "   13.488108644745626],\n",
       "  [0.0, 10.082036020705242, 10.082036020705242, 0.0],\n",
       "  [0.0, 13.123173788576906, 13.123173788576906, 10.082036020705242],\n",
       "  [0.0, 13.079730388885217, 13.079730388885217, 0.0],\n",
       "  [0.0, 13.32176574173277, 13.32176574173277, 0.0],\n",
       "  [13.079730388885217,\n",
       "   13.515503720033292,\n",
       "   13.515503720033292,\n",
       "   13.32176574173277],\n",
       "  [13.123173788576906,\n",
       "   13.886952702027779,\n",
       "   13.886952702027779,\n",
       "   13.515503720033292],\n",
       "  [13.540029582685012,\n",
       "   13.923470846349236,\n",
       "   13.923470846349236,\n",
       "   13.886952702027779],\n",
       "  [0.0, 9.450251324878723, 9.450251324878723, 0.0],\n",
       "  [0.0, 11.48728224378122, 11.48728224378122, 0.0],\n",
       "  [9.450251324878723,\n",
       "   12.170973789613063,\n",
       "   12.170973789613063,\n",
       "   11.48728224378122],\n",
       "  [0.0, 6.349676134167945, 6.349676134167945, 0.0],\n",
       "  [0.0, 11.125986385822076, 11.125986385822076, 0.0],\n",
       "  [6.349676134167945,\n",
       "   12.502559677863925,\n",
       "   12.502559677863925,\n",
       "   11.125986385822076],\n",
       "  [12.170973789613063,\n",
       "   12.974088548292512,\n",
       "   12.974088548292512,\n",
       "   12.502559677863925],\n",
       "  [0.0, 12.666238926875044, 12.666238926875044, 0.0],\n",
       "  [0.0, 13.273868100340103, 13.273868100340103, 0.0],\n",
       "  [12.666238926875044,\n",
       "   13.42220435068988,\n",
       "   13.42220435068988,\n",
       "   13.273868100340103],\n",
       "  [0.0, 12.921510239295225, 12.921510239295225, 0.0],\n",
       "  [0.0, 13.17567574291854, 13.17567574291854, 0.0],\n",
       "  [12.921510239295225,\n",
       "   13.500787802067537,\n",
       "   13.500787802067537,\n",
       "   13.17567574291854],\n",
       "  [13.42220435068988,\n",
       "   13.750972466303343,\n",
       "   13.750972466303343,\n",
       "   13.500787802067537],\n",
       "  [12.974088548292512,\n",
       "   14.089723867814527,\n",
       "   14.089723867814527,\n",
       "   13.750972466303343],\n",
       "  [13.923470846349236,\n",
       "   14.362184261326735,\n",
       "   14.362184261326735,\n",
       "   14.089723867814527],\n",
       "  [14.277939249760585,\n",
       "   15.131505598303827,\n",
       "   15.131505598303827,\n",
       "   14.362184261326735],\n",
       "  [13.716146122623119,\n",
       "   15.372074196001254,\n",
       "   15.372074196001254,\n",
       "   15.131505598303827]],\n",
       " 'ivl': ['6887',\n",
       "  '4826',\n",
       "  '5687',\n",
       "  '(6)',\n",
       "  '(10)',\n",
       "  '(4)',\n",
       "  '(42)',\n",
       "  '4699',\n",
       "  '8524',\n",
       "  '3348',\n",
       "  '3581',\n",
       "  '(3)',\n",
       "  '(2)',\n",
       "  '(5)',\n",
       "  '(29)',\n",
       "  '5359',\n",
       "  '7414',\n",
       "  '1412',\n",
       "  '6954',\n",
       "  '6749',\n",
       "  '818',\n",
       "  '6891',\n",
       "  '(53)',\n",
       "  '(15)',\n",
       "  '(3)',\n",
       "  '(10)',\n",
       "  '1772',\n",
       "  '1755',\n",
       "  '(2)',\n",
       "  '1788',\n",
       "  '(2)',\n",
       "  '(14)',\n",
       "  '(20)',\n",
       "  '3402',\n",
       "  '(2)',\n",
       "  '8736',\n",
       "  '(2)',\n",
       "  '3920',\n",
       "  '(2)',\n",
       "  '(3)',\n",
       "  '(9)',\n",
       "  '6522',\n",
       "  '4253',\n",
       "  '4254',\n",
       "  '4638',\n",
       "  '7674',\n",
       "  '2181',\n",
       "  '5030',\n",
       "  '6202',\n",
       "  '6309',\n",
       "  '(23)',\n",
       "  '(4)',\n",
       "  '(3)',\n",
       "  '(3)',\n",
       "  '(104)',\n",
       "  '(5)',\n",
       "  '(24)',\n",
       "  '(221)',\n",
       "  '(11)',\n",
       "  '(108)',\n",
       "  '(37)',\n",
       "  '(624)',\n",
       "  '(3369)',\n",
       "  '(50)',\n",
       "  '8176',\n",
       "  '882',\n",
       "  '(3)',\n",
       "  '(3)',\n",
       "  '(492)',\n",
       "  '(3338)',\n",
       "  '(23)',\n",
       "  '7365',\n",
       "  '(2)',\n",
       "  '(9)',\n",
       "  '(14)',\n",
       "  '3591',\n",
       "  '8787',\n",
       "  '(2)',\n",
       "  '(2)',\n",
       "  '(29)',\n",
       "  '(8)',\n",
       "  '(7)',\n",
       "  '(154)',\n",
       "  '(31)',\n",
       "  '(28)',\n",
       "  '(76)',\n",
       "  '(21)'],\n",
       " 'leaves': [6887,\n",
       "  4826,\n",
       "  5687,\n",
       "  14857,\n",
       "  16308,\n",
       "  16830,\n",
       "  16934,\n",
       "  4699,\n",
       "  8524,\n",
       "  3348,\n",
       "  3581,\n",
       "  17201,\n",
       "  17249,\n",
       "  17451,\n",
       "  17603,\n",
       "  5359,\n",
       "  7414,\n",
       "  1412,\n",
       "  6954,\n",
       "  6749,\n",
       "  818,\n",
       "  6891,\n",
       "  17656,\n",
       "  17659,\n",
       "  16821,\n",
       "  17809,\n",
       "  1772,\n",
       "  1755,\n",
       "  17100,\n",
       "  1788,\n",
       "  15599,\n",
       "  17565,\n",
       "  17703,\n",
       "  3402,\n",
       "  16963,\n",
       "  8736,\n",
       "  17831,\n",
       "  3920,\n",
       "  17475,\n",
       "  17364,\n",
       "  18100,\n",
       "  6522,\n",
       "  4253,\n",
       "  4254,\n",
       "  4638,\n",
       "  7674,\n",
       "  2181,\n",
       "  5030,\n",
       "  6202,\n",
       "  6309,\n",
       "  17827,\n",
       "  17995,\n",
       "  17455,\n",
       "  17823,\n",
       "  18099,\n",
       "  18149,\n",
       "  18136,\n",
       "  18141,\n",
       "  18103,\n",
       "  18153,\n",
       "  18122,\n",
       "  18161,\n",
       "  18158,\n",
       "  18166,\n",
       "  8176,\n",
       "  882,\n",
       "  17320,\n",
       "  18068,\n",
       "  18163,\n",
       "  18156,\n",
       "  18159,\n",
       "  7365,\n",
       "  15840,\n",
       "  17878,\n",
       "  17984,\n",
       "  3591,\n",
       "  8787,\n",
       "  16388,\n",
       "  17729,\n",
       "  18109,\n",
       "  18137,\n",
       "  18121,\n",
       "  18164,\n",
       "  17938,\n",
       "  18138,\n",
       "  18157,\n",
       "  18160],\n",
       " 'color_list': ['C1',\n",
       "  'C1',\n",
       "  'C1',\n",
       "  'C1',\n",
       "  'C1',\n",
       "  'C2',\n",
       "  'C2',\n",
       "  'C2',\n",
       "  'C2',\n",
       "  'C2',\n",
       "  'C2',\n",
       "  'C2',\n",
       "  'C0',\n",
       "  'C0',\n",
       "  'C3',\n",
       "  'C4',\n",
       "  'C5',\n",
       "  'C0',\n",
       "  'C6',\n",
       "  'C0',\n",
       "  'C0',\n",
       "  'C0',\n",
       "  'C0',\n",
       "  'C0',\n",
       "  'C0',\n",
       "  'C7',\n",
       "  'C7',\n",
       "  'C8',\n",
       "  'C9',\n",
       "  'C0',\n",
       "  'C0',\n",
       "  'C1',\n",
       "  'C0',\n",
       "  'C0',\n",
       "  'C2',\n",
       "  'C0',\n",
       "  'C0',\n",
       "  'C0',\n",
       "  'C0',\n",
       "  'C3',\n",
       "  'C0',\n",
       "  'C4',\n",
       "  'C5',\n",
       "  'C0',\n",
       "  'C0',\n",
       "  'C6',\n",
       "  'C0',\n",
       "  'C0',\n",
       "  'C0',\n",
       "  'C0',\n",
       "  'C0',\n",
       "  'C0',\n",
       "  'C0',\n",
       "  'C0',\n",
       "  'C0',\n",
       "  'C0',\n",
       "  'C0',\n",
       "  'C0',\n",
       "  'C0',\n",
       "  'C0',\n",
       "  'C0',\n",
       "  'C7',\n",
       "  'C0',\n",
       "  'C0',\n",
       "  'C0',\n",
       "  'C0',\n",
       "  'C0',\n",
       "  'C0',\n",
       "  'C8',\n",
       "  'C0',\n",
       "  'C0',\n",
       "  'C9',\n",
       "  'C0',\n",
       "  'C0',\n",
       "  'C0',\n",
       "  'C0',\n",
       "  'C0',\n",
       "  'C0',\n",
       "  'C0',\n",
       "  'C0',\n",
       "  'C0',\n",
       "  'C0',\n",
       "  'C0',\n",
       "  'C0',\n",
       "  'C0',\n",
       "  'C0'],\n",
       " 'leaves_color_list': ['C0',\n",
       "  'C1',\n",
       "  'C1',\n",
       "  'C1',\n",
       "  'C1',\n",
       "  'C1',\n",
       "  'C1',\n",
       "  'C2',\n",
       "  'C2',\n",
       "  'C2',\n",
       "  'C2',\n",
       "  'C2',\n",
       "  'C2',\n",
       "  'C2',\n",
       "  'C2',\n",
       "  'C3',\n",
       "  'C3',\n",
       "  'C4',\n",
       "  'C4',\n",
       "  'C0',\n",
       "  'C5',\n",
       "  'C5',\n",
       "  'C6',\n",
       "  'C6',\n",
       "  'C0',\n",
       "  'C0',\n",
       "  'C7',\n",
       "  'C7',\n",
       "  'C7',\n",
       "  'C8',\n",
       "  'C8',\n",
       "  'C9',\n",
       "  'C9',\n",
       "  'C1',\n",
       "  'C1',\n",
       "  'C0',\n",
       "  'C0',\n",
       "  'C2',\n",
       "  'C2',\n",
       "  'C0',\n",
       "  'C0',\n",
       "  'C0',\n",
       "  'C3',\n",
       "  'C3',\n",
       "  'C4',\n",
       "  'C4',\n",
       "  'C5',\n",
       "  'C5',\n",
       "  'C6',\n",
       "  'C6',\n",
       "  'C0',\n",
       "  'C0',\n",
       "  'C0',\n",
       "  'C0',\n",
       "  'C0',\n",
       "  'C0',\n",
       "  'C0',\n",
       "  'C0',\n",
       "  'C0',\n",
       "  'C0',\n",
       "  'C0',\n",
       "  'C0',\n",
       "  'C0',\n",
       "  'C0',\n",
       "  'C0',\n",
       "  'C7',\n",
       "  'C7',\n",
       "  'C0',\n",
       "  'C0',\n",
       "  'C0',\n",
       "  'C0',\n",
       "  'C8',\n",
       "  'C8',\n",
       "  'C0',\n",
       "  'C0',\n",
       "  'C9',\n",
       "  'C9',\n",
       "  'C0',\n",
       "  'C0',\n",
       "  'C0',\n",
       "  'C0',\n",
       "  'C0',\n",
       "  'C0',\n",
       "  'C0',\n",
       "  'C0',\n",
       "  'C0',\n",
       "  'C0']}"
      ]
     },
     "execution_count": 114,
     "metadata": {},
     "output_type": "execute_result"
    },
    {
     "data": {
      "image/png": "[encoded data removed]",
      "text/plain": [
       "<Figure size 800x550 with 1 Axes>"
      ]
     },
     "metadata": {},
     "output_type": "display_data"
    }
   ],
   "source": [
    "# creating dendrogram with complete linkage, truncate with p = 4 levels\n",
    "linkage_array_complete = complete(embeddings)\n",
    "dendrogram(linkage_array_complete, p=6, truncate_mode=\"level\")"
   ]
  },
  {
   "cell_type": "code",
   "execution_count": 115,
   "metadata": {
    "tags": []
   },
   "outputs": [
    {
     "data": {
      "text/plain": [
       "{'icoord': [[25.0, 25.0, 35.0, 35.0],\n",
       "  [15.0, 15.0, 30.0, 30.0],\n",
       "  [65.0, 65.0, 75.0, 75.0],\n",
       "  [85.0, 85.0, 95.0, 95.0],\n",
       "  [105.0, 105.0, 115.0, 115.0],\n",
       "  [90.0, 90.0, 110.0, 110.0],\n",
       "  [70.0, 70.0, 100.0, 100.0],\n",
       "  [55.0, 55.0, 85.0, 85.0],\n",
       "  [45.0, 45.0, 70.0, 70.0],\n",
       "  [22.5, 22.5, 57.5, 57.5],\n",
       "  [5.0, 5.0, 40.0, 40.0]],\n",
       " 'dcoord': [[0.0, 7.724846212078611, 7.724846212078611, 0.0],\n",
       "  [0.0, 11.106018320194782, 11.106018320194782, 7.724846212078611],\n",
       "  [0.0, 11.583064631778349, 11.583064631778349, 0.0],\n",
       "  [0.0, 9.40577138073415, 9.40577138073415, 0.0],\n",
       "  [0.0, 11.607443382163686, 11.607443382163686, 0.0],\n",
       "  [9.40577138073415, 11.65038328009934, 11.65038328009934, 11.607443382163686],\n",
       "  [11.583064631778349,\n",
       "   11.81569407287557,\n",
       "   11.81569407287557,\n",
       "   11.65038328009934],\n",
       "  [0.0, 11.968887116657957, 11.968887116657957, 11.81569407287557],\n",
       "  [0.0, 12.053373122353559, 12.053373122353559, 11.968887116657957],\n",
       "  [11.106018320194782,\n",
       "   12.095111961179688,\n",
       "   12.095111961179688,\n",
       "   12.053373122353559],\n",
       "  [0.0, 12.111800991434091, 12.111800991434091, 12.095111961179688]],\n",
       " 'ivl': ['6887',\n",
       "  '6749',\n",
       "  '4253',\n",
       "  '4254',\n",
       "  '7365',\n",
       "  '8176',\n",
       "  '3402',\n",
       "  '8736',\n",
       "  '5359',\n",
       "  '7414',\n",
       "  '(2)',\n",
       "  '(9088)'],\n",
       " 'leaves': [6887,\n",
       "  6749,\n",
       "  4253,\n",
       "  4254,\n",
       "  7365,\n",
       "  8176,\n",
       "  3402,\n",
       "  8736,\n",
       "  5359,\n",
       "  7414,\n",
       "  18124,\n",
       "  18191],\n",
       " 'color_list': ['C1',\n",
       "  'C0',\n",
       "  'C0',\n",
       "  'C0',\n",
       "  'C0',\n",
       "  'C0',\n",
       "  'C0',\n",
       "  'C0',\n",
       "  'C0',\n",
       "  'C0',\n",
       "  'C0'],\n",
       " 'leaves_color_list': ['C0',\n",
       "  'C0',\n",
       "  'C1',\n",
       "  'C1',\n",
       "  'C0',\n",
       "  'C0',\n",
       "  'C0',\n",
       "  'C0',\n",
       "  'C0',\n",
       "  'C0',\n",
       "  'C0',\n",
       "  'C0']}"
      ]
     },
     "execution_count": 115,
     "metadata": {},
     "output_type": "execute_result"
    },
    {
     "data": {
      "image/png": "[encoded data removed]",
      "text/plain": [
       "<Figure size 800x550 with 1 Axes>"
      ]
     },
     "metadata": {},
     "output_type": "display_data"
    }
   ],
   "source": [
    "# creating dendrogram with average linkage, truncate with 6 levels\n",
    "linkage_array_average = average(embeddings)\n",
    "dendrogram(linkage_array_average, p=6, truncate_mode=\"level\")\n"
   ]
  },
  {
   "cell_type": "code",
   "execution_count": 116,
   "metadata": {},
   "outputs": [
    {
     "data": {
      "text/plain": [
       "{'icoord': [[5.0, 5.0, 15.0, 15.0],\n",
       "  [25.0, 25.0, 35.0, 35.0],\n",
       "  [10.0, 10.0, 30.0, 30.0],\n",
       "  [45.0, 45.0, 55.0, 55.0],\n",
       "  [65.0, 65.0, 75.0, 75.0],\n",
       "  [50.0, 50.0, 70.0, 70.0],\n",
       "  [20.0, 20.0, 60.0, 60.0],\n",
       "  [85.0, 85.0, 95.0, 95.0],\n",
       "  [105.0, 105.0, 115.0, 115.0],\n",
       "  [90.0, 90.0, 110.0, 110.0],\n",
       "  [125.0, 125.0, 135.0, 135.0],\n",
       "  [145.0, 145.0, 155.0, 155.0],\n",
       "  [130.0, 130.0, 150.0, 150.0],\n",
       "  [100.0, 100.0, 140.0, 140.0],\n",
       "  [40.0, 40.0, 120.0, 120.0],\n",
       "  [165.0, 165.0, 175.0, 175.0],\n",
       "  [185.0, 185.0, 195.0, 195.0],\n",
       "  [170.0, 170.0, 190.0, 190.0],\n",
       "  [205.0, 205.0, 215.0, 215.0],\n",
       "  [225.0, 225.0, 235.0, 235.0],\n",
       "  [210.0, 210.0, 230.0, 230.0],\n",
       "  [180.0, 180.0, 220.0, 220.0],\n",
       "  [245.0, 245.0, 255.0, 255.0],\n",
       "  [265.0, 265.0, 275.0, 275.0],\n",
       "  [250.0, 250.0, 270.0, 270.0],\n",
       "  [285.0, 285.0, 295.0, 295.0],\n",
       "  [305.0, 305.0, 315.0, 315.0],\n",
       "  [290.0, 290.0, 310.0, 310.0],\n",
       "  [260.0, 260.0, 300.0, 300.0],\n",
       "  [200.0, 200.0, 280.0, 280.0],\n",
       "  [80.0, 80.0, 240.0, 240.0],\n",
       "  [325.0, 325.0, 335.0, 335.0],\n",
       "  [345.0, 345.0, 355.0, 355.0],\n",
       "  [330.0, 330.0, 350.0, 350.0],\n",
       "  [365.0, 365.0, 375.0, 375.0],\n",
       "  [385.0, 385.0, 395.0, 395.0],\n",
       "  [370.0, 370.0, 390.0, 390.0],\n",
       "  [340.0, 340.0, 380.0, 380.0],\n",
       "  [405.0, 405.0, 415.0, 415.0],\n",
       "  [425.0, 425.0, 435.0, 435.0],\n",
       "  [410.0, 410.0, 430.0, 430.0],\n",
       "  [445.0, 445.0, 455.0, 455.0],\n",
       "  [465.0, 465.0, 475.0, 475.0],\n",
       "  [450.0, 450.0, 470.0, 470.0],\n",
       "  [420.0, 420.0, 460.0, 460.0],\n",
       "  [360.0, 360.0, 440.0, 440.0],\n",
       "  [485.0, 485.0, 495.0, 495.0],\n",
       "  [505.0, 505.0, 515.0, 515.0],\n",
       "  [490.0, 490.0, 510.0, 510.0],\n",
       "  [525.0, 525.0, 535.0, 535.0],\n",
       "  [545.0, 545.0, 555.0, 555.0],\n",
       "  [530.0, 530.0, 550.0, 550.0],\n",
       "  [500.0, 500.0, 540.0, 540.0],\n",
       "  [565.0, 565.0, 575.0, 575.0],\n",
       "  [585.0, 585.0, 595.0, 595.0],\n",
       "  [570.0, 570.0, 590.0, 590.0],\n",
       "  [605.0, 605.0, 615.0, 615.0],\n",
       "  [625.0, 625.0, 635.0, 635.0],\n",
       "  [610.0, 610.0, 630.0, 630.0],\n",
       "  [580.0, 580.0, 620.0, 620.0],\n",
       "  [520.0, 520.0, 600.0, 600.0],\n",
       "  [400.0, 400.0, 560.0, 560.0],\n",
       "  [160.0, 160.0, 480.0, 480.0],\n",
       "  [645.0, 645.0, 655.0, 655.0],\n",
       "  [665.0, 665.0, 675.0, 675.0],\n",
       "  [650.0, 650.0, 670.0, 670.0],\n",
       "  [685.0, 685.0, 695.0, 695.0],\n",
       "  [705.0, 705.0, 715.0, 715.0],\n",
       "  [690.0, 690.0, 710.0, 710.0],\n",
       "  [660.0, 660.0, 700.0, 700.0],\n",
       "  [725.0, 725.0, 735.0, 735.0],\n",
       "  [745.0, 745.0, 755.0, 755.0],\n",
       "  [730.0, 730.0, 750.0, 750.0],\n",
       "  [765.0, 765.0, 775.0, 775.0],\n",
       "  [785.0, 785.0, 795.0, 795.0],\n",
       "  [770.0, 770.0, 790.0, 790.0],\n",
       "  [740.0, 740.0, 780.0, 780.0],\n",
       "  [680.0, 680.0, 760.0, 760.0],\n",
       "  [805.0, 805.0, 815.0, 815.0],\n",
       "  [825.0, 825.0, 835.0, 835.0],\n",
       "  [810.0, 810.0, 830.0, 830.0],\n",
       "  [845.0, 845.0, 855.0, 855.0],\n",
       "  [865.0, 865.0, 875.0, 875.0],\n",
       "  [850.0, 850.0, 870.0, 870.0],\n",
       "  [820.0, 820.0, 860.0, 860.0],\n",
       "  [885.0, 885.0, 895.0, 895.0],\n",
       "  [905.0, 905.0, 915.0, 915.0],\n",
       "  [890.0, 890.0, 910.0, 910.0],\n",
       "  [925.0, 925.0, 935.0, 935.0],\n",
       "  [945.0, 945.0, 955.0, 955.0],\n",
       "  [930.0, 930.0, 950.0, 950.0],\n",
       "  [900.0, 900.0, 940.0, 940.0],\n",
       "  [840.0, 840.0, 920.0, 920.0],\n",
       "  [720.0, 720.0, 880.0, 880.0],\n",
       "  [965.0, 965.0, 975.0, 975.0],\n",
       "  [985.0, 985.0, 995.0, 995.0],\n",
       "  [970.0, 970.0, 990.0, 990.0],\n",
       "  [1005.0, 1005.0, 1015.0, 1015.0],\n",
       "  [1025.0, 1025.0, 1035.0, 1035.0],\n",
       "  [1010.0, 1010.0, 1030.0, 1030.0],\n",
       "  [980.0, 980.0, 1020.0, 1020.0],\n",
       "  [1045.0, 1045.0, 1055.0, 1055.0],\n",
       "  [1065.0, 1065.0, 1075.0, 1075.0],\n",
       "  [1050.0, 1050.0, 1070.0, 1070.0],\n",
       "  [1085.0, 1085.0, 1095.0, 1095.0],\n",
       "  [1105.0, 1105.0, 1115.0, 1115.0],\n",
       "  [1090.0, 1090.0, 1110.0, 1110.0],\n",
       "  [1060.0, 1060.0, 1100.0, 1100.0],\n",
       "  [1000.0, 1000.0, 1080.0, 1080.0],\n",
       "  [1125.0, 1125.0, 1135.0, 1135.0],\n",
       "  [1145.0, 1145.0, 1155.0, 1155.0],\n",
       "  [1130.0, 1130.0, 1150.0, 1150.0],\n",
       "  [1165.0, 1165.0, 1175.0, 1175.0],\n",
       "  [1185.0, 1185.0, 1195.0, 1195.0],\n",
       "  [1170.0, 1170.0, 1190.0, 1190.0],\n",
       "  [1140.0, 1140.0, 1180.0, 1180.0],\n",
       "  [1205.0, 1205.0, 1215.0, 1215.0],\n",
       "  [1225.0, 1225.0, 1235.0, 1235.0],\n",
       "  [1210.0, 1210.0, 1230.0, 1230.0],\n",
       "  [1245.0, 1245.0, 1255.0, 1255.0],\n",
       "  [1265.0, 1265.0, 1275.0, 1275.0],\n",
       "  [1250.0, 1250.0, 1270.0, 1270.0],\n",
       "  [1220.0, 1220.0, 1260.0, 1260.0],\n",
       "  [1160.0, 1160.0, 1240.0, 1240.0],\n",
       "  [1040.0, 1040.0, 1200.0, 1200.0],\n",
       "  [800.0, 800.0, 1120.0, 1120.0],\n",
       "  [320.0, 320.0, 960.0, 960.0]],\n",
       " 'dcoord': [[0.0, 6.023996417911016, 6.023996417911016, 0.0],\n",
       "  [0.0, 6.294458078234059, 6.294458078234059, 0.0],\n",
       "  [6.023996417911016, 6.556413615257133, 6.556413615257133, 6.294458078234059],\n",
       "  [0.0, 5.742290313061047, 5.742290313061047, 0.0],\n",
       "  [0.0, 6.589054667580459, 6.589054667580459, 0.0],\n",
       "  [5.742290313061047,\n",
       "   7.2962884821192775,\n",
       "   7.2962884821192775,\n",
       "   6.589054667580459],\n",
       "  [6.556413615257133,\n",
       "   11.147495482411754,\n",
       "   11.147495482411754,\n",
       "   7.2962884821192775],\n",
       "  [0.0, 7.466140242374309, 7.466140242374309, 0.0],\n",
       "  [0.0, 13.293145261190459, 13.293145261190459, 0.0],\n",
       "  [7.466140242374309,\n",
       "   17.38455285279294,\n",
       "   17.38455285279294,\n",
       "   13.293145261190459],\n",
       "  [0.0, 13.709818873386777, 13.709818873386777, 0.0],\n",
       "  [0.0, 16.85711766402558, 16.85711766402558, 0.0],\n",
       "  [13.709818873386777,\n",
       "   17.48174137235902,\n",
       "   17.48174137235902,\n",
       "   16.85711766402558],\n",
       "  [17.38455285279294,\n",
       "   19.304977403702768,\n",
       "   19.304977403702768,\n",
       "   17.48174137235902],\n",
       "  [11.147495482411754,\n",
       "   22.508094956289156,\n",
       "   22.508094956289156,\n",
       "   19.304977403702768],\n",
       "  [0.0, 11.305997214674122, 11.305997214674122, 0.0],\n",
       "  [0.0, 13.12698845518523, 13.12698845518523, 0.0],\n",
       "  [11.305997214674122,\n",
       "   14.62843619197522,\n",
       "   14.62843619197522,\n",
       "   13.12698845518523],\n",
       "  [0.0, 13.335258164141438, 13.335258164141438, 0.0],\n",
       "  [0.0, 14.550879000895918, 14.550879000895918, 0.0],\n",
       "  [13.335258164141438,\n",
       "   16.18321607155159,\n",
       "   16.18321607155159,\n",
       "   14.550879000895918],\n",
       "  [14.62843619197522,\n",
       "   18.217814818015018,\n",
       "   18.217814818015018,\n",
       "   16.18321607155159],\n",
       "  [0.0, 14.357657278041428, 14.357657278041428, 0.0],\n",
       "  [0.0, 14.929650084800244, 14.929650084800244, 0.0],\n",
       "  [14.357657278041428,\n",
       "   16.15976797042554,\n",
       "   16.15976797042554,\n",
       "   14.929650084800244],\n",
       "  [0.0, 11.553214571714049, 11.553214571714049, 0.0],\n",
       "  [0.0, 11.562819627692178, 11.562819627692178, 0.0],\n",
       "  [11.553214571714049, 16.3406811469219, 16.3406811469219, 11.562819627692178],\n",
       "  [16.15976797042554, 18.59691366020338, 18.59691366020338, 16.3406811469219],\n",
       "  [18.217814818015018,\n",
       "   24.48521585142799,\n",
       "   24.48521585142799,\n",
       "   18.59691366020338],\n",
       "  [22.508094956289156,\n",
       "   29.186881356326477,\n",
       "   29.186881356326477,\n",
       "   24.48521585142799],\n",
       "  [0.0, 8.140156539123094, 8.140156539123094, 0.0],\n",
       "  [0.0, 12.772291759598517, 12.772291759598517, 0.0],\n",
       "  [8.140156539123094,\n",
       "   13.756857078549075,\n",
       "   13.756857078549075,\n",
       "   12.772291759598517],\n",
       "  [0.0, 16.7775885598715, 16.7775885598715, 0.0],\n",
       "  [0.0, 19.1615407686372, 19.1615407686372, 0.0],\n",
       "  [16.7775885598715, 21.21789754703008, 21.21789754703008, 19.1615407686372],\n",
       "  [13.756857078549075,\n",
       "   26.870047652727443,\n",
       "   26.870047652727443,\n",
       "   21.21789754703008],\n",
       "  [0.0, 11.368305775228771, 11.368305775228771, 0.0],\n",
       "  [0.0, 13.322873667504346, 13.322873667504346, 0.0],\n",
       "  [11.368305775228771,\n",
       "   14.583342640540064,\n",
       "   14.583342640540064,\n",
       "   13.322873667504346],\n",
       "  [0.0, 10.660256093268762, 10.660256093268762, 0.0],\n",
       "  [0.0, 14.48630220986816, 14.48630220986816, 0.0],\n",
       "  [10.660256093268762,\n",
       "   15.885573929378534,\n",
       "   15.885573929378534,\n",
       "   14.48630220986816],\n",
       "  [14.583342640540064,\n",
       "   27.929688805113546,\n",
       "   27.929688805113546,\n",
       "   15.885573929378534],\n",
       "  [26.870047652727443,\n",
       "   30.09886585035919,\n",
       "   30.09886585035919,\n",
       "   27.929688805113546],\n",
       "  [0.0, 8.018522575587305, 8.018522575587305, 0.0],\n",
       "  [0.0, 11.018252521108085, 11.018252521108085, 0.0],\n",
       "  [8.018522575587305,\n",
       "   12.522726623761079,\n",
       "   12.522726623761079,\n",
       "   11.018252521108085],\n",
       "  [0.0, 13.111652601235056, 13.111652601235056, 0.0],\n",
       "  [0.0, 24.149393219188685, 24.149393219188685, 0.0],\n",
       "  [13.111652601235056,\n",
       "   25.30648538559475,\n",
       "   25.30648538559475,\n",
       "   24.149393219188685],\n",
       "  [12.522726623761079, 26.6286822625046, 26.6286822625046, 25.30648538559475],\n",
       "  [0.0, 15.62966751880685, 15.62966751880685, 0.0],\n",
       "  [0.0, 15.67846164173909, 15.67846164173909, 0.0],\n",
       "  [15.62966751880685,\n",
       "   21.368466373265612,\n",
       "   21.368466373265612,\n",
       "   15.67846164173909],\n",
       "  [0.0, 15.935174070755757, 15.935174070755757, 0.0],\n",
       "  [0.0, 49.816132774715605, 49.816132774715605, 0.0],\n",
       "  [15.935174070755757,\n",
       "   54.96764395353374,\n",
       "   54.96764395353374,\n",
       "   49.816132774715605],\n",
       "  [21.368466373265612,\n",
       "   58.416946675218455,\n",
       "   58.416946675218455,\n",
       "   54.96764395353374],\n",
       "  [26.6286822625046,\n",
       "   63.190564836070955,\n",
       "   63.190564836070955,\n",
       "   58.416946675218455],\n",
       "  [30.09886585035919,\n",
       "   93.40409593509746,\n",
       "   93.40409593509746,\n",
       "   63.190564836070955],\n",
       "  [29.186881356326477,\n",
       "   103.01822870772179,\n",
       "   103.01822870772179,\n",
       "   93.40409593509746],\n",
       "  [0.0, 12.431438693070357, 12.431438693070357, 0.0],\n",
       "  [0.0, 12.555701864988132, 12.555701864988132, 0.0],\n",
       "  [12.431438693070357,\n",
       "   13.476994171406497,\n",
       "   13.476994171406497,\n",
       "   12.555701864988132],\n",
       "  [0.0, 12.353464336774136, 12.353464336774136, 0.0],\n",
       "  [0.0, 12.833191347576934, 12.833191347576934, 0.0],\n",
       "  [12.353464336774136,\n",
       "   14.907454053808365,\n",
       "   14.907454053808365,\n",
       "   12.833191347576934],\n",
       "  [13.476994171406497,\n",
       "   23.05922583333458,\n",
       "   23.05922583333458,\n",
       "   14.907454053808365],\n",
       "  [0.0, 26.997761914549848, 26.997761914549848, 0.0],\n",
       "  [0.0, 31.199920571620446, 31.199920571620446, 0.0],\n",
       "  [26.997761914549848,\n",
       "   35.22629893418569,\n",
       "   35.22629893418569,\n",
       "   31.199920571620446],\n",
       "  [0.0, 31.548304531244774, 31.548304531244774, 0.0],\n",
       "  [0.0, 35.4070843146638, 35.4070843146638, 0.0],\n",
       "  [31.548304531244774, 36.76795014492994, 36.76795014492994, 35.4070843146638],\n",
       "  [35.22629893418569, 45.92400599683705, 45.92400599683705, 36.76795014492994],\n",
       "  [23.05922583333458, 53.07105985929831, 53.07105985929831, 45.92400599683705],\n",
       "  [0.0, 7.838951459046217, 7.838951459046217, 0.0],\n",
       "  [0.0, 12.555044784735284, 12.555044784735284, 0.0],\n",
       "  [7.838951459046217,\n",
       "   16.728649028048608,\n",
       "   16.728649028048608,\n",
       "   12.555044784735284],\n",
       "  [0.0, 16.036222771017666, 16.036222771017666, 0.0],\n",
       "  [0.0, 19.74064691787656, 19.74064691787656, 0.0],\n",
       "  [16.036222771017666,\n",
       "   38.70538918136873,\n",
       "   38.70538918136873,\n",
       "   19.74064691787656],\n",
       "  [16.728649028048608,\n",
       "   41.52570571553973,\n",
       "   41.52570571553973,\n",
       "   38.70538918136873],\n",
       "  [0.0, 25.83307053060869, 25.83307053060869, 0.0],\n",
       "  [0.0, 29.462342062375182, 29.462342062375182, 0.0],\n",
       "  [25.83307053060869,\n",
       "   32.625252116661905,\n",
       "   32.625252116661905,\n",
       "   29.462342062375182],\n",
       "  [0.0, 22.272214674841617, 22.272214674841617, 0.0],\n",
       "  [0.0, 32.55635677956538, 32.55635677956538, 0.0],\n",
       "  [22.272214674841617,\n",
       "   35.551509494612795,\n",
       "   35.551509494612795,\n",
       "   32.55635677956538],\n",
       "  [32.625252116661905,\n",
       "   45.92623694982408,\n",
       "   45.92623694982408,\n",
       "   35.551509494612795],\n",
       "  [41.52570571553973,\n",
       "   54.281880891741075,\n",
       "   54.281880891741075,\n",
       "   45.92623694982408],\n",
       "  [53.07105985929831,\n",
       "   54.868420461132736,\n",
       "   54.868420461132736,\n",
       "   54.281880891741075],\n",
       "  [0.0, 10.964308703593801, 10.964308703593801, 0.0],\n",
       "  [0.0, 11.452334561712723, 11.452334561712723, 0.0],\n",
       "  [10.964308703593801,\n",
       "   12.62198676855677,\n",
       "   12.62198676855677,\n",
       "   11.452334561712723],\n",
       "  [0.0, 12.236480013718815, 12.236480013718815, 0.0],\n",
       "  [0.0, 16.37800799870217, 16.37800799870217, 0.0],\n",
       "  [12.236480013718815,\n",
       "   16.77020264640959,\n",
       "   16.77020264640959,\n",
       "   16.37800799870217],\n",
       "  [12.62198676855677,\n",
       "   22.557897415556408,\n",
       "   22.557897415556408,\n",
       "   16.77020264640959],\n",
       "  [0.0, 7.490793306784714, 7.490793306784714, 0.0],\n",
       "  [0.0, 12.841790427056734, 12.841790427056734, 0.0],\n",
       "  [7.490793306784714,\n",
       "   14.996548086636283,\n",
       "   14.996548086636283,\n",
       "   12.841790427056734],\n",
       "  [0.0, 11.106280471540677, 11.106280471540677, 0.0],\n",
       "  [0.0, 17.120336726741467, 17.120336726741467, 0.0],\n",
       "  [11.106280471540677,\n",
       "   17.97609076795183,\n",
       "   17.97609076795183,\n",
       "   17.120336726741467],\n",
       "  [14.996548086636283,\n",
       "   22.613926343469263,\n",
       "   22.613926343469263,\n",
       "   17.97609076795183],\n",
       "  [22.557897415556408,\n",
       "   39.757086681424454,\n",
       "   39.757086681424454,\n",
       "   22.613926343469263],\n",
       "  [0.0, 10.83956944997477, 10.83956944997477, 0.0],\n",
       "  [0.0, 11.434850453940593, 11.434850453940593, 0.0],\n",
       "  [10.83956944997477,\n",
       "   12.238320146977967,\n",
       "   12.238320146977967,\n",
       "   11.434850453940593],\n",
       "  [0.0, 15.408368884478987, 15.408368884478987, 0.0],\n",
       "  [0.0, 20.21916518847175, 20.21916518847175, 0.0],\n",
       "  [15.408368884478987,\n",
       "   23.550390923535296,\n",
       "   23.550390923535296,\n",
       "   20.21916518847175],\n",
       "  [12.238320146977967,\n",
       "   37.42545625702361,\n",
       "   37.42545625702361,\n",
       "   23.550390923535296],\n",
       "  [0.0, 13.702555207264593, 13.702555207264593, 0.0],\n",
       "  [0.0, 15.027073182817485, 15.027073182817485, 0.0],\n",
       "  [13.702555207264593,\n",
       "   15.80935054692837,\n",
       "   15.80935054692837,\n",
       "   15.027073182817485],\n",
       "  [0.0, 28.949430501877387, 28.949430501877387, 0.0],\n",
       "  [0.0, 48.23453573649546, 48.23453573649546, 0.0],\n",
       "  [28.949430501877387, 49.276770168478, 49.276770168478, 48.23453573649546],\n",
       "  [15.80935054692837, 51.544162735343185, 51.544162735343185, 49.276770168478],\n",
       "  [37.42545625702361,\n",
       "   61.477083213414026,\n",
       "   61.477083213414026,\n",
       "   51.544162735343185],\n",
       "  [39.757086681424454, 86.0014231757294, 86.0014231757294, 61.477083213414026],\n",
       "  [54.868420461132736,\n",
       "   128.89969700606682,\n",
       "   128.89969700606682,\n",
       "   86.0014231757294],\n",
       "  [103.01822870772179,\n",
       "   169.09818918474164,\n",
       "   169.09818918474164,\n",
       "   128.89969700606682]],\n",
       " 'ivl': ['(6)',\n",
       "  '(2)',\n",
       "  '3233',\n",
       "  '(10)',\n",
       "  '4944',\n",
       "  '(2)',\n",
       "  '(3)',\n",
       "  '(7)',\n",
       "  '(4)',\n",
       "  '(7)',\n",
       "  '(60)',\n",
       "  '(35)',\n",
       "  '(12)',\n",
       "  '(19)',\n",
       "  '(160)',\n",
       "  '(56)',\n",
       "  '(10)',\n",
       "  '(4)',\n",
       "  '(60)',\n",
       "  '(22)',\n",
       "  '(15)',\n",
       "  '(10)',\n",
       "  '(23)',\n",
       "  '(24)',\n",
       "  '(33)',\n",
       "  '(147)',\n",
       "  '(43)',\n",
       "  '(23)',\n",
       "  '(15)',\n",
       "  '(15)',\n",
       "  '(5)',\n",
       "  '(10)',\n",
       "  '(11)',\n",
       "  '(9)',\n",
       "  '(24)',\n",
       "  '(40)',\n",
       "  '(131)',\n",
       "  '(129)',\n",
       "  '(68)',\n",
       "  '(46)',\n",
       "  '(13)',\n",
       "  '(64)',\n",
       "  '(56)',\n",
       "  '(25)',\n",
       "  '(20)',\n",
       "  '(25)',\n",
       "  '(4)',\n",
       "  '(43)',\n",
       "  '(4)',\n",
       "  '(27)',\n",
       "  '(4)',\n",
       "  '(7)',\n",
       "  '(24)',\n",
       "  '(25)',\n",
       "  '(58)',\n",
       "  '(182)',\n",
       "  '(17)',\n",
       "  '(56)',\n",
       "  '(7)',\n",
       "  '(61)',\n",
       "  '(29)',\n",
       "  '(200)',\n",
       "  '(777)',\n",
       "  '(445)',\n",
       "  '(5)',\n",
       "  '(19)',\n",
       "  '(5)',\n",
       "  '(12)',\n",
       "  '(14)',\n",
       "  '(12)',\n",
       "  '(8)',\n",
       "  '(34)',\n",
       "  '(26)',\n",
       "  '(105)',\n",
       "  '(40)',\n",
       "  '(239)',\n",
       "  '(60)',\n",
       "  '(107)',\n",
       "  '(40)',\n",
       "  '(82)',\n",
       "  '(3)',\n",
       "  '(9)',\n",
       "  '(11)',\n",
       "  '(22)',\n",
       "  '(63)',\n",
       "  '(40)',\n",
       "  '(32)',\n",
       "  '(46)',\n",
       "  '(41)',\n",
       "  '(79)',\n",
       "  '(217)',\n",
       "  '(146)',\n",
       "  '(62)',\n",
       "  '(199)',\n",
       "  '(32)',\n",
       "  '(372)',\n",
       "  '(17)',\n",
       "  '(32)',\n",
       "  '(5)',\n",
       "  '(15)',\n",
       "  '(8)',\n",
       "  '(2)',\n",
       "  '(29)',\n",
       "  '(12)',\n",
       "  '(4)',\n",
       "  '(14)',\n",
       "  '(33)',\n",
       "  '(55)',\n",
       "  '(16)',\n",
       "  '(11)',\n",
       "  '(48)',\n",
       "  '(166)',\n",
       "  '(3)',\n",
       "  '(5)',\n",
       "  '(9)',\n",
       "  '(6)',\n",
       "  '(38)',\n",
       "  '(12)',\n",
       "  '(102)',\n",
       "  '(210)',\n",
       "  '(80)',\n",
       "  '(39)',\n",
       "  '(7)',\n",
       "  '(13)',\n",
       "  '(70)',\n",
       "  '(184)',\n",
       "  '(167)',\n",
       "  '(2031)'],\n",
       " 'leaves': [12169,\n",
       "  12645,\n",
       "  3233,\n",
       "  12068,\n",
       "  4944,\n",
       "  10021,\n",
       "  12156,\n",
       "  13340,\n",
       "  12985,\n",
       "  13433,\n",
       "  17369,\n",
       "  17449,\n",
       "  16045,\n",
       "  17625,\n",
       "  17891,\n",
       "  17958,\n",
       "  14828,\n",
       "  16176,\n",
       "  16982,\n",
       "  17154,\n",
       "  13935,\n",
       "  16402,\n",
       "  16097,\n",
       "  17215,\n",
       "  16661,\n",
       "  17807,\n",
       "  17137,\n",
       "  17416,\n",
       "  15571,\n",
       "  16323,\n",
       "  11656,\n",
       "  15300,\n",
       "  11429,\n",
       "  13245,\n",
       "  14958,\n",
       "  17187,\n",
       "  17793,\n",
       "  17926,\n",
       "  17747,\n",
       "  17843,\n",
       "  16478,\n",
       "  16743,\n",
       "  17095,\n",
       "  17102,\n",
       "  16548,\n",
       "  16757,\n",
       "  14487,\n",
       "  17779,\n",
       "  13701,\n",
       "  15074,\n",
       "  16620,\n",
       "  16705,\n",
       "  17404,\n",
       "  17566,\n",
       "  17741,\n",
       "  18109,\n",
       "  17631,\n",
       "  17797,\n",
       "  15452,\n",
       "  17763,\n",
       "  16195,\n",
       "  17819,\n",
       "  18178,\n",
       "  18180,\n",
       "  16887,\n",
       "  17380,\n",
       "  17253,\n",
       "  17545,\n",
       "  16813,\n",
       "  17008,\n",
       "  16622,\n",
       "  17244,\n",
       "  17777,\n",
       "  18123,\n",
       "  18129,\n",
       "  18136,\n",
       "  17533,\n",
       "  18132,\n",
       "  17693,\n",
       "  18088,\n",
       "  13734,\n",
       "  15218,\n",
       "  16168,\n",
       "  17047,\n",
       "  17759,\n",
       "  17828,\n",
       "  17909,\n",
       "  17938,\n",
       "  18003,\n",
       "  18078,\n",
       "  18133,\n",
       "  18142,\n",
       "  18020,\n",
       "  18090,\n",
       "  17799,\n",
       "  18152,\n",
       "  15095,\n",
       "  16882,\n",
       "  13757,\n",
       "  15970,\n",
       "  15815,\n",
       "  16046,\n",
       "  17685,\n",
       "  17832,\n",
       "  11786,\n",
       "  13680,\n",
       "  17400,\n",
       "  17576,\n",
       "  14975,\n",
       "  16291,\n",
       "  17532,\n",
       "  17987,\n",
       "  16754,\n",
       "  17070,\n",
       "  17079,\n",
       "  17246,\n",
       "  17365,\n",
       "  17725,\n",
       "  17969,\n",
       "  18052,\n",
       "  17405,\n",
       "  17447,\n",
       "  16820,\n",
       "  17205,\n",
       "  17703,\n",
       "  18120,\n",
       "  18023,\n",
       "  18179],\n",
       " 'color_list': ['C1',\n",
       "  'C1',\n",
       "  'C1',\n",
       "  'C1',\n",
       "  'C1',\n",
       "  'C1',\n",
       "  'C1',\n",
       "  'C1',\n",
       "  'C1',\n",
       "  'C1',\n",
       "  'C1',\n",
       "  'C1',\n",
       "  'C1',\n",
       "  'C1',\n",
       "  'C1',\n",
       "  'C1',\n",
       "  'C1',\n",
       "  'C1',\n",
       "  'C1',\n",
       "  'C1',\n",
       "  'C1',\n",
       "  'C1',\n",
       "  'C1',\n",
       "  'C1',\n",
       "  'C1',\n",
       "  'C1',\n",
       "  'C1',\n",
       "  'C1',\n",
       "  'C1',\n",
       "  'C1',\n",
       "  'C1',\n",
       "  'C1',\n",
       "  'C1',\n",
       "  'C1',\n",
       "  'C1',\n",
       "  'C1',\n",
       "  'C1',\n",
       "  'C1',\n",
       "  'C1',\n",
       "  'C1',\n",
       "  'C1',\n",
       "  'C1',\n",
       "  'C1',\n",
       "  'C1',\n",
       "  'C1',\n",
       "  'C1',\n",
       "  'C1',\n",
       "  'C1',\n",
       "  'C1',\n",
       "  'C1',\n",
       "  'C1',\n",
       "  'C1',\n",
       "  'C1',\n",
       "  'C1',\n",
       "  'C1',\n",
       "  'C1',\n",
       "  'C1',\n",
       "  'C1',\n",
       "  'C1',\n",
       "  'C1',\n",
       "  'C1',\n",
       "  'C1',\n",
       "  'C1',\n",
       "  'C2',\n",
       "  'C2',\n",
       "  'C2',\n",
       "  'C2',\n",
       "  'C2',\n",
       "  'C2',\n",
       "  'C2',\n",
       "  'C2',\n",
       "  'C2',\n",
       "  'C2',\n",
       "  'C2',\n",
       "  'C2',\n",
       "  'C2',\n",
       "  'C2',\n",
       "  'C2',\n",
       "  'C2',\n",
       "  'C2',\n",
       "  'C2',\n",
       "  'C2',\n",
       "  'C2',\n",
       "  'C2',\n",
       "  'C2',\n",
       "  'C2',\n",
       "  'C2',\n",
       "  'C2',\n",
       "  'C2',\n",
       "  'C2',\n",
       "  'C2',\n",
       "  'C2',\n",
       "  'C2',\n",
       "  'C2',\n",
       "  'C3',\n",
       "  'C3',\n",
       "  'C3',\n",
       "  'C3',\n",
       "  'C3',\n",
       "  'C3',\n",
       "  'C3',\n",
       "  'C3',\n",
       "  'C3',\n",
       "  'C3',\n",
       "  'C3',\n",
       "  'C3',\n",
       "  'C3',\n",
       "  'C3',\n",
       "  'C3',\n",
       "  'C3',\n",
       "  'C3',\n",
       "  'C3',\n",
       "  'C3',\n",
       "  'C3',\n",
       "  'C3',\n",
       "  'C3',\n",
       "  'C3',\n",
       "  'C3',\n",
       "  'C3',\n",
       "  'C3',\n",
       "  'C3',\n",
       "  'C3',\n",
       "  'C3',\n",
       "  'C3',\n",
       "  'C3',\n",
       "  'C0',\n",
       "  'C0'],\n",
       " 'leaves_color_list': ['C1',\n",
       "  'C1',\n",
       "  'C1',\n",
       "  'C1',\n",
       "  'C1',\n",
       "  'C1',\n",
       "  'C1',\n",
       "  'C1',\n",
       "  'C1',\n",
       "  'C1',\n",
       "  'C1',\n",
       "  'C1',\n",
       "  'C1',\n",
       "  'C1',\n",
       "  'C1',\n",
       "  'C1',\n",
       "  'C1',\n",
       "  'C1',\n",
       "  'C1',\n",
       "  'C1',\n",
       "  'C1',\n",
       "  'C1',\n",
       "  'C1',\n",
       "  'C1',\n",
       "  'C1',\n",
       "  'C1',\n",
       "  'C1',\n",
       "  'C1',\n",
       "  'C1',\n",
       "  'C1',\n",
       "  'C1',\n",
       "  'C1',\n",
       "  'C1',\n",
       "  'C1',\n",
       "  'C1',\n",
       "  'C1',\n",
       "  'C1',\n",
       "  'C1',\n",
       "  'C1',\n",
       "  'C1',\n",
       "  'C1',\n",
       "  'C1',\n",
       "  'C1',\n",
       "  'C1',\n",
       "  'C1',\n",
       "  'C1',\n",
       "  'C1',\n",
       "  'C1',\n",
       "  'C1',\n",
       "  'C1',\n",
       "  'C1',\n",
       "  'C1',\n",
       "  'C1',\n",
       "  'C1',\n",
       "  'C1',\n",
       "  'C1',\n",
       "  'C1',\n",
       "  'C1',\n",
       "  'C1',\n",
       "  'C1',\n",
       "  'C1',\n",
       "  'C1',\n",
       "  'C1',\n",
       "  'C1',\n",
       "  'C2',\n",
       "  'C2',\n",
       "  'C2',\n",
       "  'C2',\n",
       "  'C2',\n",
       "  'C2',\n",
       "  'C2',\n",
       "  'C2',\n",
       "  'C2',\n",
       "  'C2',\n",
       "  'C2',\n",
       "  'C2',\n",
       "  'C2',\n",
       "  'C2',\n",
       "  'C2',\n",
       "  'C2',\n",
       "  'C2',\n",
       "  'C2',\n",
       "  'C2',\n",
       "  'C2',\n",
       "  'C2',\n",
       "  'C2',\n",
       "  'C2',\n",
       "  'C2',\n",
       "  'C2',\n",
       "  'C2',\n",
       "  'C2',\n",
       "  'C2',\n",
       "  'C2',\n",
       "  'C2',\n",
       "  'C2',\n",
       "  'C2',\n",
       "  'C3',\n",
       "  'C3',\n",
       "  'C3',\n",
       "  'C3',\n",
       "  'C3',\n",
       "  'C3',\n",
       "  'C3',\n",
       "  'C3',\n",
       "  'C3',\n",
       "  'C3',\n",
       "  'C3',\n",
       "  'C3',\n",
       "  'C3',\n",
       "  'C3',\n",
       "  'C3',\n",
       "  'C3',\n",
       "  'C3',\n",
       "  'C3',\n",
       "  'C3',\n",
       "  'C3',\n",
       "  'C3',\n",
       "  'C3',\n",
       "  'C3',\n",
       "  'C3',\n",
       "  'C3',\n",
       "  'C3',\n",
       "  'C3',\n",
       "  'C3',\n",
       "  'C3',\n",
       "  'C3',\n",
       "  'C3',\n",
       "  'C3']}"
      ]
     },
     "execution_count": 116,
     "metadata": {},
     "output_type": "execute_result"
    },
    {
     "data": {
      "image/png": "[encoded data removed]",
      "text/plain": [
       "<Figure size 800x550 with 1 Axes>"
      ]
     },
     "metadata": {},
     "output_type": "display_data"
    }
   ],
   "source": [
    "# creating dendrogram with ward linkage\n",
    "linkage_array_ward = ward(embeddings)\n",
    "dendrogram(linkage_array, p=6, truncate_mode=\"level\")"
   ]
  },
  {
   "cell_type": "markdown",
   "metadata": {},
   "source": [
    "After performing the truncation on the hierachical clustering  with single, complete, average and ward linkage, it is clear to see that the data set can be clustered into 3 groups, and ward seems to be the best approach to determine the distance between clusters."
   ]
  },
  {
   "cell_type": "code",
   "execution_count": 117,
   "metadata": {},
   "outputs": [
    {
     "data": {
      "text/plain": [
       "array([1, 1, 1, ..., 3, 2, 3], dtype=int32)"
      ]
     },
     "execution_count": 117,
     "metadata": {},
     "output_type": "execute_result"
    }
   ],
   "source": [
    "hier_labels_ward = fcluster(linkage_array_ward, 3, criterion=\"maxclust\") \n",
    "hier_labels_ward"
   ]
  },
  {
   "cell_type": "code",
   "execution_count": 118,
   "metadata": {},
   "outputs": [
    {
     "name": "stdout",
     "output_type": "stream",
     "text": [
      "Cluster 1\n",
      "----------\n",
      "mango and raspberry dessert\n",
      "rhubarb cream cheese coffee cake\n",
      "sweet nuts and bolts\n",
      "mixed nut pie\n",
      "cherries  n chips cookies\n",
      "bohemian pastry\n",
      "bethie s baked french toast\n",
      "fluffy banana graham pancakes\n",
      "ferrycarrig traditional irish brown bread\n",
      "easy  banana sheet cake\n",
      "\n",
      "\n",
      "\n",
      "Cluster 2\n",
      "----------\n",
      "baileys kiss\n",
      "cancun coffee\n",
      "beau rivage bloody mary mix\n",
      "italian soda\n",
      "orange julius knock off\n",
      "satin sheets\n",
      "ambrosia macaroons\n",
      "buffalo chicken cups\n",
      "greek rub\n",
      "s   w cafeteria egg custard pie\n",
      "\n",
      "\n",
      "\n",
      "Cluster 3\n",
      "----------\n",
      "cheddary vegetable gratin\n",
      "smoky chipotle lime sour cream\n",
      "ground turkey   rice\n",
      "aloopsie casserole\n",
      "chicken capri sbd\n",
      "fatima s cape malay curry\n",
      "spicy chicken soup\n",
      "peppercorn crusted salmon with white wine butter sauce\n",
      "roasted balsamic vegetables    mmm\n",
      "shrimp remoulade sauce\n",
      "\n",
      "\n",
      "\n"
     ]
    }
   ],
   "source": [
    "print_clusters(recipes_df, hier_labels_ward, n_recipes=10, replace=True, random_state=None)"
   ]
  },
  {
   "cell_type": "markdown",
   "metadata": {
    "deletable": false,
    "editable": false
   },
   "source": [
    "<!-- END QUESTION -->\n",
    "\n",
    "<br><br>"
   ]
  },
  {
   "cell_type": "markdown",
   "metadata": {
    "deletable": false,
    "editable": false
   },
   "source": [
    "<!-- BEGIN QUESTION -->\n",
    "\n",
    "### 3.4 Manual interpretation of clusters\n",
    "rubric={points}\n",
    "\n",
    "**Your tasks:**\n",
    "\n",
    "1. Label the topics/themes you see in the clusters created by different clustering methods.  \n",
    "2. Do you see a common theme across clusters created by different clustering methods? Do you see any differences between the clusters created by different clustering methods? "
   ]
  },
  {
   "cell_type": "markdown",
   "metadata": {
    "deletable": false,
    "editable": false
   },
   "source": [
    "<div class=\"alert alert-warning\">\n",
    "\n",
    "Solution_3.4\n",
    "    \n",
    "</div>\n",
    "\n",
    "_Points:_ 6"
   ]
  },
  {
   "cell_type": "markdown",
   "metadata": {},
   "source": [
    "_Type your answer here, replacing this text._"
   ]
  },
  {
   "cell_type": "markdown",
   "metadata": {
    "deletable": false,
    "editable": false
   },
   "source": [
    "<!-- END QUESTION -->\n",
    "\n",
    "<br><br><br><br>"
   ]
  },
  {
   "cell_type": "markdown",
   "metadata": {},
   "source": [
    "**Before submitting your assignment, please make sure you have followed all the instructions in the Submission instructions section at the top.** "
   ]
  },
  {
   "cell_type": "markdown",
   "metadata": {},
   "source": [
    "![](img/eva-well-done.png)"
   ]
  }
 ],
 "metadata": {
  "kernelspec": {
   "display_name": "cpsc330",
   "language": "python",
   "name": "python3"
  },
  "language_info": {
   "codemirror_mode": {
    "name": "ipython",
    "version": 3
   },
   "file_extension": ".py",
   "mimetype": "text/x-python",
   "name": "python",
   "nbconvert_exporter": "python",
   "pygments_lexer": "ipython3",
   "version": "3.10.0"
  },
  "otter": {
   "OK_FORMAT": true,
   "tests": {
    "q1.1": {
     "name": "q1.1",
     "points": 1,
     "suites": [
      {
       "cases": [
        {
         "code": ">>> a = 3\n>>> assert a == 3, 'All good'\n",
         "hidden": false,
         "locked": false
        }
       ],
       "scored": true,
       "setup": "",
       "teardown": "",
       "type": "doctest"
      }
     ]
    }
   }
  }
 },
 "nbformat": 4,
 "nbformat_minor": 4
}
